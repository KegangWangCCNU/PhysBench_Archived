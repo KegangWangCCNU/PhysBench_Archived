{
 "cells": [
  {
   "cell_type": "code",
   "execution_count": 20,
   "metadata": {},
   "outputs": [
    {
     "name": "stdout",
     "output_type": "stream",
     "text": [
      "The autoreload extension is already loaded. To reload it, use:\n",
      "  %reload_ext autoreload\n"
     ]
    }
   ],
   "source": [
    "%load_ext autoreload\n",
    "%autoreload 2\n",
    "import sys\n",
    "sys.path.append(\"..\")\n",
    "from utils import *\n",
    "from models import *"
   ]
  },
  {
   "cell_type": "code",
   "execution_count": 21,
   "metadata": {},
   "outputs": [],
   "source": [
    "train_tape = \"Z:/rppg/pure_datatape_160x36x36_train.h5\"\n",
    "valid_tape = \"Z:/rppg/pure_datatape_160x36x36_valid.h5\"\n",
    "\n",
    "train =  load_datatape(train_tape, use_normalized_bvp=True)\n",
    "valid = load_datatape(valid_tape, use_normalized_bvp=False)\n",
    "\n",
    "def to_tf_deep_phys(datatape, dtype=tf.float16):\n",
    "    def _():\n",
    "        for i, j in datatape:\n",
    "            j = tf.concat([j[1:]-j[:-1], [0]], axis=0)\n",
    "            #yield i, (j-tf.reduce_mean(j, axis=0))/(tf.math.reduce_std(j, axis=0)+1e-6)\n",
    "            yield i, j\n",
    "    return tf.data.Dataset.from_generator(lambda :_(), output_types=(dtype, dtype), output_shapes=(datatape.shape, datatape.shape[:1]))\n",
    "\n",
    "#train, valid = to_tf_deep_phys(train).cache(f'{tmp}/deepphys'), to_tf_deep_phys(valid).cache(f'{tmp}/deepphys')\n",
    "train, valid = to_tf_deep_phys(train), to_tf_deep_phys(valid)"
   ]
  },
  {
   "cell_type": "code",
   "execution_count": 22,
   "metadata": {},
   "outputs": [
    {
     "name": "stdout",
     "output_type": "stream",
     "text": [
      "Flops per frame:52158718\n",
      "Model: \"deep_phys_end_to_end_2\"\n",
      "_________________________________________________________________\n",
      "Layer (type)                 Output Shape              Param #   \n",
      "=================================================================\n",
      "model_2 (Functional)         (None, 1)                 532899    \n",
      "=================================================================\n",
      "Total params: 532,899\n",
      "Trainable params: 532,899\n",
      "Non-trainable params: 0\n",
      "_________________________________________________________________\n"
     ]
    }
   ],
   "source": [
    "deepphys = DeepPhys_end_to_end()\n",
    "deepphys.compile(optimizer='Nadam', loss='mse')\n",
    "deepphys.build(input_shape=(None, 36, 36, 3))\n",
    "print(f'Flops per frame:{get_flops(deepphys, input_sig=[tf.TensorSpec([160, 36, 36, 3])])/160:.0f}')\n",
    "deepphys.summary()"
   ]
  },
  {
   "cell_type": "code",
   "execution_count": 23,
   "metadata": {},
   "outputs": [
    {
     "name": "stdout",
     "output_type": "stream",
     "text": [
      "Epoch 1/10\n",
      "780/780 [==============================] - 21s 22ms/step - loss: 0.1680 - val_loss: 0.1389\n",
      "\n",
      "Epoch 00001: val_loss improved from inf to 0.13888, saving model to ../weights\\DeepPhys_PURE.h5\n",
      "Epoch 2/10\n",
      "780/780 [==============================] - 20s 22ms/step - loss: 0.1850 - val_loss: 0.1376\n",
      "\n",
      "Epoch 00002: val_loss improved from 0.13888 to 0.13756, saving model to ../weights\\DeepPhys_PURE.h5\n",
      "Epoch 3/10\n",
      "780/780 [==============================] - 20s 22ms/step - loss: 0.1589 - val_loss: 0.1323\n",
      "\n",
      "Epoch 00003: val_loss improved from 0.13756 to 0.13226, saving model to ../weights\\DeepPhys_PURE.h5\n",
      "Epoch 4/10\n",
      "780/780 [==============================] - 20s 22ms/step - loss: 0.1562 - val_loss: 0.1269\n",
      "\n",
      "Epoch 00004: val_loss improved from 0.13226 to 0.12693, saving model to ../weights\\DeepPhys_PURE.h5\n",
      "Epoch 5/10\n",
      "780/780 [==============================] - 32s 36ms/step - loss: 0.1537 - val_loss: 0.1248\n",
      "\n",
      "Epoch 00005: val_loss improved from 0.12693 to 0.12476, saving model to ../weights\\DeepPhys_PURE.h5\n",
      "Epoch 6/10\n",
      "780/780 [==============================] - 29s 33ms/step - loss: 0.1521 - val_loss: 0.1213\n",
      "\n",
      "Epoch 00006: val_loss improved from 0.12476 to 0.12126, saving model to ../weights\\DeepPhys_PURE.h5\n",
      "Epoch 7/10\n",
      "780/780 [==============================] - 30s 32ms/step - loss: 0.1509 - val_loss: 0.1219\n",
      "\n",
      "Epoch 00007: val_loss did not improve from 0.12126\n",
      "Epoch 8/10\n",
      "780/780 [==============================] - 20s 22ms/step - loss: 0.1498 - val_loss: 0.1215\n",
      "\n",
      "Epoch 00008: val_loss did not improve from 0.12126\n",
      "Epoch 9/10\n",
      "780/780 [==============================] - 20s 22ms/step - loss: 0.1491 - val_loss: 0.1220\n",
      "\n",
      "Epoch 00009: val_loss did not improve from 0.12126\n",
      "Epoch 10/10\n",
      "780/780 [==============================] - 20s 22ms/step - loss: 0.1486 - val_loss: 0.1213\n",
      "\n",
      "Epoch 00010: val_loss did not improve from 0.12126\n"
     ]
    }
   ],
   "source": [
    "deepphys.fit(train.shuffle(2000), validation_data=valid, epochs=10, callbacks=[keras.callbacks.ModelCheckpoint('../weights/DeepPhys_PURE.h5', monitor='val_loss', verbose=1, save_best_only=True, mode='min', save_weights_only=True)])\n",
    "deepphys.load_weights('../weights/DeepPhys_PURE.h5')"
   ]
  },
  {
   "cell_type": "code",
   "execution_count": 24,
   "metadata": {},
   "outputs": [],
   "source": [
    "def cumsum(result, overwrite=True):\n",
    "    with h5py.File(result, 'a') as f:\n",
    "        for i, j in f.items():\n",
    "            if 'diff' not in j.keys():\n",
    "                j.create_dataset('diff', data=j['predict'])\n",
    "                j['predict'][...] = detrend(np.cumsum(j['diff']))\n",
    "            elif overwrite:\n",
    "                j['predict'][...] = detrend(np.cumsum(j['diff']))"
   ]
  },
  {
   "cell_type": "code",
   "execution_count": 25,
   "metadata": {},
   "outputs": [
    {
     "name": "stderr",
     "output_type": "stream",
     "text": [
      "100%|██████████| 42/42 [00:20<00:00,  2.01it/s]\n"
     ]
    },
    {
     "data": {
      "text/plain": [
       "{'Sliding window': {'MAE': 4.714, 'RMSE': 11.605, 'R': 0.82481},\n",
       " 'Whole video': {'MAE': 3.124, 'RMSE': 8.774, 'R': 0.89676}}"
      ]
     },
     "execution_count": 25,
     "metadata": {},
     "output_type": "execute_result"
    }
   ],
   "source": [
    "eval_on_dataset(test_set_UBFC_rPPG2, deepphys, 160, (36, 36), step=1, batch=0, save='../results/DeepPhys_PURE_UBFC.h5', sample=cv2.INTER_CUBIC)\n",
    "cumsum('../results/DeepPhys_PURE_UBFC.h5')\n",
    "get_metrics('../results/DeepPhys_PURE_UBFC.h5')"
   ]
  }
 ],
 "metadata": {
  "kernelspec": {
   "display_name": "dl",
   "language": "python",
   "name": "python3"
  },
  "language_info": {
   "codemirror_mode": {
    "name": "ipython",
    "version": 3
   },
   "file_extension": ".py",
   "mimetype": "text/x-python",
   "name": "python",
   "nbconvert_exporter": "python",
   "pygments_lexer": "ipython3",
   "version": "3.9.16"
  },
  "orig_nbformat": 4
 },
 "nbformat": 4,
 "nbformat_minor": 2
}
