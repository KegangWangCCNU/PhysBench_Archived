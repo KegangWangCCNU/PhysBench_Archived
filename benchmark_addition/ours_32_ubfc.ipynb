{
 "cells": [
  {
   "cell_type": "code",
   "execution_count": 1,
   "metadata": {},
   "outputs": [],
   "source": [
    "%load_ext autoreload\n",
    "%autoreload 2\n",
    "import sys\n",
    "sys.path.append(\"..\")\n",
    "from utils import *\n",
    "from models import *"
   ]
  },
  {
   "cell_type": "code",
   "execution_count": 2,
   "metadata": {},
   "outputs": [],
   "source": [
    "train_tape = \"Z:/rppg/ubfc_datatape_450x32x32_train.h5\"\n",
    "valid_tape = \"Z:/rppg/ubfc_datatape_450x32x32_valid.h5\"\n",
    "\n",
    "train =  load_datatape(train_tape, use_normalized_bvp=True)\n",
    "valid = load_datatape(valid_tape, use_normalized_bvp=False)\n",
    "train, valid = to_tf(train).cache(), to_tf(valid).cache()"
   ]
  },
  {
   "cell_type": "code",
   "execution_count": 3,
   "metadata": {},
   "outputs": [
    {
     "name": "stdout",
     "output_type": "stream",
     "text": [
      "WARNING:tensorflow:From x:\\Users\\wkg\\anaconda3\\envs\\dl\\lib\\site-packages\\tensorflow\\python\\profiler\\internal\\flops_registry.py:243: tensor_shape_from_node_def_name (from tensorflow.python.framework.graph_util_impl) is deprecated and will be removed in a future version.\n",
      "Instructions for updating:\n",
      "Use `tf.compat.v1.graph_util.tensor_shape_from_node_def_name`\n",
      "Flops per frame:633997\n",
      "Model: \"m_1\"\n",
      "_________________________________________________________________\n",
      "Layer (type)                 Output Shape              Param #   \n",
      "=================================================================\n",
      "sequential (Sequential)      (None, 450, 64)           196672    \n",
      "_________________________________________________________________\n",
      "spectral_transform (Spectral multiple                  82560     \n",
      "_________________________________________________________________\n",
      "conv1d_2 (Conv1D)            multiple                  41024     \n",
      "_________________________________________________________________\n",
      "sequential_2 (Sequential)    (None, 450, 64)           256       \n",
      "_________________________________________________________________\n",
      "spectral_transform_1 (Spectr multiple                  49792     \n",
      "_________________________________________________________________\n",
      "conv1d_4 (Conv1D)            multiple                  10272     \n",
      "_________________________________________________________________\n",
      "sequential_4 (Sequential)    (None, 450, 32)           128       \n",
      "_________________________________________________________________\n",
      "sequential_5 (Sequential)    (None, 450)               33        \n",
      "=================================================================\n",
      "Total params: 380,737\n",
      "Trainable params: 380,033\n",
      "Non-trainable params: 704\n",
      "_________________________________________________________________\n"
     ]
    }
   ],
   "source": [
    "m4 = M_1()\n",
    "m4.compile(optimizer='Nadam', loss='mae')\n",
    "m4.build(input_shape=(None, 450, 32, 32, 3))\n",
    "print(f'Flops per frame:{get_flops(m4, input_sig=[tf.TensorSpec([1, 450, 32, 32, 3])])/450:.0f}')\n",
    "m4.summary()"
   ]
  },
  {
   "cell_type": "code",
   "execution_count": null,
   "metadata": {},
   "outputs": [],
   "source": [
    "m4.fit(train.shuffle(2000).batch(32), validation_data=valid.batch(32), epochs=10, callbacks=[keras.callbacks.ModelCheckpoint('../weights/m4_ubfc.h5', monitor='val_loss', verbose=1, save_best_only=True, mode='min', save_weights_only=True)])\n",
    "m4.load_weights('../weights/m4_ubfc.h5')"
   ]
  },
  {
   "cell_type": "code",
   "execution_count": 4,
   "metadata": {},
   "outputs": [],
   "source": [
    "m4.load_weights('../weights/m4_ubfc.h5')"
   ]
  },
  {
   "cell_type": "code",
   "execution_count": 7,
   "metadata": {},
   "outputs": [
    {
     "name": "stderr",
     "output_type": "stream",
     "text": [
      "100%|██████████| 179/179 [12:06<00:00,  4.06s/it]\n"
     ]
    },
    {
     "data": {
      "text/plain": [
       "{'Sliding window': {'MAE': 13.004, 'RMSE': 22.901, 'R': 0.16404},\n",
       " 'Whole video': {'MAE': 13.182, 'RMSE': 23.883, 'R': 0.06188}}"
      ]
     },
     "execution_count": 7,
     "metadata": {},
     "output_type": "execute_result"
    }
   ],
   "source": [
    "eval_on_dataset(test_set_CCNU, m4, 450, (32, 32), step=1, batch=32, save='../results/ours_32_UBFC_CCNU.h5')\n",
    "get_metrics('../results/ours_32_UBFC_CCNU.h5', use_filter=False)"
   ]
  },
  {
   "cell_type": "code",
   "execution_count": 6,
   "metadata": {},
   "outputs": [
    {
     "name": "stderr",
     "output_type": "stream",
     "text": [
      "100%|██████████| 54/54 [02:28<00:00,  2.75s/it]\n"
     ]
    },
    {
     "data": {
      "text/plain": [
       "{'Sliding window': {'MAE': 11.824, 'RMSE': 20.838, 'R': 0.20572},\n",
       " 'Whole video': {'MAE': 9.412, 'RMSE': 17.02, 'R': 0.22286}}"
      ]
     },
     "execution_count": 6,
     "metadata": {},
     "output_type": "execute_result"
    }
   ],
   "source": [
    "eval_on_dataset(test_set_CCNU_rPPG, m4, 450, (32, 32), step=1, batch=1, save='../results/ours_32_UBFC_CCNU_rPPG.h5')\n",
    "get_metrics('../results/ours_32_UBFC_CCNU_rPPG.h5', use_filter=False)"
   ]
  },
  {
   "cell_type": "code",
   "execution_count": 5,
   "metadata": {},
   "outputs": [
    {
     "name": "stderr",
     "output_type": "stream",
     "text": [
      "100%|██████████| 59/59 [01:33<00:00,  1.59s/it]\n"
     ]
    },
    {
     "data": {
      "text/plain": [
       "{'Sliding window': {'MAE': 16.905, 'RMSE': 29.108, 'R': 0.45657},\n",
       " 'Whole video': {'MAE': 14.481, 'RMSE': 25.992, 'R': 0.56911}}"
      ]
     },
     "execution_count": 5,
     "metadata": {},
     "output_type": "execute_result"
    }
   ],
   "source": [
    "eval_on_dataset(test_set_PURE, m4, 450, (32, 32), step=1, batch=1, save='../results/ours_32_UBFC_PURE.h5')\n",
    "get_metrics('../results/ours_32_UBFC_PURE.h5', use_filter=False)"
   ]
  }
 ],
 "metadata": {
  "kernelspec": {
   "display_name": "dl",
   "language": "python",
   "name": "python3"
  },
  "language_info": {
   "codemirror_mode": {
    "name": "ipython",
    "version": 3
   },
   "file_extension": ".py",
   "mimetype": "text/x-python",
   "name": "python",
   "nbconvert_exporter": "python",
   "pygments_lexer": "ipython3",
   "version": "3.9.16"
  },
  "orig_nbformat": 4,
  "vscode": {
   "interpreter": {
    "hash": "ef3e367c2466be0f305882ce2bcd0e67eb2cbba315c01407a1a54a3d07e5496a"
   }
  }
 },
 "nbformat": 4,
 "nbformat_minor": 2
}
