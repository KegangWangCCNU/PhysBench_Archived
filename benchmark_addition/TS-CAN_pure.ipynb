{
 "cells": [
  {
   "cell_type": "code",
   "execution_count": 1,
   "metadata": {},
   "outputs": [],
   "source": [
    "%load_ext autoreload\n",
    "%autoreload 2\n",
    "import sys\n",
    "sys.path.append(\"..\")\n",
    "from utils import *\n",
    "from models import *"
   ]
  },
  {
   "cell_type": "code",
   "execution_count": 2,
   "metadata": {},
   "outputs": [],
   "source": [
    "train_tape = \"Z:/rppg/pure_datatape_160x36x36_train.h5\"\n",
    "valid_tape = \"Z:/rppg/pure_datatape_160x36x36_valid.h5\"\n",
    "\n",
    "train =  load_datatape(train_tape, use_normalized_bvp=True)\n",
    "valid = load_datatape(valid_tape, use_normalized_bvp=False)\n",
    "\n",
    "def to_tf_tscan(datatape, dtype=tf.float16):\n",
    "    def _():\n",
    "        for i, j in datatape:\n",
    "            j = tf.concat([j[1:]-j[:-1], [0]], axis=0)\n",
    "            yield i, j\n",
    "    return tf.data.Dataset.from_generator(lambda :_(), output_types=(dtype, dtype), output_shapes=(datatape.shape, datatape.shape[:1]))\n",
    "\n",
    "#train, valid = to_tf_tscan(train).cache(f'{tmp}/tscan'), to_tf_tscan(valid).cache(f'{tmp}/tscan')\n",
    "train, valid = to_tf_tscan(train), to_tf_tscan(valid)"
   ]
  },
  {
   "cell_type": "code",
   "execution_count": 10,
   "metadata": {},
   "outputs": [],
   "source": [
    "ts_can_e2e = TS_CAN_end_to_end(n=20)\n",
    "ts_can_e2e.compile(optimizer='Nadam', loss='mse')\n",
    "ts_can_e2e.build(input_shape=(None, 36, 36, 3))"
   ]
  },
  {
   "cell_type": "code",
   "execution_count": 11,
   "metadata": {},
   "outputs": [
    {
     "name": "stdout",
     "output_type": "stream",
     "text": [
      "Epoch 1/10\n",
      "780/780 [==============================] - 26s 26ms/step - loss: 0.1458 - val_loss: 0.1010\n",
      "\n",
      "Epoch 00001: val_loss improved from inf to 0.10104, saving model to ../weights\\TS-CAN_PURE.h5\n",
      "Epoch 2/10\n",
      "780/780 [==============================] - 25s 26ms/step - loss: 0.1332 - val_loss: 0.0986\n",
      "\n",
      "Epoch 00002: val_loss improved from 0.10104 to 0.09864, saving model to ../weights\\TS-CAN_PURE.h5\n",
      "Epoch 3/10\n",
      "780/780 [==============================] - 25s 26ms/step - loss: 0.1271 - val_loss: 0.0952\n",
      "\n",
      "Epoch 00003: val_loss improved from 0.09864 to 0.09517, saving model to ../weights\\TS-CAN_PURE.h5\n",
      "Epoch 4/10\n",
      "780/780 [==============================] - 25s 26ms/step - loss: 0.1194 - val_loss: 0.0883\n",
      "\n",
      "Epoch 00004: val_loss improved from 0.09517 to 0.08834, saving model to ../weights\\TS-CAN_PURE.h5\n",
      "Epoch 5/10\n",
      "780/780 [==============================] - 25s 26ms/step - loss: 0.1146 - val_loss: 0.0850\n",
      "\n",
      "Epoch 00005: val_loss improved from 0.08834 to 0.08501, saving model to ../weights\\TS-CAN_PURE.h5\n",
      "Epoch 6/10\n",
      "780/780 [==============================] - 25s 26ms/step - loss: 0.1109 - val_loss: 0.0830\n",
      "\n",
      "Epoch 00006: val_loss improved from 0.08501 to 0.08295, saving model to ../weights\\TS-CAN_PURE.h5\n",
      "Epoch 7/10\n",
      "780/780 [==============================] - 25s 26ms/step - loss: 0.1079 - val_loss: 0.0823\n",
      "\n",
      "Epoch 00007: val_loss improved from 0.08295 to 0.08231, saving model to ../weights\\TS-CAN_PURE.h5\n",
      "Epoch 8/10\n",
      "780/780 [==============================] - 25s 26ms/step - loss: 0.1050 - val_loss: 0.0862\n",
      "\n",
      "Epoch 00008: val_loss did not improve from 0.08231\n",
      "Epoch 9/10\n",
      "780/780 [==============================] - 25s 26ms/step - loss: 0.1019 - val_loss: 0.0858\n",
      "\n",
      "Epoch 00009: val_loss did not improve from 0.08231\n",
      "Epoch 10/10\n",
      "780/780 [==============================] - 25s 26ms/step - loss: 0.0994 - val_loss: 0.0847\n",
      "\n",
      "Epoch 00010: val_loss did not improve from 0.08231\n"
     ]
    }
   ],
   "source": [
    "ts_can_e2e.fit(train.shuffle(2000), validation_data=valid, epochs=10, callbacks=[keras.callbacks.ModelCheckpoint('../weights/TS-CAN_PURE.h5', monitor='val_loss', verbose=1, save_best_only=True, mode='min', save_weights_only=True)])\n",
    "ts_can_e2e.load_weights('../weights/TS-CAN_PURE.h5')"
   ]
  },
  {
   "cell_type": "code",
   "execution_count": 12,
   "metadata": {},
   "outputs": [],
   "source": [
    "def cumsum(result, overwrite=True):\n",
    "    with h5py.File(result, 'a') as f:\n",
    "        for i, j in f.items():\n",
    "            if 'diff' not in j.keys():\n",
    "                j.create_dataset('diff', data=j['predict'])\n",
    "                j['predict'][...] = detrend(np.cumsum(j['diff']))\n",
    "            elif overwrite:\n",
    "                j['predict'][...] = detrend(np.cumsum(j['diff']))"
   ]
  },
  {
   "cell_type": "code",
   "execution_count": 14,
   "metadata": {},
   "outputs": [
    {
     "name": "stderr",
     "output_type": "stream",
     "text": [
      "100%|██████████| 42/42 [00:38<00:00,  1.09it/s]\n"
     ]
    },
    {
     "data": {
      "text/plain": [
       "{'Sliding window': {'MAE': 1.995, 'RMSE': 4.823, 'R': 0.9614},\n",
       " 'Whole video': {'MAE': 1.032, 'RMSE': 1.625, 'R': 0.99584}}"
      ]
     },
     "execution_count": 14,
     "metadata": {},
     "output_type": "execute_result"
    }
   ],
   "source": [
    "eval_on_dataset(test_set_UBFC_rPPG2, ts_can_e2e, 160, (36, 36), step=1, batch=0, save='../results/TS-CAN_PURE_UBFC.h5', sample=cv2.INTER_CUBIC)\n",
    "cumsum('../results/TS-CAN_PURE_UBFC.h5')\n",
    "get_metrics('../results/TS-CAN_PURE_UBFC.h5')"
   ]
  }
 ],
 "metadata": {
  "kernelspec": {
   "display_name": "dl",
   "language": "python",
   "name": "python3"
  },
  "language_info": {
   "codemirror_mode": {
    "name": "ipython",
    "version": 3
   },
   "file_extension": ".py",
   "mimetype": "text/x-python",
   "name": "python",
   "nbconvert_exporter": "python",
   "pygments_lexer": "ipython3",
   "version": "3.9.16"
  },
  "orig_nbformat": 4
 },
 "nbformat": 4,
 "nbformat_minor": 2
}
