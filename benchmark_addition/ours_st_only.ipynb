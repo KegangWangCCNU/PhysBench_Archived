{
 "cells": [
  {
   "cell_type": "code",
   "execution_count": 1,
   "metadata": {},
   "outputs": [],
   "source": [
    "%load_ext autoreload\n",
    "%autoreload 2\n",
    "import sys\n",
    "sys.path.append(\"..\")\n",
    "from utils import *\n",
    "from models import *"
   ]
  },
  {
   "cell_type": "code",
   "execution_count": 5,
   "metadata": {},
   "outputs": [],
   "source": [
    "train_tape = \"Z:/rppg/ccnu_datatape_450x8x8_train.h5\"\n",
    "valid_tape = \"Z:/rppg/ccnu_datatape_450x8x8_valid.h5\"\n",
    "\n",
    "train =  load_datatape(train_tape, use_normalized_bvp=True)\n",
    "valid = load_datatape(valid_tape, use_normalized_bvp=False)\n",
    "#train, valid = to_tf(train).cache(f'{tmp}/ours'), to_tf(valid).cache(f'{tmp}/ours')\n",
    "#train, valid = to_tf(train).cache(), to_tf(valid).cache()\n",
    "train, valid = to_tf(train), to_tf(valid)"
   ]
  },
  {
   "cell_type": "code",
   "execution_count": 9,
   "metadata": {},
   "outputs": [
    {
     "name": "stdout",
     "output_type": "stream",
     "text": [
      "Flops per frame:157068\n"
     ]
    }
   ],
   "source": [
    "m3 = M_3()\n",
    "m3.compile(optimizer='Nadam', loss='mae')\n",
    "m3.build(input_shape=(None, 450, 8, 8, 3))\n",
    "print(f'Flops per frame:{get_flops(m3, input_sig=[tf.TensorSpec([1, 450, 8, 8, 3])])/450:.0f}')"
   ]
  },
  {
   "cell_type": "code",
   "execution_count": null,
   "metadata": {},
   "outputs": [],
   "source": [
    "m3.fit(train.shuffle(2000).batch(32), validation_data=valid.batch(32), epochs=10, callbacks=[keras.callbacks.ModelCheckpoint('../weights/m3.h5', monitor='val_loss', verbose=1, save_best_only=True, mode='min', save_weights_only=True)])\n",
    "m3.load_weights('../weights/m3.h5')"
   ]
  },
  {
   "cell_type": "code",
   "execution_count": 6,
   "metadata": {},
   "outputs": [],
   "source": [
    "m3.load_weights('../weights/m3.h5')"
   ]
  },
  {
   "cell_type": "code",
   "execution_count": 14,
   "metadata": {},
   "outputs": [
    {
     "name": "stderr",
     "output_type": "stream",
     "text": [
      "100%|██████████| 179/179 [00:21<00:00,  8.14it/s]\n"
     ]
    },
    {
     "data": {
      "text/plain": [
       "{'Sliding window': {'MAE': 5.083, 'RMSE': 15.598, 'R': 0.33771},\n",
       " 'Whole video': {'MAE': 3.642, 'RMSE': 13.351, 'R': 0.35234}}"
      ]
     },
     "execution_count": 14,
     "metadata": {},
     "output_type": "execute_result"
    }
   ],
   "source": [
    "eval_on_dataset(test_set_CCNU, m3, 450, (8, 8), step=1, batch=32, save='../results/ours_st_only_CCNU_CCNU.h5')\n",
    "get_metrics('../results/ours_st_only_CCNU_CCNU.h5', use_filter=False)"
   ]
  },
  {
   "cell_type": "code",
   "execution_count": 13,
   "metadata": {},
   "outputs": [
    {
     "name": "stderr",
     "output_type": "stream",
     "text": [
      "100%|██████████| 54/54 [00:04<00:00, 11.73it/s]\n"
     ]
    },
    {
     "data": {
      "text/plain": [
       "{'Sliding window': {'MAE': 4.505, 'RMSE': 13.844, 'R': 0.43268},\n",
       " 'Whole video': {'MAE': 3.984, 'RMSE': 13.795, 'R': 0.30618}}"
      ]
     },
     "execution_count": 13,
     "metadata": {},
     "output_type": "execute_result"
    }
   ],
   "source": [
    "eval_on_dataset(test_set_CCNU_rPPG, m3, 450, (8, 8), step=1, batch=32, save='../results/ours_st_only_CCNU_CCNU_rPPG.h5')\n",
    "get_metrics('../results/ours_st_only_CCNU_CCNU_rPPG.h5', use_filter=False)"
   ]
  },
  {
   "cell_type": "code",
   "execution_count": 12,
   "metadata": {},
   "outputs": [
    {
     "name": "stderr",
     "output_type": "stream",
     "text": [
      "100%|██████████| 59/59 [00:03<00:00, 18.56it/s]\n"
     ]
    },
    {
     "data": {
      "text/plain": [
       "{'Sliding window': {'MAE': 0.501, 'RMSE': 1.562, 'R': 0.99775},\n",
       " 'Whole video': {'MAE': 0.439, 'RMSE': 0.794, 'R': 0.99947}}"
      ]
     },
     "execution_count": 12,
     "metadata": {},
     "output_type": "execute_result"
    }
   ],
   "source": [
    "eval_on_dataset(test_set_PURE, m3, 450, (8, 8), step=1, batch=32, save='../results/ours_st_only_CCNU_PURE.h5')\n",
    "get_metrics('../results/ours_st_only_CCNU_PURE.h5',use_filter=False)"
   ]
  },
  {
   "cell_type": "code",
   "execution_count": 11,
   "metadata": {},
   "outputs": [
    {
     "name": "stderr",
     "output_type": "stream",
     "text": [
      "100%|██████████| 42/42 [00:02<00:00, 19.62it/s]\n"
     ]
    },
    {
     "data": {
      "text/plain": [
       "{'Sliding window': {'MAE': 1.547, 'RMSE': 3.937, 'R': 0.9741},\n",
       " 'Whole video': {'MAE': 1.034, 'RMSE': 1.709, 'R': 0.99636}}"
      ]
     },
     "execution_count": 11,
     "metadata": {},
     "output_type": "execute_result"
    }
   ],
   "source": [
    "eval_on_dataset(test_set_UBFC_rPPG2, m3, 450, (8, 8), step=1, batch=32, save='../results/ours_st_only_CCNU_UBFC.h5')\n",
    "get_metrics('../results/ours_st_only_CCNU_UBFC.h5',use_filter=False)"
   ]
  }
 ],
 "metadata": {
  "kernelspec": {
   "display_name": "dl",
   "language": "python",
   "name": "python3"
  },
  "language_info": {
   "codemirror_mode": {
    "name": "ipython",
    "version": 3
   },
   "file_extension": ".py",
   "mimetype": "text/x-python",
   "name": "python",
   "nbconvert_exporter": "python",
   "pygments_lexer": "ipython3",
   "version": "3.9.16"
  },
  "orig_nbformat": 4,
  "vscode": {
   "interpreter": {
    "hash": "ef3e367c2466be0f305882ce2bcd0e67eb2cbba315c01407a1a54a3d07e5496a"
   }
  }
 },
 "nbformat": 4,
 "nbformat_minor": 2
}
