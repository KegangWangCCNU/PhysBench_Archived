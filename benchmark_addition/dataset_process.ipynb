{
 "cells": [
  {
   "cell_type": "code",
   "execution_count": 2,
   "metadata": {},
   "outputs": [],
   "source": [
    "import sys\n",
    "sys.path.append(\"..\")\n",
    "from utils import *"
   ]
  },
  {
   "cell_type": "code",
   "execution_count": 5,
   "metadata": {},
   "outputs": [
    {
     "name": "stdout",
     "output_type": "stream",
     "text": [
      "制作 datatape Z:/rppg/ubfc_datatape_160x128x128_train.h5 中.....\n"
     ]
    },
    {
     "name": "stderr",
     "output_type": "stream",
     "text": [
      "100%|██████████| 42/42 [00:29<00:00,  1.41it/s]\n"
     ]
    },
    {
     "name": "stdout",
     "output_type": "stream",
     "text": [
      "制作 datatape Z:/rppg/ubfc_datatape_450x32x32_train.h5 中.....\n"
     ]
    },
    {
     "name": "stderr",
     "output_type": "stream",
     "text": [
      "100%|██████████| 42/42 [02:55<00:00,  4.19s/it]\n"
     ]
    },
    {
     "name": "stdout",
     "output_type": "stream",
     "text": [
      "制作 datatape Z:/rppg/ubfc_datatape_450x8x8_train.h5 中.....\n"
     ]
    },
    {
     "name": "stderr",
     "output_type": "stream",
     "text": [
      "100%|██████████| 42/42 [00:28<00:00,  1.49it/s]\n"
     ]
    },
    {
     "name": "stdout",
     "output_type": "stream",
     "text": [
      "制作 datatape Z:/rppg/ubfc_datatape_160x128x128_valid.h5 中.....\n"
     ]
    },
    {
     "name": "stderr",
     "output_type": "stream",
     "text": [
      "100%|██████████| 42/42 [00:10<00:00,  4.02it/s]\n"
     ]
    },
    {
     "name": "stdout",
     "output_type": "stream",
     "text": [
      "制作 datatape Z:/rppg/ubfc_datatape_450x32x32_valid.h5 中.....\n"
     ]
    },
    {
     "name": "stderr",
     "output_type": "stream",
     "text": [
      "100%|██████████| 42/42 [01:02<00:00,  1.48s/it]\n"
     ]
    },
    {
     "name": "stdout",
     "output_type": "stream",
     "text": [
      "制作 datatape Z:/rppg/ubfc_datatape_450x8x8_valid.h5 中.....\n"
     ]
    },
    {
     "name": "stderr",
     "output_type": "stream",
     "text": [
      "100%|██████████| 42/42 [00:09<00:00,  4.28it/s]\n"
     ]
    }
   ],
   "source": [
    "df = pd.read_csv('../datasets/UBFC_rPPG2_dataset_index.csv')\n",
    "def selector(s):\n",
    "    i = s['path'].replace('/subject', '').replace('/vid.avi', '')\n",
    "    i = int(i)\n",
    "    return True if i<40 else False\n",
    "dump_datatape(\"Z:/rppg/ubfc_rppg2_dataset.h5\", \"Z:/rppg/ubfc_datatape_160x128x128_train.h5\", shape=(160, 128, 128), step=4, extend_rate=0, extend_hr=(40, 150), dtype=np.uint8, selector=selector)\n",
    "dump_datatape(\"Z:/rppg/ubfc_rppg2_dataset.h5\", \"Z:/rppg/ubfc_datatape_450x32x32_train.h5\", shape=(450, 32, 32), step=1, extend_rate=0, extend_hr=(30, 150), selector=selector)\n",
    "dump_datatape(\"Z:/rppg/ubfc_rppg2_dataset.h5\", \"Z:/rppg/ubfc_datatape_450x8x8_train.h5\", shape=(450, 8, 8), step=1, extend_rate=0, extend_hr=(30, 150), selector=selector)\n",
    "dump_datatape(\"Z:/rppg/ubfc_rppg2_dataset.h5\", \"Z:/rppg/ubfc_datatape_160x128x128_valid.h5\", shape=(160, 128, 128), step=4, extend_rate=0, dtype=np.uint8, selector=lambda s:not selector(s))\n",
    "dump_datatape(\"Z:/rppg/ubfc_rppg2_dataset.h5\", \"Z:/rppg/ubfc_datatape_450x32x32_valid.h5\", shape=(450, 32, 32), step=1, extend_rate=0, selector=lambda s:not selector(s))\n",
    "dump_datatape(\"Z:/rppg/ubfc_rppg2_dataset.h5\", \"Z:/rppg/ubfc_datatape_450x8x8_valid.h5\", shape=(450, 8, 8), step=1, extend_rate=0, selector=lambda s:not selector(s))"
   ]
  },
  {
   "cell_type": "code",
   "execution_count": 6,
   "metadata": {},
   "outputs": [
    {
     "name": "stdout",
     "output_type": "stream",
     "text": [
      "制作 datatape Z:/rppg/pure_datatape_160x128x128_train.h5 中.....\n"
     ]
    },
    {
     "name": "stderr",
     "output_type": "stream",
     "text": [
      "100%|██████████| 59/59 [00:54<00:00,  1.08it/s]\n"
     ]
    },
    {
     "name": "stdout",
     "output_type": "stream",
     "text": [
      "制作 datatape Z:/rppg/pure_datatape_450x32x32_train.h5 中.....\n"
     ]
    },
    {
     "name": "stderr",
     "output_type": "stream",
     "text": [
      "100%|██████████| 59/59 [05:11<00:00,  5.27s/it]\n"
     ]
    },
    {
     "name": "stdout",
     "output_type": "stream",
     "text": [
      "制作 datatape Z:/rppg/pure_datatape_450x8x8_train.h5 中.....\n"
     ]
    },
    {
     "name": "stderr",
     "output_type": "stream",
     "text": [
      "100%|██████████| 59/59 [01:16<00:00,  1.29s/it]\n"
     ]
    },
    {
     "name": "stdout",
     "output_type": "stream",
     "text": [
      "制作 datatape Z:/rppg/pure_datatape_160x128x128_valid.h5 中.....\n"
     ]
    },
    {
     "name": "stderr",
     "output_type": "stream",
     "text": [
      "100%|██████████| 59/59 [00:11<00:00,  4.97it/s]\n"
     ]
    },
    {
     "name": "stdout",
     "output_type": "stream",
     "text": [
      "制作 datatape Z:/rppg/pure_datatape_450x32x32_valid.h5 中.....\n"
     ]
    },
    {
     "name": "stderr",
     "output_type": "stream",
     "text": [
      "100%|██████████| 59/59 [01:18<00:00,  1.33s/it]\n"
     ]
    },
    {
     "name": "stdout",
     "output_type": "stream",
     "text": [
      "制作 datatape Z:/rppg/pure_datatape_450x8x8_valid.h5 中.....\n"
     ]
    },
    {
     "name": "stderr",
     "output_type": "stream",
     "text": [
      "100%|██████████| 59/59 [00:18<00:00,  3.15it/s]\n"
     ]
    }
   ],
   "source": [
    "df = pd.read_csv('../datasets/PURE_dataset_index.csv')\n",
    "def selector(s):\n",
    "    return True if int(s['path'][:2])<=8 else False\n",
    "dump_datatape(\"Z:/rppg/pure_dataset.h5\", \"Z:/rppg/pure_datatape_160x128x128_train.h5\", shape=(160, 128, 128), step=4, extend_rate=0, extend_hr=(40, 150), dtype=np.uint8, selector=selector)\n",
    "dump_datatape(\"Z:/rppg/pure_dataset.h5\", \"Z:/rppg/pure_datatape_450x32x32_train.h5\", shape=(450, 32, 32), step=1, extend_rate=0, extend_hr=(30, 150), selector=selector)\n",
    "dump_datatape(\"Z:/rppg/pure_dataset.h5\", \"Z:/rppg/pure_datatape_450x8x8_train.h5\", shape=(450, 8, 8), step=1, extend_rate=0, extend_hr=(30, 150), selector=selector, sample=cv2.INTER_AREA)\n",
    "dump_datatape(\"Z:/rppg/pure_dataset.h5\", \"Z:/rppg/pure_datatape_160x128x128_valid.h5\", shape=(160, 128, 128), step=4, extend_rate=0, dtype=np.uint8, selector=lambda s:not selector(s))\n",
    "dump_datatape(\"Z:/rppg/pure_dataset.h5\", \"Z:/rppg/pure_datatape_450x32x32_valid.h5\", shape=(450, 32, 32), step=1, extend_rate=0, selector=lambda s:not selector(s))\n",
    "dump_datatape(\"Z:/rppg/pure_dataset.h5\", \"Z:/rppg/pure_datatape_450x8x8_valid.h5\", shape=(450, 8, 8), step=1, extend_rate=0, selector=lambda s:not selector(s), sample=cv2.INTER_AREA)"
   ]
  },
  {
   "cell_type": "code",
   "execution_count": 13,
   "metadata": {},
   "outputs": [
    {
     "name": "stdout",
     "output_type": "stream",
     "text": [
      "制作 datatape Z:/rppg/pure_datatape_160x36x36_train.h5 中.....\n"
     ]
    },
    {
     "name": "stderr",
     "output_type": "stream",
     "text": [
      "100%|██████████| 59/59 [01:08<00:00,  1.16s/it]\n"
     ]
    },
    {
     "name": "stdout",
     "output_type": "stream",
     "text": [
      "制作 datatape Z:/rppg/pure_datatape_160x36x36_valid.h5 中.....\n"
     ]
    },
    {
     "name": "stderr",
     "output_type": "stream",
     "text": [
      "100%|██████████| 59/59 [00:14<00:00,  4.10it/s]\n"
     ]
    }
   ],
   "source": [
    "df = pd.read_csv('../datasets/PURE_dataset_index.csv')\n",
    "def selector(s):\n",
    "    return True if int(s['path'][:2])<=8 else False\n",
    "dump_datatape(\"Z:/rppg/pure_dataset.h5\", \"Z:/rppg/pure_datatape_160x36x36_train.h5\", shape=(160, 36, 36), step=4, extend_rate=0, extend_hr=(40, 150), selector=selector)\n",
    "dump_datatape(\"Z:/rppg/pure_dataset.h5\", \"Z:/rppg/pure_datatape_160x36x36_valid.h5\", shape=(160, 36, 36), step=4, extend_rate=0, selector=lambda s:not selector(s))"
   ]
  },
  {
   "cell_type": "code",
   "execution_count": 12,
   "metadata": {},
   "outputs": [
    {
     "name": "stdout",
     "output_type": "stream",
     "text": [
      "制作 datatape Z:/rppg/ubfc_datatape_160x36x36_train.h5 中.....\n"
     ]
    },
    {
     "name": "stderr",
     "output_type": "stream",
     "text": [
      "100%|██████████| 42/42 [00:38<00:00,  1.09it/s]\n"
     ]
    },
    {
     "name": "stdout",
     "output_type": "stream",
     "text": [
      "制作 datatape Z:/rppg/ubfc_datatape_160x36x36_valid.h5 中.....\n"
     ]
    },
    {
     "name": "stderr",
     "output_type": "stream",
     "text": [
      "100%|██████████| 42/42 [00:12<00:00,  3.42it/s]\n"
     ]
    }
   ],
   "source": [
    "df = pd.read_csv('../datasets/UBFC_rPPG2_dataset_index.csv')\n",
    "def selector(s):\n",
    "    i = s['path'].replace('/subject', '').replace('/vid.avi', '')\n",
    "    i = int(i)\n",
    "    return True if i<40 else False\n",
    "dump_datatape(\"Z:/rppg/ubfc_rppg2_dataset.h5\", \"Z:/rppg/ubfc_datatape_160x36x36_train.h5\", shape=(160, 36, 36), step=4, extend_rate=0, extend_hr=(40, 150), selector=selector)\n",
    "dump_datatape(\"Z:/rppg/ubfc_rppg2_dataset.h5\", \"Z:/rppg/ubfc_datatape_160x36x36_valid.h5\", shape=(160, 36, 36), step=4, extend_rate=0, selector=lambda s:not selector(s))"
   ]
  },
  {
   "cell_type": "code",
   "execution_count": 10,
   "metadata": {},
   "outputs": [
    {
     "name": "stdout",
     "output_type": "stream",
     "text": [
      "制作 datatape Z:/rppg/pure_datatape_128x32x32_train.h5 中.....\n"
     ]
    },
    {
     "name": "stderr",
     "output_type": "stream",
     "text": [
      "100%|██████████| 59/59 [00:54<00:00,  1.08it/s]\n"
     ]
    },
    {
     "name": "stdout",
     "output_type": "stream",
     "text": [
      "制作 datatape Z:/rppg/pure_datatape_128x32x32_valid.h5 中.....\n"
     ]
    },
    {
     "name": "stderr",
     "output_type": "stream",
     "text": [
      "100%|██████████| 59/59 [00:11<00:00,  4.98it/s]\n"
     ]
    }
   ],
   "source": [
    "df = pd.read_csv('../datasets/PURE_dataset_index.csv')\n",
    "def selector(s):\n",
    "    return True if int(s['path'][:2])<=8 else False\n",
    "dump_datatape(\"Z:/rppg/pure_dataset.h5\", \"Z:/rppg/pure_datatape_128x32x32_train.h5\", shape=(128, 32, 32), step=4, extend_rate=0, extend_hr=(40, 150), selector=selector)\n",
    "dump_datatape(\"Z:/rppg/pure_dataset.h5\", \"Z:/rppg/pure_datatape_128x32x32_valid.h5\", shape=(128, 32, 32), step=4, extend_rate=0, selector=lambda s:not selector(s))"
   ]
  },
  {
   "cell_type": "code",
   "execution_count": 11,
   "metadata": {},
   "outputs": [
    {
     "name": "stdout",
     "output_type": "stream",
     "text": [
      "制作 datatape Z:/rppg/ubfc_datatape_128x32x32_train.h5 中.....\n"
     ]
    },
    {
     "name": "stderr",
     "output_type": "stream",
     "text": [
      "100%|██████████| 42/42 [00:31<00:00,  1.34it/s]\n"
     ]
    },
    {
     "name": "stdout",
     "output_type": "stream",
     "text": [
      "制作 datatape Z:/rppg/ubfc_datatape_128x32x32_valid.h5 中.....\n"
     ]
    },
    {
     "name": "stderr",
     "output_type": "stream",
     "text": [
      "100%|██████████| 42/42 [00:09<00:00,  4.29it/s]\n"
     ]
    }
   ],
   "source": [
    "df = pd.read_csv('../datasets/UBFC_rPPG2_dataset_index.csv')\n",
    "def selector(s):\n",
    "    i = s['path'].replace('/subject', '').replace('/vid.avi', '')\n",
    "    i = int(i)\n",
    "    return True if i<40 else False\n",
    "dump_datatape(\"Z:/rppg/ubfc_rppg2_dataset.h5\", \"Z:/rppg/ubfc_datatape_128x32x32_train.h5\", shape=(128, 32, 32), step=4, extend_rate=0, extend_hr=(40, 150), selector=selector)\n",
    "dump_datatape(\"Z:/rppg/ubfc_rppg2_dataset.h5\", \"Z:/rppg/ubfc_datatape_128x32x32_valid.h5\", shape=(128, 32, 32), step=4, extend_rate=0, selector=lambda s:not selector(s))"
   ]
  }
 ],
 "metadata": {
  "kernelspec": {
   "display_name": "dl",
   "language": "python",
   "name": "python3"
  },
  "language_info": {
   "codemirror_mode": {
    "name": "ipython",
    "version": 3
   },
   "file_extension": ".py",
   "mimetype": "text/x-python",
   "name": "python",
   "nbconvert_exporter": "python",
   "pygments_lexer": "ipython3",
   "version": "3.9.16"
  },
  "orig_nbformat": 4
 },
 "nbformat": 4,
 "nbformat_minor": 2
}
