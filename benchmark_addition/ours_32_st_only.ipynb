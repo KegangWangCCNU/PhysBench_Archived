{
 "cells": [
  {
   "cell_type": "code",
   "execution_count": 1,
   "metadata": {},
   "outputs": [],
   "source": [
    "%load_ext autoreload\n",
    "%autoreload 2\n",
    "import sys\n",
    "sys.path.append(\"..\")\n",
    "from utils import *\n",
    "from models import *"
   ]
  },
  {
   "cell_type": "code",
   "execution_count": 2,
   "metadata": {},
   "outputs": [],
   "source": [
    "train_tape = \"Z:/rppg/ccnu_datatape_450x32x32_train.h5\"\n",
    "valid_tape = \"Z:/rppg/ccnu_datatape_450x32x32_valid.h5\"\n",
    "\n",
    "train =  load_datatape(train_tape, use_normalized_bvp=True)\n",
    "valid = load_datatape(valid_tape, use_normalized_bvp=False)\n",
    "train, valid = to_tf(train), to_tf(valid)\n",
    "#train, valid = to_tf(train).cache(f'{tmp}/ours_32'), to_tf(valid).cache(f'{tmp}/ours_32')"
   ]
  },
  {
   "cell_type": "code",
   "execution_count": 3,
   "metadata": {},
   "outputs": [
    {
     "name": "stdout",
     "output_type": "stream",
     "text": [
      "WARNING:tensorflow:From x:\\Users\\wkg\\anaconda3\\envs\\dl\\lib\\site-packages\\tensorflow\\python\\profiler\\internal\\flops_registry.py:243: tensor_shape_from_node_def_name (from tensorflow.python.framework.graph_util_impl) is deprecated and will be removed in a future version.\n",
      "Instructions for updating:\n",
      "Use `tf.compat.v1.graph_util.tensor_shape_from_node_def_name`\n",
      "Flops per frame:531468\n",
      "Model: \"m_3\"\n",
      "_________________________________________________________________\n",
      "Layer (type)                 Output Shape              Param #   \n",
      "=================================================================\n",
      "sequential (Sequential)      (None, 450, 64)           196672    \n",
      "_________________________________________________________________\n",
      "spectral_transform (Spectral multiple                  82560     \n",
      "_________________________________________________________________\n",
      "spectral_transform_1 (Spectr multiple                  49792     \n",
      "_________________________________________________________________\n",
      "sequential_3 (Sequential)    (None, 450)               65        \n",
      "=================================================================\n",
      "Total params: 329,089\n",
      "Trainable params: 328,577\n",
      "Non-trainable params: 512\n",
      "_________________________________________________________________\n"
     ]
    }
   ],
   "source": [
    "m3 = M_3()\n",
    "m3.compile(optimizer='Nadam', loss='mae')\n",
    "m3.build(input_shape=(None, 450, 32, 32, 3))\n",
    "print(f'Flops per frame:{get_flops(m3, input_sig=[tf.TensorSpec([1, 450, 32, 32, 3])])/450:.0f}')\n",
    "m3.summary()"
   ]
  },
  {
   "cell_type": "code",
   "execution_count": 4,
   "metadata": {},
   "outputs": [
    {
     "name": "stdout",
     "output_type": "stream",
     "text": [
      "Epoch 1/10\n",
      "1446/1446 [==============================] - 454s 302ms/step - loss: 0.7886 - val_loss: 0.7311\n",
      "\n",
      "Epoch 00001: val_loss improved from inf to 0.73110, saving model to ../weights\\m3_32.h5\n",
      "Epoch 2/10\n",
      "1446/1446 [==============================] - 457s 306ms/step - loss: 0.6653 - val_loss: 0.7249\n",
      "\n",
      "Epoch 00002: val_loss improved from 0.73110 to 0.72494, saving model to ../weights\\m3_32.h5\n",
      "Epoch 3/10\n",
      "1446/1446 [==============================] - 451s 302ms/step - loss: 0.6114 - val_loss: 0.6923\n",
      "\n",
      "Epoch 00003: val_loss improved from 0.72494 to 0.69227, saving model to ../weights\\m3_32.h5\n",
      "Epoch 4/10\n",
      "1446/1446 [==============================] - 462s 309ms/step - loss: 0.5798 - val_loss: 0.6781\n",
      "\n",
      "Epoch 00004: val_loss improved from 0.69227 to 0.67811, saving model to ../weights\\m3_32.h5\n",
      "Epoch 5/10\n",
      "1446/1446 [==============================] - 467s 312ms/step - loss: 0.5696 - val_loss: 0.6712\n",
      "\n",
      "Epoch 00005: val_loss improved from 0.67811 to 0.67120, saving model to ../weights\\m3_32.h5\n",
      "Epoch 6/10\n",
      "1446/1446 [==============================] - 472s 315ms/step - loss: 0.5486 - val_loss: 0.6587\n",
      "\n",
      "Epoch 00006: val_loss improved from 0.67120 to 0.65874, saving model to ../weights\\m3_32.h5\n",
      "Epoch 7/10\n",
      "1446/1446 [==============================] - 473s 317ms/step - loss: 0.5346 - val_loss: 0.6510\n",
      "\n",
      "Epoch 00007: val_loss improved from 0.65874 to 0.65099, saving model to ../weights\\m3_32.h5\n",
      "Epoch 8/10\n",
      "1446/1446 [==============================] - 471s 315ms/step - loss: 0.5342 - val_loss: 0.6373\n",
      "\n",
      "Epoch 00008: val_loss improved from 0.65099 to 0.63732, saving model to ../weights\\m3_32.h5\n",
      "Epoch 9/10\n",
      "1446/1446 [==============================] - 470s 315ms/step - loss: 0.5352 - val_loss: 0.6394\n",
      "\n",
      "Epoch 00009: val_loss did not improve from 0.63732\n",
      "Epoch 10/10\n",
      "1446/1446 [==============================] - 469s 314ms/step - loss: 0.5165 - val_loss: 0.6346\n",
      "\n",
      "Epoch 00010: val_loss improved from 0.63732 to 0.63457, saving model to ../weights\\m3_32.h5\n"
     ]
    }
   ],
   "source": [
    "m3.fit(train.shuffle(2000).batch(32), validation_data=valid.batch(32), epochs=10, callbacks=[keras.callbacks.ModelCheckpoint('../weights/m3_32.h5', monitor='val_loss', verbose=1, save_best_only=True, mode='min', save_weights_only=True)])\n",
    "m3.load_weights('../weights/m3_32.h5')"
   ]
  },
  {
   "cell_type": "code",
   "execution_count": 5,
   "metadata": {},
   "outputs": [],
   "source": [
    "m3.load_weights('../weights/m3_32.h5')"
   ]
  },
  {
   "cell_type": "code",
   "execution_count": 10,
   "metadata": {},
   "outputs": [
    {
     "name": "stderr",
     "output_type": "stream",
     "text": [
      "100%|██████████| 179/179 [01:46<00:00,  1.68it/s]\n"
     ]
    },
    {
     "data": {
      "text/plain": [
       "{'Sliding window': {'MAE': 4.096, 'RMSE': 13.578, 'R': 0.48057},\n",
       " 'Whole video': {'MAE': 2.388, 'RMSE': 10.047, 'R': 0.59861}}"
      ]
     },
     "execution_count": 10,
     "metadata": {},
     "output_type": "execute_result"
    }
   ],
   "source": [
    "eval_on_dataset(test_set_CCNU, m3, 450, (32, 32), step=1, batch=32, save='../results/ours_32_st_only_CCNU_CCNU.h5')\n",
    "get_metrics('../results/ours_32_st_only_CCNU_CCNU.h5', use_filter=False)"
   ]
  },
  {
   "cell_type": "code",
   "execution_count": 9,
   "metadata": {},
   "outputs": [
    {
     "name": "stderr",
     "output_type": "stream",
     "text": [
      "100%|██████████| 54/54 [00:23<00:00,  2.31it/s]\n"
     ]
    },
    {
     "data": {
      "text/plain": [
       "{'Sliding window': {'MAE': 2.813, 'RMSE': 9.59, 'R': 0.63056},\n",
       " 'Whole video': {'MAE': 1.308, 'RMSE': 4.364, 'R': 0.91283}}"
      ]
     },
     "execution_count": 9,
     "metadata": {},
     "output_type": "execute_result"
    }
   ],
   "source": [
    "eval_on_dataset(test_set_CCNU_rPPG, m3, 450, (32, 32), step=1, batch=32, save='../results/ours_32_st_only_CCNU_CCNU_rPPG.h5')\n",
    "get_metrics('../results/ours_32_st_only_CCNU_CCNU_rPPG.h5', use_filter=False)"
   ]
  },
  {
   "cell_type": "code",
   "execution_count": 8,
   "metadata": {},
   "outputs": [
    {
     "name": "stderr",
     "output_type": "stream",
     "text": [
      "100%|██████████| 59/59 [00:14<00:00,  4.02it/s]\n"
     ]
    },
    {
     "data": {
      "text/plain": [
       "{'Sliding window': {'MAE': 0.591, 'RMSE': 2.05, 'R': 0.99602},\n",
       " 'Whole video': {'MAE': 0.529, 'RMSE': 1.037, 'R': 0.99905}}"
      ]
     },
     "execution_count": 8,
     "metadata": {},
     "output_type": "execute_result"
    }
   ],
   "source": [
    "eval_on_dataset(test_set_PURE, m3, 450, (32, 32), step=1, batch=32, save='../results/ours_32_st_only_CCNU_PURE.h5')\n",
    "get_metrics('../results/ours_32_st_only_CCNU_PURE.h5', use_filter=False)"
   ]
  },
  {
   "cell_type": "code",
   "execution_count": 7,
   "metadata": {},
   "outputs": [
    {
     "name": "stderr",
     "output_type": "stream",
     "text": [
      "100%|██████████| 42/42 [00:09<00:00,  4.37it/s]\n"
     ]
    },
    {
     "data": {
      "text/plain": [
       "{'Sliding window': {'MAE': 1.394, 'RMSE': 3.63, 'R': 0.97793},\n",
       " 'Whole video': {'MAE': 0.957, 'RMSE': 1.554, 'R': 0.99673}}"
      ]
     },
     "execution_count": 7,
     "metadata": {},
     "output_type": "execute_result"
    }
   ],
   "source": [
    "eval_on_dataset(test_set_UBFC_rPPG2, m3, 450, (32, 32), step=1, batch=32, save='../results/ours_32_st_only_CCNU_UBFC.h5')\n",
    "get_metrics('../results/ours_32_st_only_CCNU_UBFC.h5', use_filter=False)"
   ]
  }
 ],
 "metadata": {
  "kernelspec": {
   "display_name": "dl",
   "language": "python",
   "name": "python3"
  },
  "language_info": {
   "codemirror_mode": {
    "name": "ipython",
    "version": 3
   },
   "file_extension": ".py",
   "mimetype": "text/x-python",
   "name": "python",
   "nbconvert_exporter": "python",
   "pygments_lexer": "ipython3",
   "version": "3.9.16"
  },
  "orig_nbformat": 4,
  "vscode": {
   "interpreter": {
    "hash": "ef3e367c2466be0f305882ce2bcd0e67eb2cbba315c01407a1a54a3d07e5496a"
   }
  }
 },
 "nbformat": 4,
 "nbformat_minor": 2
}
