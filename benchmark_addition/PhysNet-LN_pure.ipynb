{
 "cells": [
  {
   "cell_type": "code",
   "execution_count": 1,
   "metadata": {},
   "outputs": [],
   "source": [
    "%load_ext autoreload\n",
    "%autoreload 2\n",
    "import sys\n",
    "sys.path.append(\"..\")\n",
    "from utils import *\n",
    "from models import *"
   ]
  },
  {
   "cell_type": "code",
   "execution_count": 2,
   "metadata": {},
   "outputs": [],
   "source": [
    "train_tape = \"Z:/rppg/pure_datatape_128x32x32_train.h5\"\n",
    "valid_tape = \"Z:/rppg/pure_datatape_128x32x32_valid.h5\"\n",
    "\n",
    "train =  load_datatape(train_tape, use_normalized_bvp=True)\n",
    "valid = load_datatape(valid_tape, use_normalized_bvp=False)\n",
    "\n",
    "#train, valid = to_tf(train).cache(f'{tmp}/physnet'), to_tf(valid).cache(f'{tmp}/physnet')\n",
    "train, valid = to_tf(train), to_tf(valid)"
   ]
  },
  {
   "cell_type": "code",
   "execution_count": 3,
   "metadata": {},
   "outputs": [
    {
     "name": "stdout",
     "output_type": "stream",
     "text": [
      "WARNING:tensorflow:From x:\\Users\\wkg\\anaconda3\\envs\\dl\\lib\\site-packages\\tensorflow\\python\\ops\\nn_ops.py:5044: tensor_shape_from_node_def_name (from tensorflow.python.framework.graph_util_impl) is deprecated and will be removed in a future version.\n",
      "Instructions for updating:\n",
      "Use `tf.compat.v1.graph_util.tensor_shape_from_node_def_name`\n",
      "Flops per frame:54630323\n"
     ]
    }
   ],
   "source": [
    "phys_net = PhysNet(norm='layer')\n",
    "phys_net.compile(optimizer=keras.optimizers.Adam(learning_rate=0.01), loss=np_loss)\n",
    "phys_net.build(input_shape=(None, 128, 32, 32, 3))\n",
    "print(f'Flops per frame:{get_flops(phys_net, input_sig=[tf.TensorSpec([1, 128, 32, 32, 3])])/128:.0f}')"
   ]
  },
  {
   "cell_type": "code",
   "execution_count": 9,
   "metadata": {},
   "outputs": [
    {
     "name": "stdout",
     "output_type": "stream",
     "text": [
      "Epoch 1/3\n",
      "25/25 [==============================] - 30s 818ms/step - loss: 0.4257 - val_loss: 0.1465\n",
      "\n",
      "Epoch 00001: val_loss improved from inf to 0.14645, saving model to ../weights\\PhysNet-LN_PURE.h5\n",
      "Epoch 2/3\n",
      "25/25 [==============================] - 17s 573ms/step - loss: 0.1693 - val_loss: 0.1125\n",
      "\n",
      "Epoch 00002: val_loss improved from 0.14645 to 0.11250, saving model to ../weights\\PhysNet-LN_PURE.h5\n",
      "Epoch 3/3\n",
      "25/25 [==============================] - 17s 572ms/step - loss: 0.1264 - val_loss: 0.0982\n",
      "\n",
      "Epoch 00003: val_loss improved from 0.11250 to 0.09824, saving model to ../weights\\PhysNet-LN_PURE.h5\n"
     ]
    }
   ],
   "source": [
    "phys_net.fit(train.shuffle(2000).batch(32), validation_data=valid.batch(32), epochs=3, callbacks=[keras.callbacks.ModelCheckpoint('../weights/PhysNet-LN_PURE.h5', monitor='val_loss', verbose=1, save_best_only=True, mode='min', save_weights_only=True)])\n",
    "phys_net.load_weights('../weights/PhysNet-LN_PURE.h5')"
   ]
  },
  {
   "cell_type": "code",
   "execution_count": 4,
   "metadata": {},
   "outputs": [],
   "source": [
    "phys_net.load_weights('../weights/PhysNet-LN_PURE.h5')"
   ]
  },
  {
   "cell_type": "code",
   "execution_count": 5,
   "metadata": {},
   "outputs": [
    {
     "name": "stderr",
     "output_type": "stream",
     "text": [
      "100%|██████████| 42/42 [00:23<00:00,  1.75it/s]\n"
     ]
    },
    {
     "data": {
      "text/plain": [
       "{'Sliding window': {'MAE': 1.413, 'RMSE': 3.684, 'R': 0.97707},\n",
       " 'Whole video': {'MAE': 0.898, 'RMSE': 1.398, 'R': 0.9971}}"
      ]
     },
     "execution_count": 5,
     "metadata": {},
     "output_type": "execute_result"
    }
   ],
   "source": [
    "eval_on_dataset(test_set_UBFC_rPPG2, phys_net, 128, (32, 32), step=1, batch=32, save='../results/PhysNet-LN_PURE_UBFC.h5', sample=cv2.INTER_CUBIC)\n",
    "get_metrics('../results/PhysNet-LN_PURE_UBFC.h5')"
   ]
  }
 ],
 "metadata": {
  "kernelspec": {
   "display_name": "dl",
   "language": "python",
   "name": "python3"
  },
  "language_info": {
   "codemirror_mode": {
    "name": "ipython",
    "version": 3
   },
   "file_extension": ".py",
   "mimetype": "text/x-python",
   "name": "python",
   "nbconvert_exporter": "python",
   "pygments_lexer": "ipython3",
   "version": "3.9.16"
  },
  "orig_nbformat": 4,
  "vscode": {
   "interpreter": {
    "hash": "ef3e367c2466be0f305882ce2bcd0e67eb2cbba315c01407a1a54a3d07e5496a"
   }
  }
 },
 "nbformat": 4,
 "nbformat_minor": 2
}
