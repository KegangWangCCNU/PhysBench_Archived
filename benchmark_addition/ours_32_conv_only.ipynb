{
 "cells": [
  {
   "cell_type": "code",
   "execution_count": 1,
   "metadata": {},
   "outputs": [],
   "source": [
    "%load_ext autoreload\n",
    "%autoreload 2\n",
    "import sys\n",
    "sys.path.append(\"..\")\n",
    "from utils import *\n",
    "from models import *"
   ]
  },
  {
   "cell_type": "code",
   "execution_count": 2,
   "metadata": {},
   "outputs": [],
   "source": [
    "train_tape = \"Z:/rppg/ccnu_datatape_450x32x32_train.h5\"\n",
    "valid_tape = \"Z:/rppg/ccnu_datatape_450x32x32_valid.h5\"\n",
    "\n",
    "train =  load_datatape(train_tape, use_normalized_bvp=True)\n",
    "valid = load_datatape(valid_tape, use_normalized_bvp=False)\n",
    "#train, valid = to_tf(train).cache(f'{tmp}/ours_32'), to_tf(valid).cache(f'{tmp}/ours_32')\n",
    "train, valid = to_tf(train), to_tf(valid)"
   ]
  },
  {
   "cell_type": "code",
   "execution_count": 3,
   "metadata": {},
   "outputs": [
    {
     "name": "stdout",
     "output_type": "stream",
     "text": [
      "WARNING:tensorflow:From x:\\Users\\wkg\\anaconda3\\envs\\dl\\lib\\site-packages\\tensorflow\\python\\profiler\\internal\\flops_registry.py:243: tensor_shape_from_node_def_name (from tensorflow.python.framework.graph_util_impl) is deprecated and will be removed in a future version.\n",
      "Instructions for updating:\n",
      "Use `tf.compat.v1.graph_util.tensor_shape_from_node_def_name`\n",
      "Flops per frame:502082\n",
      "Model: \"m_2\"\n",
      "_________________________________________________________________\n",
      "Layer (type)                 Output Shape              Param #   \n",
      "=================================================================\n",
      "sequential (Sequential)      (None, 450, 64)           196672    \n",
      "_________________________________________________________________\n",
      "conv1d_1 (Conv1D)            multiple                  41024     \n",
      "_________________________________________________________________\n",
      "sequential_1 (Sequential)    (None, 450, 64)           256       \n",
      "_________________________________________________________________\n",
      "conv1d_2 (Conv1D)            multiple                  10272     \n",
      "_________________________________________________________________\n",
      "sequential_2 (Sequential)    (None, 450, 32)           128       \n",
      "_________________________________________________________________\n",
      "sequential_3 (Sequential)    (None, 450)               33        \n",
      "=================================================================\n",
      "Total params: 248,385\n",
      "Trainable params: 248,193\n",
      "Non-trainable params: 192\n",
      "_________________________________________________________________\n"
     ]
    }
   ],
   "source": [
    "m2 = M_2()\n",
    "m2.compile(optimizer='Nadam', loss='mae')\n",
    "m2.build(input_shape=(None, 450, 32, 32, 3))\n",
    "print(f'Flops per frame:{get_flops(m2, input_sig=[tf.TensorSpec([1, 450, 32, 32, 3])])/450:.0f}')\n",
    "m2.summary()"
   ]
  },
  {
   "cell_type": "code",
   "execution_count": null,
   "metadata": {},
   "outputs": [],
   "source": [
    "m2.fit(train.shuffle(2000).batch(32), validation_data=valid.batch(32), epochs=10, callbacks=[keras.callbacks.ModelCheckpoint('../weights/m2_32.h5', monitor='val_loss', verbose=1, save_best_only=True, mode='min', save_weights_only=True)])\n",
    "m2.load_weights('../weights/m2_32.h5')"
   ]
  },
  {
   "cell_type": "code",
   "execution_count": 4,
   "metadata": {},
   "outputs": [],
   "source": [
    "m2.load_weights('../weights/m2_32.h5')"
   ]
  },
  {
   "cell_type": "code",
   "execution_count": 5,
   "metadata": {},
   "outputs": [
    {
     "name": "stderr",
     "output_type": "stream",
     "text": [
      "100%|██████████| 179/179 [04:05<00:00,  1.37s/it]\n",
      "100%|██████████| 179/179 [01:34<00:00,  1.89it/s]\n"
     ]
    },
    {
     "data": {
      "text/plain": [
       "{'Sliding window': {'MAE': 1.531, 'RMSE': 5.26, 'R': 0.87514},\n",
       " 'Whole video': {'MAE': 1.019, 'RMSE': 4.257, 'R': 0.91149}}"
      ]
     },
     "execution_count": 5,
     "metadata": {},
     "output_type": "execute_result"
    }
   ],
   "source": [
    "eval_on_dataset(test_set_CCNU, m2, 450, (32, 32), step=1, batch=32, save='../results/ours_32_conv_only_CCNU_CCNU.h5')\n",
    "get_metrics('../results/ours_32_conv_only_CCNU_CCNU.h5', use_filter=False)"
   ]
  },
  {
   "cell_type": "code",
   "execution_count": 6,
   "metadata": {},
   "outputs": [
    {
     "name": "stderr",
     "output_type": "stream",
     "text": [
      "100%|██████████| 54/54 [00:57<00:00,  1.06s/it]\n",
      "100%|██████████| 54/54 [00:20<00:00,  2.67it/s]\n"
     ]
    },
    {
     "data": {
      "text/plain": [
       "{'Sliding window': {'MAE': 1.74, 'RMSE': 6.329, 'R': 0.81023},\n",
       " 'Whole video': {'MAE': 0.801, 'RMSE': 2.292, 'R': 0.97249}}"
      ]
     },
     "execution_count": 6,
     "metadata": {},
     "output_type": "execute_result"
    }
   ],
   "source": [
    "eval_on_dataset(test_set_CCNU_rPPG, m2, 450, (32, 32), step=1, batch=32, save='../results/ours_32_conv_only_CCNU_CCNU_rPPG.h5')\n",
    "get_metrics('../results/ours_32_conv_only_CCNU_CCNU_rPPG.h5', use_filter=False)"
   ]
  },
  {
   "cell_type": "code",
   "execution_count": 7,
   "metadata": {},
   "outputs": [
    {
     "name": "stderr",
     "output_type": "stream",
     "text": [
      "100%|██████████| 59/59 [00:37<00:00,  1.59it/s]\n",
      "100%|██████████| 59/59 [00:09<00:00,  6.55it/s]\n"
     ]
    },
    {
     "data": {
      "text/plain": [
       "{'Sliding window': {'MAE': 0.636, 'RMSE': 2.768, 'R': 0.99274},\n",
       " 'Whole video': {'MAE': 0.376, 'RMSE': 0.497, 'R': 0.99979}}"
      ]
     },
     "execution_count": 7,
     "metadata": {},
     "output_type": "execute_result"
    }
   ],
   "source": [
    "eval_on_dataset(test_set_PURE, m2, 450, (32, 32), step=1, batch=1, save='../results/ours_32_conv_only_CCNU_PURE.h5')\n",
    "get_metrics('../results/ours_32_conv_only_CCNU_PURE.h5', use_filter=False)"
   ]
  },
  {
   "cell_type": "code",
   "execution_count": 8,
   "metadata": {},
   "outputs": [
    {
     "name": "stderr",
     "output_type": "stream",
     "text": [
      "100%|██████████| 42/42 [00:23<00:00,  1.81it/s]\n",
      "100%|██████████| 42/42 [00:06<00:00,  6.72it/s]\n"
     ]
    },
    {
     "data": {
      "text/plain": [
       "{'Sliding window': {'MAE': 1.454, 'RMSE': 3.776, 'R': 0.97602},\n",
       " 'Whole video': {'MAE': 0.838, 'RMSE': 1.289, 'R': 0.99759}}"
      ]
     },
     "execution_count": 8,
     "metadata": {},
     "output_type": "execute_result"
    }
   ],
   "source": [
    "eval_on_dataset(test_set_UBFC_rPPG2, m2, 450, (32, 32), step=1, batch=1, save='../results/ours_32_conv_only_CCNU_UBFC.h5')\n",
    "get_metrics('../results/ours_32_conv_only_CCNU_UBFC.h5', use_filter=False)"
   ]
  }
 ],
 "metadata": {
  "kernelspec": {
   "display_name": "dl",
   "language": "python",
   "name": "python3"
  },
  "language_info": {
   "codemirror_mode": {
    "name": "ipython",
    "version": 3
   },
   "file_extension": ".py",
   "mimetype": "text/x-python",
   "name": "python",
   "nbconvert_exporter": "python",
   "pygments_lexer": "ipython3",
   "version": "3.9.16"
  },
  "orig_nbformat": 4,
  "vscode": {
   "interpreter": {
    "hash": "ef3e367c2466be0f305882ce2bcd0e67eb2cbba315c01407a1a54a3d07e5496a"
   }
  }
 },
 "nbformat": 4,
 "nbformat_minor": 2
}
