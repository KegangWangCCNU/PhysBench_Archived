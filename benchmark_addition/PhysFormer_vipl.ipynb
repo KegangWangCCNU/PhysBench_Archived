{
 "cells": [
  {
   "cell_type": "code",
   "execution_count": 1,
   "metadata": {},
   "outputs": [],
   "source": [
    "%load_ext autoreload\n",
    "%autoreload 2\n",
    "import sys\n",
    "sys.path.append(\"..\")\n",
    "from utils import *\n",
    "from models_torch import *\n",
    "import torch.optim as optim\n",
    "from random import shuffle"
   ]
  },
  {
   "cell_type": "code",
   "execution_count": 3,
   "metadata": {},
   "outputs": [],
   "source": [
    "gra_sharp = 2.\n",
    "model = ViT_ST_ST_Compact3_TDC_gra_sharp(image_size=(160,128,128), patches=(4,4,4), dim=96, ff_dim=144, num_heads=4, num_layers=12, dropout_rate=0.1, theta=0.7).cuda()\n",
    "model.load_state_dict(torch.load('../weights/Physformer_VIPL.pkl'))\n",
    "model.train()\n",
    "def physformer(x, model=model):\n",
    "    with torch.no_grad():\n",
    "        bvp = model(torch.tensor(x[..., [2, 1, 0]].transpose(0, 4, 1, 2, 3)).cuda().float()*2-1, gra_sharp)[0].cpu().detach().numpy()\n",
    "        bvp[:,:30] = bvp[:,130:] = bvp[:, 30:130].mean(axis=-1).reshape(-1, 1)\n",
    "        return bvp - bvp.mean(axis=-1).reshape(-1, 1)"
   ]
  },
  {
   "cell_type": "code",
   "execution_count": 5,
   "metadata": {},
   "outputs": [
    {
     "name": "stderr",
     "output_type": "stream",
     "text": [
      "100%|██████████| 59/59 [05:02<00:00,  5.12s/it]\n"
     ]
    },
    {
     "data": {
      "text/plain": [
       "{'Sliding window': {'MAE': 11.218, 'RMSE': 21.947, 'R': 0.62895},\n",
       " 'Whole video': {'MAE': 11.12, 'RMSE': 21.757, 'R': 0.63952}}"
      ]
     },
     "execution_count": 5,
     "metadata": {},
     "output_type": "execute_result"
    }
   ],
   "source": [
    "eval_on_dataset(test_set_PURE, physformer, 160, (128, 128), step=2, batch=4, save='../results/PhysFormer_VIPL_PURE.h5', sample=cv2.INTER_CUBIC)\n",
    "get_metrics('../results/PhysFormer_VIPL_PURE.h5')"
   ]
  },
  {
   "cell_type": "code",
   "execution_count": 4,
   "metadata": {},
   "outputs": [
    {
     "name": "stderr",
     "output_type": "stream",
     "text": [
      "100%|██████████| 42/42 [03:25<00:00,  4.90s/it]\n"
     ]
    },
    {
     "data": {
      "text/plain": [
       "{'Sliding window': {'MAE': 1.382, 'RMSE': 3.562, 'R': 0.97855},\n",
       " 'Whole video': {'MAE': 0.896, 'RMSE': 1.263, 'R': 0.99735}}"
      ]
     },
     "execution_count": 4,
     "metadata": {},
     "output_type": "execute_result"
    }
   ],
   "source": [
    "eval_on_dataset(test_set_UBFC_rPPG2, physformer, 160, (128, 128), step=2, batch=4, save='../results/PhysFormer_VIPL_UBFC.h5', sample=cv2.INTER_CUBIC)\n",
    "get_metrics('../results/PhysFormer_VIPL_UBFC.h5')"
   ]
  }
 ],
 "metadata": {
  "kernelspec": {
   "display_name": "dl",
   "language": "python",
   "name": "python3"
  },
  "language_info": {
   "codemirror_mode": {
    "name": "ipython",
    "version": 3
   },
   "file_extension": ".py",
   "mimetype": "text/x-python",
   "name": "python",
   "nbconvert_exporter": "python",
   "pygments_lexer": "ipython3",
   "version": "3.9.16"
  },
  "orig_nbformat": 4
 },
 "nbformat": 4,
 "nbformat_minor": 2
}
