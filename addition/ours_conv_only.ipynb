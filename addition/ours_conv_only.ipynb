{
 "cells": [
  {
   "cell_type": "code",
   "execution_count": 1,
   "metadata": {},
   "outputs": [],
   "source": [
    "%load_ext autoreload\n",
    "%autoreload 2\n",
    "import sys\n",
    "sys.path.append(\"..\")\n",
    "from utils import *\n",
    "from models import *"
   ]
  },
  {
   "cell_type": "code",
   "execution_count": 3,
   "metadata": {},
   "outputs": [],
   "source": [
    "train_tape = \"Z:/rppg/ccnu_datatape_450x8x8_train.h5\"\n",
    "valid_tape = \"Z:/rppg/ccnu_datatape_450x8x8_valid.h5\"\n",
    "\n",
    "train =  load_datatape(train_tape, use_normalized_bvp=True)\n",
    "valid = load_datatape(valid_tape, use_normalized_bvp=False)\n",
    "#train, valid = to_tf(train).cache(f'{tmp}/ours'), to_tf(valid).cache(f'{tmp}/ours')\n",
    "train, valid = to_tf(train), to_tf(valid)"
   ]
  },
  {
   "cell_type": "code",
   "execution_count": 5,
   "metadata": {},
   "outputs": [
    {
     "name": "stdout",
     "output_type": "stream",
     "text": [
      "Flops per fram:127682\n"
     ]
    }
   ],
   "source": [
    "m2 = M_2()\n",
    "m2.compile(optimizer='Nadam', loss='mae')\n",
    "m2.build(input_shape=(None, 450, 8, 8, 3))\n",
    "print(f'Flops per frame:{get_flops(m2, input_sig=[tf.TensorSpec([1, 450, 8, 8, 3])])/450:.0f}')"
   ]
  },
  {
   "cell_type": "code",
   "execution_count": null,
   "metadata": {},
   "outputs": [],
   "source": [
    "m2.fit(train.shuffle(2000).batch(32), validation_data=valid.batch(32), epochs=10, callbacks=[keras.callbacks.ModelCheckpoint('../weights/m2.h5', monitor='val_loss', verbose=1, save_best_only=True, mode='min', save_weights_only=True)])\n",
    "m2.load_weights('../weights/m2.h5')"
   ]
  },
  {
   "cell_type": "code",
   "execution_count": 4,
   "metadata": {},
   "outputs": [],
   "source": [
    "m2.load_weights('../weights/m2.h5')"
   ]
  },
  {
   "cell_type": "code",
   "execution_count": 11,
   "metadata": {},
   "outputs": [
    {
     "name": "stderr",
     "output_type": "stream",
     "text": [
      "100%|██████████| 179/179 [08:25<00:00,  2.83s/it]\n",
      "100%|██████████| 179/179 [01:41<00:00,  1.76it/s]\n"
     ]
    },
    {
     "data": {
      "text/plain": [
       "{'Sliding window': {'MAE': 1.557, 'RMSE': 5.504, 'R': 0.86327},\n",
       " 'Whole video': {'MAE': 0.608, 'RMSE': 1.244, 'R': 0.99143}}"
      ]
     },
     "execution_count": 11,
     "metadata": {},
     "output_type": "execute_result"
    }
   ],
   "source": [
    "eval_on_dataset(test_set_CCNU, m2, 450, (8, 8), step=1, batch=32, save='../results/ours_conv_only_CCNU_CCNU.h5')\n",
    "get_metrics('../results/ours_conv_only_CCNU_CCNU.h5', use_filter=False)"
   ]
  },
  {
   "cell_type": "code",
   "execution_count": 10,
   "metadata": {},
   "outputs": [
    {
     "name": "stderr",
     "output_type": "stream",
     "text": [
      "100%|██████████| 54/54 [01:53<00:00,  2.10s/it]\n",
      "100%|██████████| 54/54 [00:20<00:00,  2.62it/s]\n"
     ]
    },
    {
     "data": {
      "text/plain": [
       "{'Sliding window': {'MAE': 1.689, 'RMSE': 6.327, 'R': 0.80597},\n",
       " 'Whole video': {'MAE': 0.733, 'RMSE': 1.825, 'R': 0.98193}}"
      ]
     },
     "execution_count": 10,
     "metadata": {},
     "output_type": "execute_result"
    }
   ],
   "source": [
    "eval_on_dataset(test_set_CCNU_rPPG, m2, 450, (8, 8), step=1, batch=32, save='../results/ours_conv_only_CCNU_CCNU_rPPG.h5')\n",
    "get_metrics('../results/ours_conv_only_CCNU_CCNU_rPPG.h5', use_filter=False)"
   ]
  },
  {
   "cell_type": "code",
   "execution_count": 8,
   "metadata": {},
   "outputs": [
    {
     "name": "stderr",
     "output_type": "stream",
     "text": [
      "100%|██████████| 59/59 [01:10<00:00,  1.19s/it]\n",
      "100%|██████████| 59/59 [00:08<00:00,  6.85it/s]\n"
     ]
    },
    {
     "data": {
      "text/plain": [
       "{'Sliding window': {'MAE': 2.71, 'RMSE': 11.402, 'R': 0.88413},\n",
       " 'Whole video': {'MAE': 3.749, 'RMSE': 15.282, 'R': 0.81263}}"
      ]
     },
     "execution_count": 8,
     "metadata": {},
     "output_type": "execute_result"
    }
   ],
   "source": [
    "eval_on_dataset(test_set_PURE, m2, 450, (8, 8), step=1, batch=1, save='../results/ours_conv_only_CCNU_PURE.h5')\n",
    "get_metrics('../results/ours_conv_only_CCNU_PURE.h5',use_filter=False)"
   ]
  },
  {
   "cell_type": "code",
   "execution_count": 9,
   "metadata": {},
   "outputs": [
    {
     "name": "stderr",
     "output_type": "stream",
     "text": [
      "100%|██████████| 42/42 [00:46<00:00,  1.11s/it]\n",
      "100%|██████████| 42/42 [00:06<00:00,  6.20it/s]\n"
     ]
    },
    {
     "data": {
      "text/plain": [
       "{'Sliding window': {'MAE': 1.64, 'RMSE': 4.003, 'R': 0.97273},\n",
       " 'Whole video': {'MAE': 0.998, 'RMSE': 1.372, 'R': 0.99722}}"
      ]
     },
     "execution_count": 9,
     "metadata": {},
     "output_type": "execute_result"
    }
   ],
   "source": [
    "eval_on_dataset(test_set_UBFC_rPPG2, m2, 450, (8, 8), step=1, batch=1, save='../results/ours_conv_only_CCNU_UBFC.h5')\n",
    "get_metrics('../results/ours_conv_only_CCNU_UBFC.h5', use_filter=False)"
   ]
  }
 ],
 "metadata": {
  "kernelspec": {
   "display_name": "dl",
   "language": "python",
   "name": "python3"
  },
  "language_info": {
   "codemirror_mode": {
    "name": "ipython",
    "version": 3
   },
   "file_extension": ".py",
   "mimetype": "text/x-python",
   "name": "python",
   "nbconvert_exporter": "python",
   "pygments_lexer": "ipython3",
   "version": "3.9.16"
  },
  "orig_nbformat": 4,
  "vscode": {
   "interpreter": {
    "hash": "ef3e367c2466be0f305882ce2bcd0e67eb2cbba315c01407a1a54a3d07e5496a"
   }
  }
 },
 "nbformat": 4,
 "nbformat_minor": 2
}
