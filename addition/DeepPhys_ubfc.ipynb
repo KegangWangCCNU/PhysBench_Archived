{
 "cells": [
  {
   "cell_type": "code",
   "execution_count": 1,
   "metadata": {},
   "outputs": [],
   "source": [
    "%load_ext autoreload\n",
    "%autoreload 2\n",
    "import sys\n",
    "sys.path.append(\"..\")\n",
    "from utils import *\n",
    "from models import *"
   ]
  },
  {
   "cell_type": "code",
   "execution_count": 2,
   "metadata": {},
   "outputs": [],
   "source": [
    "train_tape = \"Z:/rppg/ubfc_datatape_160x36x36_train.h5\"\n",
    "valid_tape = \"Z:/rppg/ubfc_datatape_160x36x36_valid.h5\"\n",
    "\n",
    "train =  load_datatape(train_tape, use_normalized_bvp=True)\n",
    "valid = load_datatape(valid_tape, use_normalized_bvp=False)\n",
    "\n",
    "def to_tf_deep_phys(datatape, dtype=tf.float16):\n",
    "    def _():\n",
    "        for i, j in datatape:\n",
    "            j = tf.concat([j[1:]-j[:-1], [0]], axis=0)\n",
    "            #yield i, (j-tf.reduce_mean(j, axis=0))/(tf.math.reduce_std(j, axis=0)+1e-6)\n",
    "            yield i, j\n",
    "    return tf.data.Dataset.from_generator(lambda :_(), output_types=(dtype, dtype), output_shapes=(datatape.shape, datatape.shape[:1]))\n",
    "\n",
    "#train, valid = to_tf_deep_phys(train).cache(f'{tmp}/deepphys'), to_tf_deep_phys(valid).cache(f'{tmp}/deepphys')\n",
    "train, valid = to_tf_deep_phys(train), to_tf_deep_phys(valid)"
   ]
  },
  {
   "cell_type": "code",
   "execution_count": 3,
   "metadata": {},
   "outputs": [
    {
     "name": "stdout",
     "output_type": "stream",
     "text": [
      "WARNING:tensorflow:From x:\\Users\\wkg\\anaconda3\\envs\\dl\\lib\\site-packages\\tensorflow\\python\\profiler\\internal\\flops_registry.py:142: tensor_shape_from_node_def_name (from tensorflow.python.framework.graph_util_impl) is deprecated and will be removed in a future version.\n",
      "Instructions for updating:\n",
      "Use `tf.compat.v1.graph_util.tensor_shape_from_node_def_name`\n",
      "Flops per frame:52158718\n",
      "Model: \"deep_phys_end_to_end\"\n",
      "_________________________________________________________________\n",
      "Layer (type)                 Output Shape              Param #   \n",
      "=================================================================\n",
      "model (Functional)           (None, 1)                 532899    \n",
      "=================================================================\n",
      "Total params: 532,899\n",
      "Trainable params: 532,899\n",
      "Non-trainable params: 0\n",
      "_________________________________________________________________\n"
     ]
    }
   ],
   "source": [
    "deepphys = DeepPhys_end_to_end()\n",
    "deepphys.compile(optimizer='Nadam', loss='mse')\n",
    "deepphys.build(input_shape=(None, 36, 36, 3))\n",
    "print(f'Flops per frame:{get_flops(deepphys, input_sig=[tf.TensorSpec([160, 36, 36, 3])])/160:.0f}')\n",
    "deepphys.summary()"
   ]
  },
  {
   "cell_type": "code",
   "execution_count": 4,
   "metadata": {},
   "outputs": [
    {
     "name": "stdout",
     "output_type": "stream",
     "text": [
      "Epoch 1/10\n",
      "485/485 [==============================] - 29s 44ms/step - loss: 0.2515 - val_loss: 0.2203\n",
      "\n",
      "Epoch 00001: val_loss improved from inf to 0.22034, saving model to ../weights\\DeepPhys_UBFC.h5\n",
      "Epoch 2/10\n",
      "485/485 [==============================] - 23s 41ms/step - loss: 0.2518 - val_loss: 0.2126\n",
      "\n",
      "Epoch 00002: val_loss improved from 0.22034 to 0.21255, saving model to ../weights\\DeepPhys_UBFC.h5\n",
      "Epoch 3/10\n",
      "485/485 [==============================] - 21s 37ms/step - loss: 0.2492 - val_loss: 0.2160\n",
      "\n",
      "Epoch 00003: val_loss did not improve from 0.21255\n",
      "Epoch 4/10\n",
      "485/485 [==============================] - 21s 36ms/step - loss: 0.2476 - val_loss: 0.2177\n",
      "\n",
      "Epoch 00004: val_loss did not improve from 0.21255\n",
      "Epoch 5/10\n",
      "485/485 [==============================] - 21s 36ms/step - loss: 0.2470 - val_loss: 0.2133\n",
      "\n",
      "Epoch 00005: val_loss did not improve from 0.21255\n",
      "Epoch 6/10\n",
      "485/485 [==============================] - 24s 42ms/step - loss: 0.2461 - val_loss: 0.2143\n",
      "\n",
      "Epoch 00006: val_loss did not improve from 0.21255\n",
      "Epoch 7/10\n",
      "485/485 [==============================] - 25s 45ms/step - loss: 0.2457 - val_loss: 0.2186\n",
      "\n",
      "Epoch 00007: val_loss did not improve from 0.21255\n",
      "Epoch 8/10\n",
      "485/485 [==============================] - 15s 23ms/step - loss: 0.2446 - val_loss: 0.2146\n",
      "\n",
      "Epoch 00008: val_loss did not improve from 0.21255\n",
      "Epoch 9/10\n",
      "485/485 [==============================] - 14s 23ms/step - loss: 0.2431 - val_loss: 0.2161\n",
      "\n",
      "Epoch 00009: val_loss did not improve from 0.21255\n",
      "Epoch 10/10\n",
      "485/485 [==============================] - 14s 23ms/step - loss: 0.2422 - val_loss: 0.2204\n",
      "\n",
      "Epoch 00010: val_loss did not improve from 0.21255\n"
     ]
    }
   ],
   "source": [
    "deepphys.fit(train.shuffle(2000), validation_data=valid, epochs=10, callbacks=[keras.callbacks.ModelCheckpoint('../weights/DeepPhys_UBFC.h5', monitor='val_loss', verbose=1, save_best_only=True, mode='min', save_weights_only=True)])\n",
    "deepphys.load_weights('../weights/DeepPhys_UBFC.h5')"
   ]
  },
  {
   "cell_type": "code",
   "execution_count": 5,
   "metadata": {},
   "outputs": [],
   "source": [
    "def cumsum(result, overwrite=True):\n",
    "    with h5py.File(result, 'a') as f:\n",
    "        for i, j in f.items():\n",
    "            if 'diff' not in j.keys():\n",
    "                j.create_dataset('diff', data=j['predict'])\n",
    "                j['predict'][...] = detrend(np.cumsum(j['diff']))\n",
    "            elif overwrite:\n",
    "                j['predict'][...] = detrend(np.cumsum(j['diff']))"
   ]
  },
  {
   "cell_type": "code",
   "execution_count": 6,
   "metadata": {},
   "outputs": [
    {
     "name": "stderr",
     "output_type": "stream",
     "text": [
      "100%|██████████| 42/42 [00:20<00:00,  2.01it/s]\n"
     ]
    },
    {
     "data": {
      "text/plain": [
       "{'Sliding window': {'MAE': 11.298, 'RMSE': 20.214, 'R': 0.48887},\n",
       " 'Whole video': {'MAE': 10.036, 'RMSE': 17.863, 'R': 0.62736}}"
      ]
     },
     "execution_count": 6,
     "metadata": {},
     "output_type": "execute_result"
    }
   ],
   "source": [
    "eval_on_dataset(test_set_UBFC_rPPG2, deepphys, 160, (36, 36), step=1, batch=0, save='../results/DeepPhys_UBFC_PURE.h5', sample=cv2.INTER_CUBIC)\n",
    "cumsum('../results/DeepPhys_UBFC_PURE.h5')\n",
    "get_metrics('../results/DeepPhys_UBFC_PURE.h5')"
   ]
  }
 ],
 "metadata": {
  "kernelspec": {
   "display_name": "dl",
   "language": "python",
   "name": "python3"
  },
  "language_info": {
   "codemirror_mode": {
    "name": "ipython",
    "version": 3
   },
   "file_extension": ".py",
   "mimetype": "text/x-python",
   "name": "python",
   "nbconvert_exporter": "python",
   "pygments_lexer": "ipython3",
   "version": "3.9.16"
  },
  "orig_nbformat": 4
 },
 "nbformat": 4,
 "nbformat_minor": 2
}
