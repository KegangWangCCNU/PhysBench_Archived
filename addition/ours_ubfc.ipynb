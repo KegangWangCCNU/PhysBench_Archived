{
 "cells": [
  {
   "cell_type": "code",
   "execution_count": 1,
   "metadata": {},
   "outputs": [],
   "source": [
    "%load_ext autoreload\n",
    "%autoreload 2\n",
    "import sys\n",
    "sys.path.append(\"..\")\n",
    "from utils import *\n",
    "from models import *"
   ]
  },
  {
   "cell_type": "code",
   "execution_count": 3,
   "metadata": {},
   "outputs": [],
   "source": [
    "train_tape = \"Z:/rppg/ubfc_datatape_450x8x8_train.h5\"\n",
    "valid_tape = \"Z:/rppg/ubfc_datatape_450x8x8_valid.h5\"\n",
    "\n",
    "train =  load_datatape(train_tape, use_normalized_bvp=True)\n",
    "valid = load_datatape(valid_tape, use_normalized_bvp=False)\n",
    "train, valid = to_tf(train).cache(), to_tf(valid).cache()"
   ]
  },
  {
   "cell_type": "code",
   "execution_count": 2,
   "metadata": {},
   "outputs": [
    {
     "name": "stdout",
     "output_type": "stream",
     "text": [
      "WARNING:tensorflow:From x:\\Users\\wkg\\anaconda3\\envs\\dl\\lib\\site-packages\\tensorflow\\python\\profiler\\internal\\flops_registry.py:243: tensor_shape_from_node_def_name (from tensorflow.python.framework.graph_util_impl) is deprecated and will be removed in a future version.\n",
      "Instructions for updating:\n",
      "Use `tf.compat.v1.graph_util.tensor_shape_from_node_def_name`\n",
      "Flops per frame:259597\n",
      "Model: \"m_1\"\n",
      "_________________________________________________________________\n",
      "Layer (type)                 Output Shape              Param #   \n",
      "=================================================================\n",
      "sequential (Sequential)      (None, 450, 64)           12352     \n",
      "_________________________________________________________________\n",
      "spectral_transform (Spectral multiple                  82560     \n",
      "_________________________________________________________________\n",
      "conv1d_2 (Conv1D)            multiple                  41024     \n",
      "_________________________________________________________________\n",
      "sequential_2 (Sequential)    (None, 450, 64)           256       \n",
      "_________________________________________________________________\n",
      "spectral_transform_1 (Spectr multiple                  49792     \n",
      "_________________________________________________________________\n",
      "conv1d_4 (Conv1D)            multiple                  10272     \n",
      "_________________________________________________________________\n",
      "sequential_4 (Sequential)    (None, 450, 32)           128       \n",
      "_________________________________________________________________\n",
      "sequential_5 (Sequential)    (None, 450)               33        \n",
      "=================================================================\n",
      "Total params: 196,417\n",
      "Trainable params: 195,713\n",
      "Non-trainable params: 704\n",
      "_________________________________________________________________\n"
     ]
    }
   ],
   "source": [
    "m1 = M_1()\n",
    "m1.compile(optimizer='Nadam', loss='mae')\n",
    "m1.build(input_shape=(None, 450, 8, 8, 3))\n",
    "print(f'Flops per frame:{get_flops(m1, input_sig=[tf.TensorSpec([1, 450, 8, 8, 3])])/450:.0f}')\n",
    "m1.summary()"
   ]
  },
  {
   "cell_type": "code",
   "execution_count": null,
   "metadata": {},
   "outputs": [],
   "source": [
    "m1.fit(train.shuffle(2000).batch(32), validation_data=valid.batch(32), epochs=10, callbacks=[keras.callbacks.ModelCheckpoint('../weights/m1_ubfc.h5', monitor='val_loss', verbose=1, save_best_only=True, mode='min', save_weights_only=True)])\n",
    "m1.load_weights('../weights/m1_ubfc.h5')\n",
    "m1.cross()"
   ]
  },
  {
   "cell_type": "code",
   "execution_count": 4,
   "metadata": {},
   "outputs": [],
   "source": [
    "m1.load_weights('../weights/m1_ubfc.h5')\n",
    "m1.cross()"
   ]
  },
  {
   "cell_type": "code",
   "execution_count": 7,
   "metadata": {},
   "outputs": [
    {
     "name": "stderr",
     "output_type": "stream",
     "text": [
      "100%|██████████| 179/179 [00:26<00:00,  6.80it/s]\n"
     ]
    },
    {
     "data": {
      "text/plain": [
       "{'Sliding window': {'MAE': 18.427, 'RMSE': 31.746, 'R': 0.00632},\n",
       " 'Whole video': {'MAE': 14.883, 'RMSE': 27.853, 'R': 0.03905}}"
      ]
     },
     "execution_count": 7,
     "metadata": {},
     "output_type": "execute_result"
    }
   ],
   "source": [
    "eval_on_dataset(test_set_CCNU, m1, 450, (8, 8), step=1, batch=32, save='../results/ours_UBFC_CCNU.h5')\n",
    "get_metrics('../results/ours_UBFC_CCNU.h5', use_filter=False)"
   ]
  },
  {
   "cell_type": "code",
   "execution_count": 6,
   "metadata": {},
   "outputs": [
    {
     "name": "stderr",
     "output_type": "stream",
     "text": [
      "100%|██████████| 54/54 [00:05<00:00,  9.36it/s]\n"
     ]
    },
    {
     "data": {
      "text/plain": [
       "{'Sliding window': {'MAE': 18.449, 'RMSE': 30.815, 'R': 0.07882},\n",
       " 'Whole video': {'MAE': 15.093, 'RMSE': 26.096, 'R': 0.14105}}"
      ]
     },
     "execution_count": 6,
     "metadata": {},
     "output_type": "execute_result"
    }
   ],
   "source": [
    "eval_on_dataset(test_set_CCNU_rPPG, m1, 450, (8, 8), step=1, batch=32, save='../results/ours_UBFC_CCNU_rPPG.h5')\n",
    "get_metrics('../results/ours_UBFC_CCNU_rPPG.h5', use_filter=False)"
   ]
  },
  {
   "cell_type": "code",
   "execution_count": 5,
   "metadata": {},
   "outputs": [
    {
     "name": "stderr",
     "output_type": "stream",
     "text": [
      "100%|██████████| 59/59 [00:05<00:00, 11.64it/s]\n"
     ]
    },
    {
     "data": {
      "text/plain": [
       "{'Sliding window': {'MAE': 29.05, 'RMSE': 46.286, 'R': 0.24464},\n",
       " 'Whole video': {'MAE': 25.611, 'RMSE': 43.391, 'R': 0.24848}}"
      ]
     },
     "execution_count": 5,
     "metadata": {},
     "output_type": "execute_result"
    }
   ],
   "source": [
    "eval_on_dataset(test_set_PURE, m1, 450, (8, 8), step=1, batch=32, save='../results/ours_UBFC_PURE.h5')\n",
    "get_metrics('../results/ours_UBFC_PURE.h5',use_filter=False)"
   ]
  }
 ],
 "metadata": {
  "kernelspec": {
   "display_name": "dl",
   "language": "python",
   "name": "python3"
  },
  "language_info": {
   "codemirror_mode": {
    "name": "ipython",
    "version": 3
   },
   "file_extension": ".py",
   "mimetype": "text/x-python",
   "name": "python",
   "nbconvert_exporter": "python",
   "pygments_lexer": "ipython3",
   "version": "3.9.16"
  },
  "orig_nbformat": 4,
  "vscode": {
   "interpreter": {
    "hash": "ef3e367c2466be0f305882ce2bcd0e67eb2cbba315c01407a1a54a3d07e5496a"
   }
  }
 },
 "nbformat": 4,
 "nbformat_minor": 2
}
