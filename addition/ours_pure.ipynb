{
 "cells": [
  {
   "cell_type": "code",
   "execution_count": 1,
   "metadata": {},
   "outputs": [],
   "source": [
    "%load_ext autoreload\n",
    "%autoreload 2\n",
    "import sys\n",
    "sys.path.append(\"..\")\n",
    "from utils import *\n",
    "from models import *"
   ]
  },
  {
   "cell_type": "code",
   "execution_count": 2,
   "metadata": {},
   "outputs": [],
   "source": [
    "train_tape = \"Z:/rppg/pure_datatape_450x8x8_train.h5\"\n",
    "valid_tape = \"Z:/rppg/pure_datatape_450x8x8_valid.h5\"\n",
    "\n",
    "train =  load_datatape(train_tape, use_normalized_bvp=True)\n",
    "valid = load_datatape(valid_tape, use_normalized_bvp=False)\n",
    "train, valid = to_tf(train).cache(), to_tf(valid).cache()"
   ]
  },
  {
   "cell_type": "code",
   "execution_count": 3,
   "metadata": {},
   "outputs": [
    {
     "name": "stdout",
     "output_type": "stream",
     "text": [
      "WARNING:tensorflow:From x:\\Users\\wkg\\anaconda3\\envs\\dl\\lib\\site-packages\\tensorflow\\python\\profiler\\internal\\flops_registry.py:243: tensor_shape_from_node_def_name (from tensorflow.python.framework.graph_util_impl) is deprecated and will be removed in a future version.\n",
      "Instructions for updating:\n",
      "Use `tf.compat.v1.graph_util.tensor_shape_from_node_def_name`\n",
      "Flops per frame:260557\n",
      "Model: \"m_1\"\n",
      "_________________________________________________________________\n",
      "Layer (type)                 Output Shape              Param #   \n",
      "=================================================================\n",
      "sequential (Sequential)      (None, 450, 64)           12352     \n",
      "_________________________________________________________________\n",
      "spectral_transform (Spectral multiple                  82560     \n",
      "_________________________________________________________________\n",
      "conv1d_2 (Conv1D)            multiple                  41024     \n",
      "_________________________________________________________________\n",
      "sequential_2 (Sequential)    (None, 450, 64)           256       \n",
      "_________________________________________________________________\n",
      "spectral_transform_1 (Spectr multiple                  49792     \n",
      "_________________________________________________________________\n",
      "conv1d_4 (Conv1D)            multiple                  10272     \n",
      "_________________________________________________________________\n",
      "sequential_4 (Sequential)    (None, 450, 32)           128       \n",
      "_________________________________________________________________\n",
      "sequential_5 (Sequential)    (None, 450)               33        \n",
      "=================================================================\n",
      "Total params: 196,417\n",
      "Trainable params: 195,713\n",
      "Non-trainable params: 704\n",
      "_________________________________________________________________\n"
     ]
    }
   ],
   "source": [
    "m1 = M_1()\n",
    "m1.compile(optimizer='Nadam', loss='mae')\n",
    "m1.build(input_shape=(None, 450, 8, 8, 3))\n",
    "print(f'Flops per frame:{get_flops(m1, input_sig=[tf.TensorSpec([1, 450, 8, 8, 3])])/450:.0f}')\n",
    "m1.summary()"
   ]
  },
  {
   "cell_type": "code",
   "execution_count": 4,
   "metadata": {},
   "outputs": [
    {
     "name": "stdout",
     "output_type": "stream",
     "text": [
      "Epoch 1/10\n",
      "81/81 [==============================] - 8s 36ms/step - loss: 0.9049 - val_loss: 0.9653\n",
      "\n",
      "Epoch 00001: val_loss improved from inf to 0.96532, saving model to ../weights\\m1_pure.h5\n",
      "Epoch 2/10\n",
      "81/81 [==============================] - 1s 18ms/step - loss: 0.7116 - val_loss: 0.7577\n",
      "\n",
      "Epoch 00002: val_loss improved from 0.96532 to 0.75770, saving model to ../weights\\m1_pure.h5\n",
      "Epoch 3/10\n",
      "81/81 [==============================] - 1s 18ms/step - loss: 0.5173 - val_loss: 0.6883\n",
      "\n",
      "Epoch 00003: val_loss improved from 0.75770 to 0.68834, saving model to ../weights\\m1_pure.h5\n",
      "Epoch 4/10\n",
      "81/81 [==============================] - 2s 19ms/step - loss: 0.4341 - val_loss: 0.6109\n",
      "\n",
      "Epoch 00004: val_loss improved from 0.68834 to 0.61093, saving model to ../weights\\m1_pure.h5\n",
      "Epoch 5/10\n",
      "81/81 [==============================] - 2s 19ms/step - loss: 0.3924 - val_loss: 0.6411\n",
      "\n",
      "Epoch 00005: val_loss did not improve from 0.61093\n",
      "Epoch 6/10\n",
      "81/81 [==============================] - 2s 19ms/step - loss: 0.3581 - val_loss: 0.4874\n",
      "\n",
      "Epoch 00006: val_loss improved from 0.61093 to 0.48736, saving model to ../weights\\m1_pure.h5\n",
      "Epoch 7/10\n",
      "81/81 [==============================] - 2s 19ms/step - loss: 0.3367 - val_loss: 0.4696\n",
      "\n",
      "Epoch 00007: val_loss improved from 0.48736 to 0.46964, saving model to ../weights\\m1_pure.h5\n",
      "Epoch 8/10\n",
      "81/81 [==============================] - 2s 19ms/step - loss: 0.3140 - val_loss: 0.4990\n",
      "\n",
      "Epoch 00008: val_loss did not improve from 0.46964\n",
      "Epoch 9/10\n",
      "81/81 [==============================] - 2s 19ms/step - loss: 0.3019 - val_loss: 0.4379\n",
      "\n",
      "Epoch 00009: val_loss improved from 0.46964 to 0.43794, saving model to ../weights\\m1_pure.h5\n",
      "Epoch 10/10\n",
      "81/81 [==============================] - 2s 19ms/step - loss: 0.2909 - val_loss: 0.4661\n",
      "\n",
      "Epoch 00010: val_loss did not improve from 0.43794\n"
     ]
    }
   ],
   "source": [
    "m1.fit(train.shuffle(2000).batch(32), validation_data=valid.batch(32), epochs=10, callbacks=[keras.callbacks.ModelCheckpoint('../weights/m1_pure.h5', monitor='val_loss', verbose=1, save_best_only=True, mode='min', save_weights_only=True)])\n",
    "m1.load_weights('../weights/m1_pure.h5')"
   ]
  },
  {
   "cell_type": "code",
   "execution_count": null,
   "metadata": {},
   "outputs": [],
   "source": [
    "m1.load_weights('../weights/m1_pure.h5')"
   ]
  },
  {
   "cell_type": "code",
   "execution_count": 7,
   "metadata": {},
   "outputs": [
    {
     "name": "stderr",
     "output_type": "stream",
     "text": [
      "100%|██████████| 179/179 [00:25<00:00,  6.91it/s]\n"
     ]
    },
    {
     "data": {
      "text/plain": [
       "{'Sliding window': {'MAE': 5.823, 'RMSE': 15.063, 'R': 0.40767},\n",
       " 'Whole video': {'MAE': 2.893, 'RMSE': 10.172, 'R': 0.60115}}"
      ]
     },
     "execution_count": 7,
     "metadata": {},
     "output_type": "execute_result"
    }
   ],
   "source": [
    "eval_on_dataset(test_set_CCNU, m1, 450, (8, 8), step=1, batch=32, save='../results/ours_PURE_CCNU.h5')\n",
    "get_metrics('../results/ours_PURE_CCNU.h5', use_filter=False)"
   ]
  },
  {
   "cell_type": "code",
   "execution_count": 6,
   "metadata": {},
   "outputs": [
    {
     "name": "stderr",
     "output_type": "stream",
     "text": [
      "100%|██████████| 54/54 [00:05<00:00,  9.49it/s]\n"
     ]
    },
    {
     "data": {
      "text/plain": [
       "{'Sliding window': {'MAE': 6.487, 'RMSE': 16.197, 'R': 0.37994},\n",
       " 'Whole video': {'MAE': 5.049, 'RMSE': 14.564, 'R': 0.39071}}"
      ]
     },
     "execution_count": 6,
     "metadata": {},
     "output_type": "execute_result"
    }
   ],
   "source": [
    "eval_on_dataset(test_set_CCNU_rPPG, m1, 450, (8, 8), step=1, batch=32, save='../results/ours_PURE_CCNU_rPPG.h5')\n",
    "get_metrics('../results/ours_PURE_CCNU_rPPG.h5', use_filter=False)"
   ]
  },
  {
   "cell_type": "code",
   "execution_count": 8,
   "metadata": {},
   "outputs": [
    {
     "name": "stderr",
     "output_type": "stream",
     "text": [
      "100%|██████████| 42/42 [00:02<00:00, 19.93it/s]\n"
     ]
    },
    {
     "data": {
      "text/plain": [
       "{'Sliding window': {'MAE': 2.357, 'RMSE': 7.418, 'R': 0.92078},\n",
       " 'Whole video': {'MAE': 1.158, 'RMSE': 1.857, 'R': 0.99448}}"
      ]
     },
     "execution_count": 8,
     "metadata": {},
     "output_type": "execute_result"
    }
   ],
   "source": [
    "eval_on_dataset(test_set_UBFC_rPPG2, m1, 450, (8, 8), step=1, batch=32, save='../results/ours_PURE_UBFC.h5')\n",
    "get_metrics('../results/ours_PURE_UBFC.h5',use_filter=False)"
   ]
  }
 ],
 "metadata": {
  "kernelspec": {
   "display_name": "dl",
   "language": "python",
   "name": "python3"
  },
  "language_info": {
   "codemirror_mode": {
    "name": "ipython",
    "version": 3
   },
   "file_extension": ".py",
   "mimetype": "text/x-python",
   "name": "python",
   "nbconvert_exporter": "python",
   "pygments_lexer": "ipython3",
   "version": "3.9.16"
  },
  "orig_nbformat": 4,
  "vscode": {
   "interpreter": {
    "hash": "ef3e367c2466be0f305882ce2bcd0e67eb2cbba315c01407a1a54a3d07e5496a"
   }
  }
 },
 "nbformat": 4,
 "nbformat_minor": 2
}
