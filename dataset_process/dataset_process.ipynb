{
 "cells": [
  {
   "cell_type": "code",
   "execution_count": 2,
   "metadata": {},
   "outputs": [],
   "source": [
    "import sys\n",
    "sys.path.append(\"..\")\n",
    "from utils import *"
   ]
  },
  {
   "cell_type": "code",
   "execution_count": null,
   "metadata": {},
   "outputs": [],
   "source": [
    "df = pd.read_csv('../datasets/CCNU_dataset_index.csv')\n",
    "\n",
    "#生成CCNU训练集，使用fold 1, 2, 3\n",
    "files_ccnu = df[(df['codec']=='MJPG')&(df['fold']>0)&(df['fold']<4)]['file']\n",
    "dump_dataset(\"Z:/rppg/ccnu_dataset_train.h5\", files_ccnu, loader_ccnu)\n",
    "\n",
    "#生成CCNU验证集，使用fold 0\n",
    "files_ccnu = df[(df['codec']=='MJPG')&(df['fold']==0)]['file']\n",
    "dump_dataset(\"Z:/rppg/ccnu_dataset_valid.h5\", files_ccnu, loader_ccnu)\n",
    "\n",
    "#生成CCNU测试集，使用fold 4\n",
    "files_ccnu = df[(df['codec']=='MJPG')&(df['fold']==4)]['file']\n",
    "dump_dataset(\"Z:/rppg/ccnu_dataset_test.h5\", files_ccnu, loader_ccnu, compression=0)"
   ]
  },
  {
   "cell_type": "code",
   "execution_count": 4,
   "metadata": {},
   "outputs": [
    {
     "name": "stdout",
     "output_type": "stream",
     "text": [
      "制作 dataset Z:/rppg/pure_dataset.h5 中.....\n"
     ]
    },
    {
     "name": "stderr",
     "output_type": "stream",
     "text": [
      "100%|██████████| 59/59 [18:25<00:00, 18.73s/it]  \n"
     ]
    }
   ],
   "source": [
    "df = pd.read_csv('../datasets/PURE_dataset_index.csv')\n",
    "\n",
    "#生成PURE数据集\n",
    "files_pure = df['file']\n",
    "dump_dataset(\"Z:/rppg/pure_dataset.h5\", files_pure, loader_pure, compression=0)"
   ]
  },
  {
   "cell_type": "code",
   "execution_count": 2,
   "metadata": {},
   "outputs": [
    {
     "name": "stdout",
     "output_type": "stream",
     "text": [
      "制作 dataset Z:/rppg/ubfc_rppg2_dataset.h5 中.....\n"
     ]
    },
    {
     "name": "stderr",
     "output_type": "stream",
     "text": [
      "100%|██████████| 42/42 [01:29<00:00,  2.12s/it]\n"
     ]
    }
   ],
   "source": [
    "df = pd.read_csv('../datasets/UBFC_rPPG2_dataset_index.csv')\n",
    "\n",
    "#生成UBFC数据集\n",
    "files_ubfc_rppg2 = df['file']\n",
    "dump_dataset(\"Z:/rppg/ubfc_rppg2_dataset.h5\", files_ubfc_rppg2, loader_ubfc_rppg2, compression=0)"
   ]
  },
  {
   "cell_type": "code",
   "execution_count": null,
   "metadata": {},
   "outputs": [],
   "source": [
    "df = pd.read_csv('../datasets/PURE_dataset_index.csv')\n",
    "\n",
    "#生成PURE数据集\n",
    "files_pure = df['file']\n",
    "dump_dataset(\"Z:/rppg/pure_dataset.h5\", files_pure, loader_pure, compression=0)"
   ]
  },
  {
   "cell_type": "code",
   "execution_count": 2,
   "metadata": {},
   "outputs": [
    {
     "name": "stdout",
     "output_type": "stream",
     "text": [
      "Generating dataset Z:/rppg/scamps_dataset1.h5 .....\n"
     ]
    },
    {
     "name": "stderr",
     "output_type": "stream",
     "text": [
      "  0%|          | 4/2800 [00:20<06:32,  7.12it/s]"
     ]
    }
   ],
   "source": [
    "df = pd.read_csv('../datasets/SCAMPS_dataset_index.csv')\n",
    "files_scamps = df['file']\n",
    "labels_scamps = [{'fold':i} for i in df['fold']]\n",
    "dump_dataset(\"Z:/rppg/scamps_dataset.h5\", files_scamps, loader_scamps, compression=0, labels=labels_scamps)"
   ]
  },
  {
   "cell_type": "code",
   "execution_count": 2,
   "metadata": {},
   "outputs": [
    {
     "name": "stdout",
     "output_type": "stream",
     "text": [
      "Generating datatape Z:/rppg/scamps_datatape_32x36x36_train.h5 .....\n"
     ]
    },
    {
     "name": "stderr",
     "output_type": "stream",
     "text": [
      "100%|██████████| 2800/2800 [14:54<00:00,  3.13it/s]\n"
     ]
    },
    {
     "name": "stdout",
     "output_type": "stream",
     "text": [
      "Generating datatape Z:/rppg/scamps_datatape_32x36x36_valid.h5 .....\n"
     ]
    },
    {
     "name": "stderr",
     "output_type": "stream",
     "text": [
      "100%|██████████| 2800/2800 [03:01<00:00, 15.43it/s]\n"
     ]
    }
   ],
   "source": [
    "dump_datatape(\"Z:/rppg/scamps_dataset.h5\", \"Z:/rppg/scamps_datatape_32x36x36_train.h5\", shape=(32, 36, 36), step=1, extend_rate=0, fold='train')\n",
    "dump_datatape(\"Z:/rppg/scamps_dataset.h5\", \"Z:/rppg/scamps_datatape_32x36x36_valid.h5\", shape=(32, 36, 36), step=1, extend_rate=0, fold='val')"
   ]
  },
  {
   "cell_type": "code",
   "execution_count": 3,
   "metadata": {},
   "outputs": [
    {
     "name": "stdout",
     "output_type": "stream",
     "text": [
      "Generating datatape Z:/rppg/scamps_datatape_32x8x8_train.h5 .....\n"
     ]
    },
    {
     "name": "stderr",
     "output_type": "stream",
     "text": [
      "100%|██████████| 2800/2800 [07:43<00:00,  6.04it/s]\n"
     ]
    },
    {
     "name": "stdout",
     "output_type": "stream",
     "text": [
      "Generating datatape Z:/rppg/scamps_datatape_32x8x8_valid.h5 .....\n"
     ]
    },
    {
     "name": "stderr",
     "output_type": "stream",
     "text": [
      "100%|██████████| 2800/2800 [01:35<00:00, 29.31it/s]\n"
     ]
    }
   ],
   "source": [
    "dump_datatape(\"Z:/rppg/scamps_dataset.h5\", \"Z:/rppg/scamps_datatape_32x8x8_train.h5\", shape=(32, 8, 8), step=1, extend_rate=0, fold='train')\n",
    "dump_datatape(\"Z:/rppg/scamps_dataset.h5\", \"Z:/rppg/scamps_datatape_32x8x8_valid.h5\", shape=(32, 8, 8), step=1, extend_rate=0, fold='val', sample=cv2.INTER_AREA)"
   ]
  },
  {
   "cell_type": "code",
   "execution_count": 3,
   "metadata": {},
   "outputs": [
    {
     "name": "stdout",
     "output_type": "stream",
     "text": [
      "Generating datatape Z:/rppg/scamps_datatape_128x32x32_train.h5 .....\n"
     ]
    },
    {
     "name": "stderr",
     "output_type": "stream",
     "text": [
      "100%|██████████| 2800/2800 [13:11<00:00,  3.54it/s]\n"
     ]
    },
    {
     "name": "stdout",
     "output_type": "stream",
     "text": [
      "Generating datatape Z:/rppg/scamps_datatape_128x32x32_valid.h5 .....\n"
     ]
    },
    {
     "name": "stderr",
     "output_type": "stream",
     "text": [
      "100%|██████████| 2800/2800 [02:38<00:00, 17.67it/s]\n"
     ]
    }
   ],
   "source": [
    "dump_datatape(\"Z:/rppg/scamps_dataset.h5\", \"Z:/rppg/scamps_datatape_128x32x32_train.h5\", shape=(128, 32, 32), step=3, extend_rate=0, fold='train')\n",
    "dump_datatape(\"Z:/rppg/scamps_dataset.h5\", \"Z:/rppg/scamps_datatape_128x32x32_valid.h5\", shape=(128, 32, 32), step=3, extend_rate=0, fold='val', sample=cv2.INTER_AREA)"
   ]
  },
  {
   "cell_type": "code",
   "execution_count": 4,
   "metadata": {},
   "outputs": [
    {
     "name": "stdout",
     "output_type": "stream",
     "text": [
      "制作 datatape Z:/rppg/ccnu_datatape_32x8x8_train.h5 中.....\n"
     ]
    },
    {
     "name": "stderr",
     "output_type": "stream",
     "text": [
      "100%|██████████| 468/468 [18:50<00:00,  2.42s/it]\n"
     ]
    },
    {
     "name": "stdout",
     "output_type": "stream",
     "text": [
      "制作 datatape Z:/rppg/ccnu_datatape_32x8x8_valid.h5 中.....\n"
     ]
    },
    {
     "name": "stderr",
     "output_type": "stream",
     "text": [
      "100%|██████████| 77/77 [02:56<00:00,  2.29s/it]\n"
     ]
    }
   ],
   "source": [
    "#针对NoobHeart生成对应的训练数据\n",
    "dump_datatape(\"Z:/rppg/ccnu_dataset_train.h5\", \"Z:/rppg/ccnu_datatape_32x8x8_train.h5\", shape=(32, 8, 8), step=1, extend_rate=1, extend_hr=(30, 150))\n",
    "dump_datatape(\"Z:/rppg/ccnu_dataset_valid.h5\", \"Z:/rppg/ccnu_datatape_32x8x8_valid.h5\", shape=(32, 8, 8), step=1, extend_rate=0)"
   ]
  },
  {
   "cell_type": "code",
   "execution_count": 2,
   "metadata": {},
   "outputs": [
    {
     "name": "stdout",
     "output_type": "stream",
     "text": [
      "制作 datatape Z:/rppg/ccnu_datatape_450x8x8_train.h5 中.....\n"
     ]
    },
    {
     "name": "stderr",
     "output_type": "stream",
     "text": [
      "100%|██████████| 468/468 [21:00<00:00,  2.69s/it]\n"
     ]
    },
    {
     "name": "stdout",
     "output_type": "stream",
     "text": [
      "制作 datatape Z:/rppg/ccnu_datatape_450x8x8_valid.h5 中.....\n"
     ]
    },
    {
     "name": "stderr",
     "output_type": "stream",
     "text": [
      "100%|██████████| 77/77 [02:59<00:00,  2.33s/it]\n"
     ]
    }
   ],
   "source": [
    "#针对我们的模型生成对应的训练数据\n",
    "dump_datatape(\"Z:/rppg/ccnu_dataset_train.h5\", \"Z:/rppg/ccnu_datatape_450x8x8_train.h5\", shape=(450, 8, 8), step=3, extend_rate=1, extend_hr=(30, 150))\n",
    "dump_datatape(\"Z:/rppg/ccnu_dataset_valid.h5\", \"Z:/rppg/ccnu_datatape_450x8x8_valid.h5\", shape=(450, 8, 8), step=3, extend_rate=0)\n",
    "\n",
    "#dump_datatape(\"Z:/rppg/ccnu_dataset_train.h5\", \"Z:/rppg/ccnu_datatape_450x32x32_train.h5\", shape=(450, 32, 32), step=3, extend_rate=1, extend_hr=(30, 150))\n",
    "#dump_datatape(\"Z:/rppg/ccnu_dataset_valid.h5\", \"Z:/rppg/ccnu_datatape_450x32x32_valid.h5\", shape=(450, 32, 32), step=3, extend_rate=0)\n",
    "\n",
    "#针对PhysNet生成对应的训练数据\n",
    "#dump_datatape(\"Z:/rppg/ccnu_dataset_train.h5\", \"Z:/rppg/ccnu_datatape_128x32x32_train.h5\", shape=(128, 32, 32), step=2, extend_rate=1, extend_hr=(30, 150))\n",
    "#dump_datatape(\"Z:/rppg/ccnu_dataset_valid.h5\", \"Z:/rppg/ccnu_datatape_128x32x32_valid.h5\", shape=(128, 32, 32), step=2, extend_rate=0)"
   ]
  },
  {
   "cell_type": "code",
   "execution_count": 5,
   "metadata": {},
   "outputs": [
    {
     "name": "stdout",
     "output_type": "stream",
     "text": [
      "制作 datatape Z:/rppg/ccnu_datatape_160x128x128_train.h5 中.....\n"
     ]
    },
    {
     "name": "stderr",
     "output_type": "stream",
     "text": [
      "100%|██████████| 468/468 [48:38<00:00,  6.24s/it]  \n"
     ]
    }
   ],
   "source": [
    "#针对PhysFormer生成对应的训练数据\n",
    "dump_datatape(\"Z:/rppg/ccnu_dataset_train.h5\", \"Z:/rppg/ccnu_datatape_160x128x128_train.h5\", shape=(160, 128, 128), step=4, extend_rate=1, extend_hr=(40, 150), dtype=np.uint8)\n",
    "dump_datatape(\"Z:/rppg/ccnu_dataset_valid.h5\", \"Z:/rppg/ccnu_datatape_160x128x128_valid.h5\", shape=(160, 128, 128), step=4, extend_rate=0, dtype=np.uint8)"
   ]
  },
  {
   "cell_type": "code",
   "execution_count": 3,
   "metadata": {},
   "outputs": [
    {
     "name": "stdout",
     "output_type": "stream",
     "text": [
      "制作 datatape Z:/rppg/ccnu_datatape_160x36x36_train.h5 中.....\n"
     ]
    },
    {
     "name": "stderr",
     "output_type": "stream",
     "text": [
      "100%|██████████| 468/468 [52:17<00:00,  6.70s/it]  \n"
     ]
    },
    {
     "name": "stdout",
     "output_type": "stream",
     "text": [
      "制作 datatape Z:/rppg/ccnu_datatape_160x36x36_valid.h5 中.....\n"
     ]
    },
    {
     "name": "stderr",
     "output_type": "stream",
     "text": [
      "100%|██████████| 77/77 [05:48<00:00,  4.53s/it]\n"
     ]
    }
   ],
   "source": [
    "#针对TS-CAN生成对应的训练数据\n",
    "dump_datatape(\"Z:/rppg/ccnu_dataset_train.h5\", \"Z:/rppg/ccnu_datatape_160x36x36_train.h5\", shape=(160, 36, 36), step=4, extend_rate=1, extend_hr=(30, 150))\n",
    "dump_datatape(\"Z:/rppg/ccnu_dataset_valid.h5\", \"Z:/rppg/ccnu_datatape_160x36x36_valid.h5\", shape=(160, 36, 36), step=4, extend_rate=0)"
   ]
  }
 ],
 "metadata": {
  "kernelspec": {
   "display_name": "dl",
   "language": "python",
   "name": "python3"
  },
  "language_info": {
   "codemirror_mode": {
    "name": "ipython",
    "version": 3
   },
   "file_extension": ".py",
   "mimetype": "text/x-python",
   "name": "python",
   "nbconvert_exporter": "python",
   "pygments_lexer": "ipython3",
   "version": "3.9.16"
  },
  "orig_nbformat": 4,
  "vscode": {
   "interpreter": {
    "hash": "ef3e367c2466be0f305882ce2bcd0e67eb2cbba315c01407a1a54a3d07e5496a"
   }
  }
 },
 "nbformat": 4,
 "nbformat_minor": 2
}
