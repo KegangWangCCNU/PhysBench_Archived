{
 "cells": [
  {
   "cell_type": "code",
   "execution_count": 1,
   "metadata": {},
   "outputs": [],
   "source": [
    "%load_ext autoreload\n",
    "%autoreload 2\n",
    "import sys\n",
    "sys.path.append(\"..\")\n",
    "from utils import *\n",
    "from models import *"
   ]
  },
  {
   "cell_type": "code",
   "execution_count": 2,
   "metadata": {},
   "outputs": [],
   "source": [
    "train_tape = \"Z:/rppg/scamps_datatape_450x8x8_train.h5\"\n",
    "valid_tape = \"Z:/rppg/scamps_datatape_450x8x8_valid.h5\"\n",
    "\n",
    "train =  load_datatape(train_tape, use_normalized_bvp=True)\n",
    "valid = load_datatape(valid_tape, use_normalized_bvp=False)\n",
    "train, valid = to_tf(train).cache(), to_tf(valid).cache()\n",
    "#train, valid = to_tf(train).cache(f'{tmp}/ours'), to_tf(valid).cache(f'{tmp}/ours')\n",
    "#train, valid = to_tf(train), to_tf(valid)"
   ]
  },
  {
   "cell_type": "code",
   "execution_count": 14,
   "metadata": {},
   "outputs": [
    {
     "name": "stdout",
     "output_type": "stream",
     "text": [
      "Flops per frame:260557\n",
      "Model: \"m_1_2\"\n",
      "_________________________________________________________________\n",
      "Layer (type)                 Output Shape              Param #   \n",
      "=================================================================\n",
      "sequential_12 (Sequential)   (None, 450, 64)           12352     \n",
      "_________________________________________________________________\n",
      "spectral_transform_4 (Spectr multiple                  82560     \n",
      "_________________________________________________________________\n",
      "conv1d_14 (Conv1D)           multiple                  41024     \n",
      "_________________________________________________________________\n",
      "sequential_14 (Sequential)   (None, 450, 64)           256       \n",
      "_________________________________________________________________\n",
      "spectral_transform_5 (Spectr multiple                  49792     \n",
      "_________________________________________________________________\n",
      "conv1d_16 (Conv1D)           multiple                  10272     \n",
      "_________________________________________________________________\n",
      "sequential_16 (Sequential)   (None, 450, 32)           128       \n",
      "_________________________________________________________________\n",
      "sequential_17 (Sequential)   (None, 450)               33        \n",
      "=================================================================\n",
      "Total params: 196,417\n",
      "Trainable params: 195,713\n",
      "Non-trainable params: 704\n",
      "_________________________________________________________________\n"
     ]
    }
   ],
   "source": [
    "m1 = M_1()\n",
    "m1.compile(optimizer='adam', loss='mae')\n",
    "m1.build(input_shape=(None, 450, 8, 8, 3))\n",
    "print(f'Flops per frame:{get_flops(m1, input_sig=[tf.TensorSpec([1, 450, 8, 8, 3])])/450:.0f}')\n",
    "m1.summary()"
   ]
  },
  {
   "cell_type": "code",
   "execution_count": 15,
   "metadata": {},
   "outputs": [
    {
     "name": "stdout",
     "output_type": "stream",
     "text": [
      "Epoch 1/5\n",
      "125/125 [==============================] - 3s 17ms/step - loss: 0.8078 - val_loss: 0.7857\n",
      "\n",
      "Epoch 00001: val_loss improved from inf to 0.78573, saving model to ../weights\\m1_SCAMPS.h5\n",
      "Epoch 2/5\n",
      "125/125 [==============================] - 2s 16ms/step - loss: 0.7893 - val_loss: 0.7697\n",
      "\n",
      "Epoch 00002: val_loss improved from 0.78573 to 0.76973, saving model to ../weights\\m1_SCAMPS.h5\n",
      "Epoch 3/5\n",
      "125/125 [==============================] - 2s 16ms/step - loss: 0.7797 - val_loss: 0.7520\n",
      "\n",
      "Epoch 00003: val_loss improved from 0.76973 to 0.75200, saving model to ../weights\\m1_SCAMPS.h5\n",
      "Epoch 4/5\n",
      "125/125 [==============================] - 2s 16ms/step - loss: 0.7410 - val_loss: 0.7324\n",
      "\n",
      "Epoch 00004: val_loss improved from 0.75200 to 0.73237, saving model to ../weights\\m1_SCAMPS.h5\n",
      "Epoch 5/5\n",
      "125/125 [==============================] - 2s 16ms/step - loss: 0.6966 - val_loss: 0.6536\n",
      "\n",
      "Epoch 00005: val_loss improved from 0.73237 to 0.65356, saving model to ../weights\\m1_SCAMPS.h5\n"
     ]
    }
   ],
   "source": [
    "m1.fit(train.shuffle(2000).batch(32), validation_data=valid.batch(32), epochs=5, callbacks=[keras.callbacks.ModelCheckpoint('../weights/m1_SCAMPS.h5', monitor='val_loss', verbose=1, save_best_only=True, mode='min', save_weights_only=True)])\n",
    "m1.load_weights('../weights/m1_SCAMPS.h5')"
   ]
  },
  {
   "cell_type": "code",
   "execution_count": 3,
   "metadata": {},
   "outputs": [],
   "source": [
    "m1.load_weights('../weights/m1_SCAMPS.h5')"
   ]
  },
  {
   "cell_type": "code",
   "execution_count": 16,
   "metadata": {},
   "outputs": [
    {
     "name": "stderr",
     "output_type": "stream",
     "text": [
      "100%|██████████| 59/59 [00:01<00:00, 56.93it/s]\n"
     ]
    },
    {
     "data": {
      "text/plain": [
       "{'Sliding window': {'MAE': 2.922, 'RMSE': 11.082, 'R': 0.89064},\n",
       " 'Whole video': {'MAE': 1.162, 'RMSE': 6.421, 'R': 0.96226}}"
      ]
     },
     "execution_count": 16,
     "metadata": {},
     "output_type": "execute_result"
    }
   ],
   "source": [
    "eval_on_dataset(test_set_PURE, m1, 450, (8, 8), step=5, batch=32, save='../results/ours_SCAMPS_PURE.h5')\n",
    "get_metrics('../results/ours_SCAMPS_PURE.h5',)"
   ]
  },
  {
   "cell_type": "code",
   "execution_count": 17,
   "metadata": {},
   "outputs": [
    {
     "name": "stderr",
     "output_type": "stream",
     "text": [
      "100%|██████████| 42/42 [00:00<00:00, 58.95it/s]\n"
     ]
    },
    {
     "data": {
      "text/plain": [
       "{'Sliding window': {'MAE': 1.339, 'RMSE': 2.901, 'R': 0.98572},\n",
       " 'Whole video': {'MAE': 1.35, 'RMSE': 2.61, 'R': 0.98851}}"
      ]
     },
     "execution_count": 17,
     "metadata": {},
     "output_type": "execute_result"
    }
   ],
   "source": [
    "eval_on_dataset(test_set_UBFC_rPPG2, m1, 450, (8, 8), step=5, batch=32, save='../results/ours_SCAMPS_UBFC.h5')\n",
    "get_metrics('../results/ours_SCAMPS_UBFC.h5',)"
   ]
  }
 ],
 "metadata": {
  "kernelspec": {
   "display_name": "dl",
   "language": "python",
   "name": "python3"
  },
  "language_info": {
   "codemirror_mode": {
    "name": "ipython",
    "version": 3
   },
   "file_extension": ".py",
   "mimetype": "text/x-python",
   "name": "python",
   "nbconvert_exporter": "python",
   "pygments_lexer": "ipython3",
   "version": "3.9.16"
  },
  "orig_nbformat": 4,
  "vscode": {
   "interpreter": {
    "hash": "ef3e367c2466be0f305882ce2bcd0e67eb2cbba315c01407a1a54a3d07e5496a"
   }
  }
 },
 "nbformat": 4,
 "nbformat_minor": 2
}
