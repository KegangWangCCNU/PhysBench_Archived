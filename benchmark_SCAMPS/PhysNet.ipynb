{
 "cells": [
  {
   "cell_type": "code",
   "execution_count": 19,
   "metadata": {},
   "outputs": [
    {
     "name": "stdout",
     "output_type": "stream",
     "text": [
      "The autoreload extension is already loaded. To reload it, use:\n",
      "  %reload_ext autoreload\n"
     ]
    }
   ],
   "source": [
    "%load_ext autoreload\n",
    "%autoreload 2\n",
    "import sys\n",
    "sys.path.append(\"..\")\n",
    "from utils import *\n",
    "from models import *"
   ]
  },
  {
   "cell_type": "code",
   "execution_count": 20,
   "metadata": {},
   "outputs": [],
   "source": [
    "train_tape = \"Z:/rppg/scamps_datatape_128x32x32_train.h5\"\n",
    "valid_tape = \"Z:/rppg/scamps_datatape_128x32x32_valid.h5\"\n",
    "\n",
    "train =  load_datatape(train_tape, use_normalized_bvp=True)\n",
    "valid = load_datatape(valid_tape, use_normalized_bvp=False)\n",
    "\n",
    "#train, valid = to_tf(train).cache(f'{tmp}/physnet'), to_tf(valid).cache(f'{tmp}/physnet')\n",
    "train, valid = to_tf(train), to_tf(valid)"
   ]
  },
  {
   "cell_type": "code",
   "execution_count": 21,
   "metadata": {},
   "outputs": [
    {
     "name": "stdout",
     "output_type": "stream",
     "text": [
      "Flops per frame:54260867\n",
      "Model: \"phys_net_3\"\n",
      "_________________________________________________________________\n",
      "Layer (type)                 Output Shape              Param #   \n",
      "=================================================================\n",
      "sequential_33 (Sequential)   (None, 128, 32, 32, 16)   1280      \n",
      "_________________________________________________________________\n",
      "sequential_34 (Sequential)   (None, 128, 16, 16, 32)   13984     \n",
      "_________________________________________________________________\n",
      "sequential_35 (Sequential)   (None, 128, 16, 16, 64)   55616     \n",
      "_________________________________________________________________\n",
      "sequential_36 (Sequential)   (None, 64, 8, 8, 64)      110912    \n",
      "_________________________________________________________________\n",
      "sequential_37 (Sequential)   (None, 64, 8, 8, 64)      110912    \n",
      "_________________________________________________________________\n",
      "sequential_38 (Sequential)   (None, 32, 4, 4, 64)      110912    \n",
      "_________________________________________________________________\n",
      "sequential_39 (Sequential)   (None, 32, 4, 4, 64)      110912    \n",
      "_________________________________________________________________\n",
      "sequential_40 (Sequential)   (None, 32, 2, 2, 64)      110912    \n",
      "_________________________________________________________________\n",
      "sequential_41 (Sequential)   (None, 32, 2, 2, 64)      110912    \n",
      "_________________________________________________________________\n",
      "sequential_42 (Sequential)   (None, 64, 2, 2, 64)      16704     \n",
      "_________________________________________________________________\n",
      "sequential_43 (Sequential)   (None, 128, 2, 2, 64)     16704     \n",
      "_________________________________________________________________\n",
      "conv3d_39 (Conv3D)           multiple                  65        \n",
      "_________________________________________________________________\n",
      "max_pooling3d_6 (MaxPooling3 multiple                  0         \n",
      "_________________________________________________________________\n",
      "max_pooling3d_7 (MaxPooling3 multiple                  0         \n",
      "_________________________________________________________________\n",
      "average_pooling3d_3 (Average multiple                  0         \n",
      "_________________________________________________________________\n",
      "reshape_3 (Reshape)          multiple                  0         \n",
      "=================================================================\n",
      "Total params: 769,825\n",
      "Trainable params: 768,577\n",
      "Non-trainable params: 1,248\n",
      "_________________________________________________________________\n"
     ]
    }
   ],
   "source": [
    "phys_net = PhysNet()\n",
    "phys_net.compile(optimizer=keras.optimizers.SGD(learning_rate=0.005), loss=np_loss)\n",
    "phys_net.build(input_shape=(None, 128, 32, 32, 3))\n",
    "print(f'Flops per frame:{get_flops(phys_net, input_sig=[tf.TensorSpec([1, 128, 32, 32, 3])])/128:.0f}')\n",
    "phys_net.summary()"
   ]
  },
  {
   "cell_type": "code",
   "execution_count": 22,
   "metadata": {},
   "outputs": [
    {
     "name": "stdout",
     "output_type": "stream",
     "text": [
      "Epoch 1/3\n",
      "374/374 [==============================] - 133s 336ms/step - loss: 0.9654 - val_loss: 0.9439\n",
      "\n",
      "Epoch 00001: val_loss improved from inf to 0.94386, saving model to ../weights\\PhysNet_SCAMPS.h5\n",
      "Epoch 2/3\n",
      "374/374 [==============================] - 132s 336ms/step - loss: 0.6449 - val_loss: 0.3890\n",
      "\n",
      "Epoch 00002: val_loss improved from 0.94386 to 0.38898, saving model to ../weights\\PhysNet_SCAMPS.h5\n",
      "Epoch 3/3\n",
      "374/374 [==============================] - 132s 337ms/step - loss: 0.3546 - val_loss: 0.2978\n",
      "\n",
      "Epoch 00003: val_loss improved from 0.38898 to 0.29776, saving model to ../weights\\PhysNet_SCAMPS.h5\n"
     ]
    }
   ],
   "source": [
    "phys_net.fit(train.shuffle(2000).batch(32), validation_data=valid.batch(32), epochs=3, callbacks=[keras.callbacks.ModelCheckpoint('../weights/PhysNet_SCAMPS.h5', monitor='val_loss', verbose=1, save_best_only=True, mode='min', save_weights_only=True)])\n",
    "phys_net.load_weights('../weights/PhysNet_SCAMPS.h5')"
   ]
  },
  {
   "cell_type": "code",
   "execution_count": 7,
   "metadata": {},
   "outputs": [],
   "source": [
    "phys_net.load_weights('../weights/PhysNet_SCAMPS.h5')"
   ]
  },
  {
   "cell_type": "code",
   "execution_count": 23,
   "metadata": {},
   "outputs": [
    {
     "name": "stderr",
     "output_type": "stream",
     "text": [
      "100%|██████████| 59/59 [00:18<00:00,  3.24it/s]\n"
     ]
    },
    {
     "data": {
      "text/plain": [
       "{'Sliding window': {'MAE': 31.787, 'RMSE': 40.093, 'R': 0.18123},\n",
       " 'Whole video': {'MAE': 28.616, 'RMSE': 37.426, 'R': 0.20362}}"
      ]
     },
     "execution_count": 23,
     "metadata": {},
     "output_type": "execute_result"
    }
   ],
   "source": [
    "eval_on_dataset(test_set_PURE, phys_net, 128, (32, 32), step=1, batch=32, save='../results/PhysNet_SCAMPS_PURE.h5', sample=cv2.INTER_CUBIC)\n",
    "get_metrics('../results/PhysNet_SCAMPS_PURE.h5')"
   ]
  },
  {
   "cell_type": "code",
   "execution_count": 24,
   "metadata": {},
   "outputs": [
    {
     "name": "stderr",
     "output_type": "stream",
     "text": [
      "100%|██████████| 42/42 [00:12<00:00,  3.44it/s]\n"
     ]
    },
    {
     "data": {
      "text/plain": [
       "{'Sliding window': {'MAE': 5.707, 'RMSE': 11.274, 'R': 0.76438},\n",
       " 'Whole video': {'MAE': 4.489, 'RMSE': 8.521, 'R': 0.87463}}"
      ]
     },
     "execution_count": 24,
     "metadata": {},
     "output_type": "execute_result"
    }
   ],
   "source": [
    "eval_on_dataset(test_set_UBFC_rPPG2, phys_net, 128, (32, 32), step=1, batch=32, save='../results/PhysNet_SCAMPS_UBFC.h5', sample=cv2.INTER_CUBIC)\n",
    "get_metrics('../results/PhysNet_SCAMPS_UBFC.h5')"
   ]
  }
 ],
 "metadata": {
  "kernelspec": {
   "display_name": "dl",
   "language": "python",
   "name": "python3"
  },
  "language_info": {
   "codemirror_mode": {
    "name": "ipython",
    "version": 3
   },
   "file_extension": ".py",
   "mimetype": "text/x-python",
   "name": "python",
   "nbconvert_exporter": "python",
   "pygments_lexer": "ipython3",
   "version": "3.9.16"
  },
  "orig_nbformat": 4,
  "vscode": {
   "interpreter": {
    "hash": "ef3e367c2466be0f305882ce2bcd0e67eb2cbba315c01407a1a54a3d07e5496a"
   }
  }
 },
 "nbformat": 4,
 "nbformat_minor": 2
}
