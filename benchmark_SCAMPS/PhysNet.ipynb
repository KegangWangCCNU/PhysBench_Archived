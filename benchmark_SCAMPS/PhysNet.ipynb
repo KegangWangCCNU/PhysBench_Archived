{
 "cells": [
  {
   "cell_type": "code",
   "execution_count": 1,
   "metadata": {},
   "outputs": [],
   "source": [
    "%load_ext autoreload\n",
    "%autoreload 2\n",
    "import sys\n",
    "sys.path.append(\"..\")\n",
    "from utils import *\n",
    "from models import *"
   ]
  },
  {
   "cell_type": "code",
   "execution_count": 2,
   "metadata": {},
   "outputs": [],
   "source": [
    "train_tape = \"Z:/rppg/scamps_datatape_128x32x32_train.h5\"\n",
    "valid_tape = \"Z:/rppg/scamps_datatape_128x32x32_valid.h5\"\n",
    "\n",
    "train =  load_datatape(train_tape, use_normalized_bvp=True)\n",
    "valid = load_datatape(valid_tape, use_normalized_bvp=False)\n",
    "\n",
    "#train, valid = to_tf(train).cache(f'{tmp}/physnet'), to_tf(valid).cache(f'{tmp}/physnet')\n",
    "train, valid = to_tf(train), to_tf(valid)"
   ]
  },
  {
   "cell_type": "code",
   "execution_count": 15,
   "metadata": {},
   "outputs": [
    {
     "name": "stdout",
     "output_type": "stream",
     "text": [
      "Flops per frame:54260867\n",
      "Model: \"phys_net_2\"\n",
      "_________________________________________________________________\n",
      "Layer (type)                 Output Shape              Param #   \n",
      "=================================================================\n",
      "sequential_22 (Sequential)   (None, 128, 32, 32, 16)   1280      \n",
      "_________________________________________________________________\n",
      "sequential_23 (Sequential)   (None, 128, 16, 16, 32)   13984     \n",
      "_________________________________________________________________\n",
      "sequential_24 (Sequential)   (None, 128, 16, 16, 64)   55616     \n",
      "_________________________________________________________________\n",
      "sequential_25 (Sequential)   (None, 64, 8, 8, 64)      110912    \n",
      "_________________________________________________________________\n",
      "sequential_26 (Sequential)   (None, 64, 8, 8, 64)      110912    \n",
      "_________________________________________________________________\n",
      "sequential_27 (Sequential)   (None, 32, 4, 4, 64)      110912    \n",
      "_________________________________________________________________\n",
      "sequential_28 (Sequential)   (None, 32, 4, 4, 64)      110912    \n",
      "_________________________________________________________________\n",
      "sequential_29 (Sequential)   (None, 32, 2, 2, 64)      110912    \n",
      "_________________________________________________________________\n",
      "sequential_30 (Sequential)   (None, 32, 2, 2, 64)      110912    \n",
      "_________________________________________________________________\n",
      "sequential_31 (Sequential)   (None, 64, 2, 2, 64)      16704     \n",
      "_________________________________________________________________\n",
      "sequential_32 (Sequential)   (None, 128, 2, 2, 64)     16704     \n",
      "_________________________________________________________________\n",
      "conv3d_29 (Conv3D)           multiple                  65        \n",
      "_________________________________________________________________\n",
      "max_pooling3d_4 (MaxPooling3 multiple                  0         \n",
      "_________________________________________________________________\n",
      "max_pooling3d_5 (MaxPooling3 multiple                  0         \n",
      "_________________________________________________________________\n",
      "average_pooling3d_2 (Average multiple                  0         \n",
      "_________________________________________________________________\n",
      "reshape_2 (Reshape)          multiple                  0         \n",
      "=================================================================\n",
      "Total params: 769,825\n",
      "Trainable params: 768,577\n",
      "Non-trainable params: 1,248\n",
      "_________________________________________________________________\n"
     ]
    }
   ],
   "source": [
    "phys_net = PhysNet()\n",
    "phys_net.compile(optimizer=keras.optimizers.SGD(learning_rate=0.005), loss=np_loss)\n",
    "phys_net.build(input_shape=(None, 128, 32, 32, 3))\n",
    "print(f'Flops per frame:{get_flops(phys_net, input_sig=[tf.TensorSpec([1, 128, 32, 32, 3])])/128:.0f}')\n",
    "phys_net.summary()"
   ]
  },
  {
   "cell_type": "code",
   "execution_count": 16,
   "metadata": {},
   "outputs": [
    {
     "name": "stdout",
     "output_type": "stream",
     "text": [
      "374/374 [==============================] - 186s 477ms/step - loss: 0.8915 - val_loss: 0.5647\n",
      "\n",
      "Epoch 00001: val_loss improved from inf to 0.56465, saving model to ../weights\\PhysNet_SCAMPS.h5\n"
     ]
    }
   ],
   "source": [
    "phys_net.fit(train.shuffle(2000).batch(32), validation_data=valid.batch(32), epochs=1, callbacks=[keras.callbacks.ModelCheckpoint('../weights/PhysNet_SCAMPS.h5', monitor='val_loss', verbose=1, save_best_only=True, mode='min', save_weights_only=True)])\n",
    "phys_net.load_weights('../weights/PhysNet_SCAMPS.h5')"
   ]
  },
  {
   "cell_type": "code",
   "execution_count": 7,
   "metadata": {},
   "outputs": [],
   "source": [
    "phys_net.load_weights('../weights/PhysNet_SCAMPS.h5')"
   ]
  },
  {
   "cell_type": "code",
   "execution_count": 17,
   "metadata": {},
   "outputs": [
    {
     "name": "stderr",
     "output_type": "stream",
     "text": [
      "100%|██████████| 59/59 [00:24<00:00,  2.37it/s]\n"
     ]
    },
    {
     "data": {
      "text/plain": [
       "{'Sliding window': {'MAE': 37.317, 'RMSE': 41.773, 'R': -0.00354},\n",
       " 'Whole video': {'MAE': 36.252, 'RMSE': 40.709, 'R': 0.13516}}"
      ]
     },
     "execution_count": 17,
     "metadata": {},
     "output_type": "execute_result"
    }
   ],
   "source": [
    "eval_on_dataset(test_set_PURE, phys_net, 128, (32, 32), step=1, batch=32, save='../results/PhysNet_SCAMPS_PURE.h5', sample=cv2.INTER_CUBIC)\n",
    "get_metrics('../results/PhysNet_SCAMPS_PURE.h5')"
   ]
  },
  {
   "cell_type": "code",
   "execution_count": 18,
   "metadata": {},
   "outputs": [
    {
     "name": "stderr",
     "output_type": "stream",
     "text": [
      "100%|██████████| 42/42 [00:16<00:00,  2.49it/s]\n"
     ]
    },
    {
     "data": {
      "text/plain": [
       "{'Sliding window': {'MAE': 15.718, 'RMSE': 21.101, 'R': 0.17538},\n",
       " 'Whole video': {'MAE': 13.733, 'RMSE': 18.966, 'R': 0.24}}"
      ]
     },
     "execution_count": 18,
     "metadata": {},
     "output_type": "execute_result"
    }
   ],
   "source": [
    "eval_on_dataset(test_set_UBFC_rPPG2, phys_net, 128, (32, 32), step=1, batch=32, save='../results/PhysNet_SCAMPS_UBFC.h5', sample=cv2.INTER_CUBIC)\n",
    "get_metrics('../results/PhysNet_SCAMPS_UBFC.h5')"
   ]
  }
 ],
 "metadata": {
  "kernelspec": {
   "display_name": "dl",
   "language": "python",
   "name": "python3"
  },
  "language_info": {
   "codemirror_mode": {
    "name": "ipython",
    "version": 3
   },
   "file_extension": ".py",
   "mimetype": "text/x-python",
   "name": "python",
   "nbconvert_exporter": "python",
   "pygments_lexer": "ipython3",
   "version": "3.9.16"
  },
  "orig_nbformat": 4,
  "vscode": {
   "interpreter": {
    "hash": "ef3e367c2466be0f305882ce2bcd0e67eb2cbba315c01407a1a54a3d07e5496a"
   }
  }
 },
 "nbformat": 4,
 "nbformat_minor": 2
}
