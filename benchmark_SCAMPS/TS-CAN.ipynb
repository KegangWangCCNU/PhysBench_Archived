{
 "cells": [
  {
   "cell_type": "code",
   "execution_count": 24,
   "metadata": {},
   "outputs": [
    {
     "name": "stdout",
     "output_type": "stream",
     "text": [
      "The autoreload extension is already loaded. To reload it, use:\n",
      "  %reload_ext autoreload\n"
     ]
    }
   ],
   "source": [
    "%load_ext autoreload\n",
    "%autoreload 2\n",
    "import sys\n",
    "sys.path.append(\"..\")\n",
    "from utils import *\n",
    "from models import *"
   ]
  },
  {
   "cell_type": "code",
   "execution_count": 25,
   "metadata": {},
   "outputs": [],
   "source": [
    "train_tape = \"Z:/rppg/scamps_datatape_32x36x36_train.h5\"\n",
    "valid_tape = \"Z:/rppg/scamps_datatape_32x36x36_valid.h5\"\n",
    "\n",
    "train =  load_datatape(train_tape, use_normalized_bvp=True)\n",
    "valid = load_datatape(valid_tape, use_normalized_bvp=False)\n",
    "\n",
    "def to_tf_tscan(datatape, dtype=tf.float16):\n",
    "    def _():\n",
    "        for i, j in datatape:\n",
    "            j = tf.concat([j[1:]-j[:-1], [0]], axis=0)\n",
    "            yield i, j\n",
    "    return tf.data.Dataset.from_generator(lambda :_(), output_types=(dtype, dtype), output_shapes=(datatape.shape, datatape.shape[:1]))\n",
    "\n",
    "#train, valid = to_tf_tscan(train).cache(f'{tmp}/tscan'), to_tf_tscan(valid).cache(f'{tmp}/tscan')\n",
    "train, valid = to_tf_tscan(train), to_tf_tscan(valid)"
   ]
  },
  {
   "cell_type": "code",
   "execution_count": 26,
   "metadata": {},
   "outputs": [
    {
     "name": "stdout",
     "output_type": "stream",
     "text": [
      "Flops per frame:53434160\n"
     ]
    }
   ],
   "source": [
    "ts_can_e2e = TS_CAN_end_to_end(n=1)\n",
    "ts_can_e2e.compile(optimizer=keras.optimizers.SGD(learning_rate=0.001), loss='mse')\n",
    "ts_can_e2e.build(input_shape=(None, 36, 36, 3))\n",
    "print(f'Flops per frame:{get_flops(ts_can_e2e, input_sig=[tf.TensorSpec([32, 36, 36, 3])])/32:.0f}')"
   ]
  },
  {
   "cell_type": "code",
   "execution_count": 27,
   "metadata": {},
   "outputs": [
    {
     "name": "stdout",
     "output_type": "stream",
     "text": [
      "Epoch 1/3\n",
      "37909/37909 [==============================] - 1107s 29ms/step - loss: 0.1957 - val_loss: 0.1720\n",
      "\n",
      "Epoch 00001: val_loss improved from inf to 0.17199, saving model to ../weights\\TS-CAN_SCAMPS.h5\n",
      "Epoch 2/3\n",
      "37909/37909 [==============================] - 514s 13ms/step - loss: 0.1914 - val_loss: 0.1678\n",
      "\n",
      "Epoch 00002: val_loss improved from 0.17199 to 0.16780, saving model to ../weights\\TS-CAN_SCAMPS.h5\n",
      "Epoch 3/3\n",
      "37909/37909 [==============================] - 518s 14ms/step - loss: 0.1896 - val_loss: 0.1663\n",
      "\n",
      "Epoch 00003: val_loss improved from 0.16780 to 0.16628, saving model to ../weights\\TS-CAN_SCAMPS.h5\n"
     ]
    }
   ],
   "source": [
    "ts_can_e2e.fit(train.shuffle(2000), validation_data=valid, epochs=3, callbacks=[keras.callbacks.ModelCheckpoint('../weights/TS-CAN_SCAMPS.h5', monitor='val_loss', verbose=1, save_best_only=True, mode='min', save_weights_only=True)])\n",
    "ts_can_e2e.load_weights('../weights/TS-CAN_SCAMPS.h5')"
   ]
  },
  {
   "cell_type": "code",
   "execution_count": null,
   "metadata": {},
   "outputs": [],
   "source": [
    "ts_can_e2e.load_weights('../weights/TS-CAN_SCAMPS.h5')"
   ]
  },
  {
   "cell_type": "code",
   "execution_count": 28,
   "metadata": {},
   "outputs": [],
   "source": [
    "def cumsum(result, overwrite=True):\n",
    "    with h5py.File(result, 'a') as f:\n",
    "        for i, j in f.items():\n",
    "            if 'diff' not in j.keys():\n",
    "                j.create_dataset('diff', data=j['predict'])\n",
    "                j['predict'][...] = detrend(np.cumsum(j['diff']))\n",
    "            elif overwrite:\n",
    "                j['predict'][...] = detrend(np.cumsum(j['diff']))"
   ]
  },
  {
   "cell_type": "code",
   "execution_count": 29,
   "metadata": {},
   "outputs": [
    {
     "name": "stderr",
     "output_type": "stream",
     "text": [
      "100%|██████████| 59/59 [00:33<00:00,  1.76it/s]\n"
     ]
    },
    {
     "data": {
      "text/plain": [
       "{'Sliding window': {'MAE': 24.033, 'RMSE': 30.87, 'R': 0.05584},\n",
       " 'Whole video': {'MAE': 23.506, 'RMSE': 28.695, 'R': 0.01891}}"
      ]
     },
     "execution_count": 29,
     "metadata": {},
     "output_type": "execute_result"
    }
   ],
   "source": [
    "eval_on_dataset(test_set_PURE, ts_can_e2e, 32, (36, 36), step=1, batch=0, save='../results/TS-CAN_SCAMPS_PURE.h5', sample=cv2.INTER_CUBIC)\n",
    "cumsum('../results/TS-CAN_SCAMPS_PURE.h5')\n",
    "get_metrics('../results/TS-CAN_SCAMPS_PURE.h5')"
   ]
  },
  {
   "cell_type": "code",
   "execution_count": 30,
   "metadata": {},
   "outputs": [
    {
     "name": "stderr",
     "output_type": "stream",
     "text": [
      "100%|██████████| 42/42 [00:21<00:00,  1.96it/s]\n"
     ]
    },
    {
     "data": {
      "text/plain": [
       "{'Sliding window': {'MAE': 13.921, 'RMSE': 22.125, 'R': 0.3582},\n",
       " 'Whole video': {'MAE': 10.339, 'RMSE': 19.034, 'R': 0.45589}}"
      ]
     },
     "execution_count": 30,
     "metadata": {},
     "output_type": "execute_result"
    }
   ],
   "source": [
    "eval_on_dataset(test_set_UBFC_rPPG2, ts_can_e2e, 32, (36, 36), step=1, batch=0, save='../results/TS-CAN_SCAMPS_UBFC.h5', sample=cv2.INTER_CUBIC)\n",
    "cumsum('../results/TS-CAN_SCAMPS_UBFC.h5')\n",
    "get_metrics('../results/TS-CAN_SCAMPS_UBFC.h5')"
   ]
  }
 ],
 "metadata": {
  "kernelspec": {
   "display_name": "dl",
   "language": "python",
   "name": "python3"
  },
  "language_info": {
   "codemirror_mode": {
    "name": "ipython",
    "version": 3
   },
   "file_extension": ".py",
   "mimetype": "text/x-python",
   "name": "python",
   "nbconvert_exporter": "python",
   "pygments_lexer": "ipython3",
   "version": "3.9.16"
  },
  "orig_nbformat": 4,
  "vscode": {
   "interpreter": {
    "hash": "ef3e367c2466be0f305882ce2bcd0e67eb2cbba315c01407a1a54a3d07e5496a"
   }
  }
 },
 "nbformat": 4,
 "nbformat_minor": 2
}
