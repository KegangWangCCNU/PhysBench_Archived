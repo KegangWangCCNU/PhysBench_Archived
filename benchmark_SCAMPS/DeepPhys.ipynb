{
 "cells": [
  {
   "cell_type": "code",
   "execution_count": 8,
   "metadata": {},
   "outputs": [
    {
     "name": "stdout",
     "output_type": "stream",
     "text": [
      "The autoreload extension is already loaded. To reload it, use:\n",
      "  %reload_ext autoreload\n"
     ]
    }
   ],
   "source": [
    "%load_ext autoreload\n",
    "%autoreload 2\n",
    "import sys\n",
    "sys.path.append(\"..\")\n",
    "from utils import *\n",
    "from models import *"
   ]
  },
  {
   "cell_type": "code",
   "execution_count": 9,
   "metadata": {},
   "outputs": [],
   "source": [
    "train_tape = \"Z:/rppg/scamps_datatape_32x36x36_train.h5\"\n",
    "valid_tape = \"Z:/rppg/scamps_datatape_32x36x36_valid.h5\"\n",
    "\n",
    "train =  load_datatape(train_tape, use_normalized_bvp=True)\n",
    "valid = load_datatape(valid_tape, use_normalized_bvp=False)\n",
    "\n",
    "def to_tf_deep_phys(datatape, dtype=tf.float16):\n",
    "    def _():\n",
    "        for i, j in datatape:\n",
    "            j = tf.concat([j[1:]-j[:-1], [0]], axis=0)\n",
    "            #yield i, (j-tf.reduce_mean(j, axis=0))/(tf.math.reduce_std(j, axis=0)+1e-6)\n",
    "            yield i, j\n",
    "    return tf.data.Dataset.from_generator(lambda :_(), output_types=(dtype, dtype), output_shapes=(datatape.shape, datatape.shape[:1]))\n",
    "\n",
    "#train, valid = to_tf_deep_phys(train).cache(f'{tmp}/deepphys'), to_tf_deep_phys(valid).cache(f'{tmp}/deepphys')\n",
    "train, valid = to_tf_deep_phys(train), to_tf_deep_phys(valid)"
   ]
  },
  {
   "cell_type": "code",
   "execution_count": 24,
   "metadata": {},
   "outputs": [
    {
     "name": "stdout",
     "output_type": "stream",
     "text": [
      "Flops per frame:53434160\n",
      "Model: \"deep_phys_end_to_end_4\"\n",
      "_________________________________________________________________\n",
      "Layer (type)                 Output Shape              Param #   \n",
      "=================================================================\n",
      "model_4 (Functional)         (None, 1)                 532899    \n",
      "=================================================================\n",
      "Total params: 532,899\n",
      "Trainable params: 532,899\n",
      "Non-trainable params: 0\n",
      "_________________________________________________________________\n"
     ]
    }
   ],
   "source": [
    "deepphys = DeepPhys_end_to_end()\n",
    "deepphys.compile(optimizer=keras.optimizers.SGD(learning_rate=0.001), loss='mse')\n",
    "deepphys.build(input_shape=(None, 36, 36, 3))\n",
    "print(f'Flops per frame:{get_flops(deepphys, input_sig=[tf.TensorSpec([32, 36, 36, 3])])/32:.0f}')\n",
    "deepphys.summary()"
   ]
  },
  {
   "cell_type": "code",
   "execution_count": 25,
   "metadata": {},
   "outputs": [
    {
     "name": "stdout",
     "output_type": "stream",
     "text": [
      "37909/37909 [==============================] - 652s 17ms/step - loss: 0.1860 - val_loss: 0.1489\n",
      "\n",
      "Epoch 00001: val_loss improved from inf to 0.14893, saving model to ../weights\\DeepPhys_SCAMPS.h5\n"
     ]
    }
   ],
   "source": [
    "deepphys.fit(train.shuffle(2000), validation_data=valid, epochs=1, callbacks=[keras.callbacks.ModelCheckpoint('../weights/DeepPhys_SCAMPS.h5', monitor='val_loss', verbose=1, save_best_only=True, mode='min', save_weights_only=True)])\n",
    "deepphys.load_weights('../weights/DeepPhys_SCAMPS.h5')"
   ]
  },
  {
   "cell_type": "code",
   "execution_count": 14,
   "metadata": {},
   "outputs": [],
   "source": [
    "deepphys.load_weights('../weights/DeepPhys_SCAMPS.h5')"
   ]
  },
  {
   "cell_type": "code",
   "execution_count": 16,
   "metadata": {},
   "outputs": [],
   "source": [
    "def cumsum(result, overwrite=True):\n",
    "    with h5py.File(result, 'a') as f:\n",
    "        for i, j in f.items():\n",
    "            if 'diff' not in j.keys():\n",
    "                j.create_dataset('diff', data=j['predict'])\n",
    "                j['predict'][...] = detrend(np.cumsum(j['diff']))\n",
    "            elif overwrite:\n",
    "                j['predict'][...] = detrend(np.cumsum(j['diff']))"
   ]
  },
  {
   "cell_type": "code",
   "execution_count": 26,
   "metadata": {},
   "outputs": [
    {
     "name": "stderr",
     "output_type": "stream",
     "text": [
      "100%|██████████| 59/59 [00:22<00:00,  2.68it/s]\n"
     ]
    },
    {
     "data": {
      "text/plain": [
       "{'Sliding window': {'MAE': 22.078, 'RMSE': 29.413, 'R': 0.12272},\n",
       " 'Whole video': {'MAE': 17.626, 'RMSE': 24.109, 'R': 0.34937}}"
      ]
     },
     "execution_count": 26,
     "metadata": {},
     "output_type": "execute_result"
    }
   ],
   "source": [
    "eval_on_dataset(test_set_PURE, deepphys, 32, (36, 36), step=1, batch=0, save='../results/DeepPhys_SCAMPS_PURE.h5', sample=cv2.INTER_CUBIC)\n",
    "cumsum('../results/DeepPhys_SCAMPS_PURE.h5')\n",
    "get_metrics('../results/DeepPhys_SCAMPS_PURE.h5')"
   ]
  },
  {
   "cell_type": "code",
   "execution_count": 27,
   "metadata": {},
   "outputs": [
    {
     "name": "stderr",
     "output_type": "stream",
     "text": [
      "100%|██████████| 42/42 [00:16<00:00,  2.53it/s]\n"
     ]
    },
    {
     "data": {
      "text/plain": [
       "{'Sliding window': {'MAE': 16.655, 'RMSE': 24.87, 'R': 0.31714},\n",
       " 'Whole video': {'MAE': 14.177, 'RMSE': 21.187, 'R': 0.39728}}"
      ]
     },
     "execution_count": 27,
     "metadata": {},
     "output_type": "execute_result"
    }
   ],
   "source": [
    "eval_on_dataset(test_set_UBFC_rPPG2, deepphys, 32, (36, 36), step=1, batch=0, save='../results/DeepPhys_SCAMPS_UBFC.h5', sample=cv2.INTER_CUBIC)\n",
    "cumsum('../results/DeepPhys_SCAMPS_UBFC.h5')\n",
    "get_metrics('../results/DeepPhys_SCAMPS_UBFC.h5')"
   ]
  }
 ],
 "metadata": {
  "kernelspec": {
   "display_name": "dl",
   "language": "python",
   "name": "python3"
  },
  "language_info": {
   "codemirror_mode": {
    "name": "ipython",
    "version": 3
   },
   "file_extension": ".py",
   "mimetype": "text/x-python",
   "name": "python",
   "nbconvert_exporter": "python",
   "pygments_lexer": "ipython3",
   "version": "3.9.16"
  },
  "orig_nbformat": 4
 },
 "nbformat": 4,
 "nbformat_minor": 2
}
