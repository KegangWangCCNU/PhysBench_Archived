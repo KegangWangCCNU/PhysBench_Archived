{
 "cells": [
  {
   "cell_type": "code",
   "execution_count": 26,
   "metadata": {},
   "outputs": [
    {
     "name": "stdout",
     "output_type": "stream",
     "text": [
      "The autoreload extension is already loaded. To reload it, use:\n",
      "  %reload_ext autoreload\n"
     ]
    }
   ],
   "source": [
    "%load_ext autoreload\n",
    "%autoreload 2\n",
    "import sys\n",
    "sys.path.append(\"..\")\n",
    "from utils import *\n",
    "from models import *"
   ]
  },
  {
   "cell_type": "code",
   "execution_count": 2,
   "metadata": {},
   "outputs": [],
   "source": [
    "train_tape = \"Z:/rppg/scamps_datatape_32x8x8_train.h5\"\n",
    "valid_tape = \"Z:/rppg/scamps_datatape_32x8x8_valid.h5\"\n",
    "\n",
    "train =  load_datatape(train_tape, use_normalized_bvp=True)\n",
    "valid = load_datatape(valid_tape, use_normalized_bvp=False)\n",
    "train, valid = to_tf(train).cache(), to_tf(valid).cache()"
   ]
  },
  {
   "cell_type": "code",
   "execution_count": 56,
   "metadata": {},
   "outputs": [
    {
     "name": "stdout",
     "output_type": "stream",
     "text": [
      "Flops per frame:5790\n",
      "Model: \"NoobHeart\"\n",
      "_________________________________________________________________\n",
      "Layer (type)                 Output Shape              Param #   \n",
      "=================================================================\n",
      "layer_normalization_41 (Laye (None, 32, 8, 8, 3)       64        \n",
      "_________________________________________________________________\n",
      "conv3d_39 (Conv3D)           (None, 32, 4, 4, 4)       100       \n",
      "_________________________________________________________________\n",
      "layer_normalization_42 (Laye (None, 32, 4, 4, 4)       64        \n",
      "_________________________________________________________________\n",
      "conv3d_40 (Conv3D)           (None, 32, 2, 2, 2)       66        \n",
      "_________________________________________________________________\n",
      "layer_normalization_43 (Laye (None, 32, 2, 2, 2)       64        \n",
      "_________________________________________________________________\n",
      "average_pooling3d_13 (Averag (None, 32, 1, 1, 2)       0         \n",
      "_________________________________________________________________\n",
      "conv3d_41 (Conv3D)           (None, 32, 1, 1, 1)       3         \n",
      "_________________________________________________________________\n",
      "flatten_13 (Flatten)         (None, 32)                0         \n",
      "=================================================================\n",
      "Total params: 361\n",
      "Trainable params: 169\n",
      "Non-trainable params: 192\n",
      "_________________________________________________________________\n"
     ]
    }
   ],
   "source": [
    "model = keras.Sequential([\n",
    "    layers.Input(shape=(32, 8, 8, 3)),\n",
    "    layers.LayerNormalization(axis=(1,), trainable=False),\n",
    "    layers.Conv3D(4, (2, 2, 2), (1, 2, 2), padding='same', activation='tanh'),\n",
    "    layers.LayerNormalization(axis=(1,), trainable=False),\n",
    "    layers.Conv3D(2, (2, 2, 2), (1, 2, 2), padding='same', activation='tanh'),\n",
    "    layers.LayerNormalization(axis=(1,), trainable=False),\n",
    "    layers.AvgPool3D((1, 2, 2)),\n",
    "    layers.Conv3D(1, 1, 1),\n",
    "    layers.Flatten(),\n",
    "], name='NoobHeart')\n",
    "\n",
    "model.compile(optimizer='adam', loss='mae')\n",
    "print(f'Flops per frame:{get_flops(model, input_sig=[tf.TensorSpec([1, 32, 8, 8, 3])])/32:.0f}')\n",
    "model.summary()"
   ]
  },
  {
   "cell_type": "code",
   "execution_count": 57,
   "metadata": {},
   "outputs": [
    {
     "name": "stdout",
     "output_type": "stream",
     "text": [
      "Epoch 1/5\n",
      "1185/1185 [==============================] - 3s 2ms/step - loss: 0.7987 - val_loss: 0.7144\n",
      "\n",
      "Epoch 00001: val_loss improved from inf to 0.71439, saving model to ../weights\\NoobHeart_SCAMPS.h5\n",
      "Epoch 2/5\n",
      "1185/1185 [==============================] - 2s 2ms/step - loss: 0.7633 - val_loss: 0.6847\n",
      "\n",
      "Epoch 00002: val_loss improved from 0.71439 to 0.68467, saving model to ../weights\\NoobHeart_SCAMPS.h5\n",
      "Epoch 3/5\n",
      "1185/1185 [==============================] - 2s 2ms/step - loss: 0.7512 - val_loss: 0.6664\n",
      "\n",
      "Epoch 00003: val_loss improved from 0.68467 to 0.66635, saving model to ../weights\\NoobHeart_SCAMPS.h5\n",
      "Epoch 4/5\n",
      "1185/1185 [==============================] - 2s 2ms/step - loss: 0.7397 - val_loss: 0.6618\n",
      "\n",
      "Epoch 00004: val_loss improved from 0.66635 to 0.66183, saving model to ../weights\\NoobHeart_SCAMPS.h5\n",
      "Epoch 5/5\n",
      "1185/1185 [==============================] - 2s 2ms/step - loss: 0.7286 - val_loss: 0.6625\n",
      "\n",
      "Epoch 00005: val_loss did not improve from 0.66183\n"
     ]
    }
   ],
   "source": [
    "model.fit(train.shuffle(9999).batch(32), validation_data=valid.batch(32), epochs=5, callbacks=[keras.callbacks.ModelCheckpoint('../weights/NoobHeart_SCAMPS.h5', monitor='val_loss', verbose=1, save_best_only=True, mode='min', save_weights_only=True)])\n",
    "model.load_weights('../weights/NoobHeart_SCAMPS.h5')"
   ]
  },
  {
   "cell_type": "code",
   "execution_count": 17,
   "metadata": {},
   "outputs": [],
   "source": [
    "model.load_weights('../weights/NoobHeart.h5')"
   ]
  },
  {
   "cell_type": "code",
   "execution_count": 76,
   "metadata": {},
   "outputs": [
    {
     "name": "stderr",
     "output_type": "stream",
     "text": [
      "100%|██████████| 179/179 [00:14<00:00, 12.40it/s]\n"
     ]
    },
    {
     "data": {
      "text/plain": [
       "{'Sliding window': {'MAE': 1.784, 'RMSE': 5.851, 'R': 0.8307},\n",
       " 'Whole video': {'MAE': 0.961, 'RMSE': 2.933, 'R': 0.95338}}"
      ]
     },
     "execution_count": 76,
     "metadata": {},
     "output_type": "execute_result"
    }
   ],
   "source": [
    "eval_on_dataset(test_set_CCNU, model, 32, (8, 8), step=1, batch=32, save='../results/NoobHeart_SCAMPS_CCNU.h5')\n",
    "get_metrics('../results/NoobHeart_SCAMPS_CCNU.h5',)"
   ]
  },
  {
   "cell_type": "code",
   "execution_count": 15,
   "metadata": {},
   "outputs": [
    {
     "name": "stderr",
     "output_type": "stream",
     "text": [
      "100%|██████████| 54/54 [00:03<00:00, 15.05it/s]\n"
     ]
    },
    {
     "data": {
      "text/plain": [
       "{'Sliding window': {'MAE': 2.075, 'RMSE': 5.693, 'R': 0.83425},\n",
       " 'Whole video': {'MAE': 0.794, 'RMSE': 1.031, 'R': 0.99644}}"
      ]
     },
     "execution_count": 15,
     "metadata": {},
     "output_type": "execute_result"
    }
   ],
   "source": [
    "eval_on_dataset(test_set_CCNU_rPPG, model, 32, (8, 8), step=1, batch=32, save='../results/NoobHeart_SCAMPS_CCNU_rPPG.h5')\n",
    "get_metrics('../results/NoobHeart_SCAMPS_CCNU_rPPG.h5',)"
   ]
  },
  {
   "cell_type": "code",
   "execution_count": 59,
   "metadata": {},
   "outputs": [
    {
     "name": "stderr",
     "output_type": "stream",
     "text": [
      "100%|██████████| 59/59 [00:01<00:00, 33.19it/s]\n"
     ]
    },
    {
     "data": {
      "text/plain": [
       "{'Sliding window': {'MAE': 1.029, 'RMSE': 5.574, 'R': 0.97025},\n",
       " 'Whole video': {'MAE': 0.53, 'RMSE': 0.876, 'R': 0.99935}}"
      ]
     },
     "execution_count": 59,
     "metadata": {},
     "output_type": "execute_result"
    }
   ],
   "source": [
    "eval_on_dataset(test_set_PURE, model, 32, (8, 8), step=1, batch=32, save='../results/NoobHeart_SCAMPS_PURE.h5')\n",
    "get_metrics('../results/NoobHeart_SCAMPS_PURE.h5',)"
   ]
  },
  {
   "cell_type": "code",
   "execution_count": 58,
   "metadata": {},
   "outputs": [
    {
     "name": "stderr",
     "output_type": "stream",
     "text": [
      "100%|██████████| 42/42 [00:01<00:00, 34.31it/s]\n"
     ]
    },
    {
     "data": {
      "text/plain": [
       "{'Sliding window': {'MAE': 1.713, 'RMSE': 4.615, 'R': 0.96497},\n",
       " 'Whole video': {'MAE': 1.046, 'RMSE': 1.492, 'R': 0.9966}}"
      ]
     },
     "execution_count": 58,
     "metadata": {},
     "output_type": "execute_result"
    }
   ],
   "source": [
    "eval_on_dataset(test_set_UBFC_rPPG2, model, 32, (8, 8), step=1, batch=32, save='../results/NoobHeart_SCAMPS_UBFC.h5')\n",
    "get_metrics('../results/NoobHeart_SCAMPS_UBFC.h5',)"
   ]
  }
 ],
 "metadata": {
  "kernelspec": {
   "display_name": "dl",
   "language": "python",
   "name": "python3"
  },
  "language_info": {
   "codemirror_mode": {
    "name": "ipython",
    "version": 3
   },
   "file_extension": ".py",
   "mimetype": "text/x-python",
   "name": "python",
   "nbconvert_exporter": "python",
   "pygments_lexer": "ipython3",
   "version": "3.9.16"
  },
  "orig_nbformat": 4
 },
 "nbformat": 4,
 "nbformat_minor": 2
}
