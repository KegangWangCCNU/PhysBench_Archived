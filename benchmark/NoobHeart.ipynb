{
 "cells": [
  {
   "cell_type": "code",
   "execution_count": 60,
   "metadata": {},
   "outputs": [
    {
     "name": "stdout",
     "output_type": "stream",
     "text": [
      "The autoreload extension is already loaded. To reload it, use:\n",
      "  %reload_ext autoreload\n"
     ]
    }
   ],
   "source": [
    "%load_ext autoreload\n",
    "%autoreload 2\n",
    "import sys\n",
    "sys.path.append(\"..\")\n",
    "from utils import *\n",
    "from models import *"
   ]
  },
  {
   "cell_type": "code",
   "execution_count": 55,
   "metadata": {},
   "outputs": [],
   "source": [
    "train_tape = \"Z:/rppg/ccnu_datatape_32x8x8_train.h5\"\n",
    "valid_tape = \"Z:/rppg/ccnu_datatape_32x8x8_valid.h5\"\n",
    "\n",
    "train =  load_datatape(train_tape, use_normalized_bvp=True)\n",
    "valid = load_datatape(valid_tape, use_normalized_bvp=False)\n",
    "train, valid = to_tf(train).cache(), to_tf(valid).cache()"
   ]
  },
  {
   "cell_type": "code",
   "execution_count": 77,
   "metadata": {},
   "outputs": [
    {
     "name": "stdout",
     "output_type": "stream",
     "text": [
      "Flops per frame:5790\n",
      "Model: \"NoobHeart\"\n",
      "_________________________________________________________________\n",
      "Layer (type)                 Output Shape              Param #   \n",
      "=================================================================\n",
      "layer_normalization_44 (Laye (None, 32, 8, 8, 3)       64        \n",
      "_________________________________________________________________\n",
      "conv3d_46 (Conv3D)           (None, 32, 4, 4, 4)       100       \n",
      "_________________________________________________________________\n",
      "layer_normalization_45 (Laye (None, 32, 4, 4, 4)       64        \n",
      "_________________________________________________________________\n",
      "conv3d_47 (Conv3D)           (None, 32, 2, 2, 2)       66        \n",
      "_________________________________________________________________\n",
      "layer_normalization_46 (Laye (None, 32, 2, 2, 2)       64        \n",
      "_________________________________________________________________\n",
      "average_pooling3d_15 (Averag (None, 32, 1, 1, 2)       0         \n",
      "_________________________________________________________________\n",
      "conv3d_48 (Conv3D)           (None, 32, 1, 1, 1)       3         \n",
      "_________________________________________________________________\n",
      "flatten_16 (Flatten)         (None, 32)                0         \n",
      "=================================================================\n",
      "Total params: 361\n",
      "Trainable params: 361\n",
      "Non-trainable params: 0\n",
      "_________________________________________________________________\n"
     ]
    }
   ],
   "source": [
    "model = keras.Sequential([\n",
    "    layers.Input(shape=(32, 8, 8, 3)),\n",
    "    layers.LayerNormalization(axis=(1,)),\n",
    "    layers.Conv3D(4, (2, 2, 2), (1, 2, 2), padding='same', activation='relu'),\n",
    "    layers.LayerNormalization(axis=(1,)),\n",
    "    layers.Conv3D(2, (2, 2, 2), (1, 2, 2), padding='same', activation='relu'),\n",
    "    layers.LayerNormalization(axis=(1,)),\n",
    "    layers.AvgPool3D((1, 2, 2)),\n",
    "    layers.Conv3D(1, 1, 1),\n",
    "    layers.Flatten(),\n",
    "], name='NoobHeart')\n",
    "model.compile(optimizer='adam', loss='mae')\n",
    "print(f'Flops per frame:{get_flops(model, input_sig=[tf.TensorSpec([1, 32, 8, 8, 3])])/32:.0f}')\n",
    "model.summary()"
   ]
  },
  {
   "cell_type": "code",
   "execution_count": 72,
   "metadata": {},
   "outputs": [
    {
     "name": "stdout",
     "output_type": "stream",
     "text": [
      "Epoch 1/10\n",
      "1189/1189 [==============================] - 6s 5ms/step - loss: 0.7876 - val_loss: 0.7506\n",
      "\n",
      "Epoch 00001: val_loss improved from inf to 0.75062, saving model to ../weights\\NoobHeart.h5\n",
      "Epoch 2/10\n",
      "1189/1189 [==============================] - 5s 4ms/step - loss: 0.7425 - val_loss: 0.7400\n",
      "\n",
      "Epoch 00002: val_loss improved from 0.75062 to 0.73999, saving model to ../weights\\NoobHeart.h5\n",
      "Epoch 3/10\n",
      "1189/1189 [==============================] - 5s 4ms/step - loss: 0.7351 - val_loss: 0.7267\n",
      "\n",
      "Epoch 00003: val_loss improved from 0.73999 to 0.72669, saving model to ../weights\\NoobHeart.h5\n",
      "Epoch 4/10\n",
      "1189/1189 [==============================] - 5s 4ms/step - loss: 0.7259 - val_loss: 0.7059\n",
      "\n",
      "Epoch 00004: val_loss improved from 0.72669 to 0.70590, saving model to ../weights\\NoobHeart.h5\n",
      "Epoch 5/10\n",
      "1189/1189 [==============================] - 5s 4ms/step - loss: 0.7217 - val_loss: 0.7006\n",
      "\n",
      "Epoch 00005: val_loss improved from 0.70590 to 0.70059, saving model to ../weights\\NoobHeart.h5\n",
      "Epoch 6/10\n",
      "1189/1189 [==============================] - 5s 4ms/step - loss: 0.7187 - val_loss: 0.6968\n",
      "\n",
      "Epoch 00006: val_loss improved from 0.70059 to 0.69684, saving model to ../weights\\NoobHeart.h5\n",
      "Epoch 7/10\n",
      "1189/1189 [==============================] - 5s 4ms/step - loss: 0.7162 - val_loss: 0.6928\n",
      "\n",
      "Epoch 00007: val_loss improved from 0.69684 to 0.69284, saving model to ../weights\\NoobHeart.h5\n",
      "Epoch 8/10\n",
      "1189/1189 [==============================] - 5s 4ms/step - loss: 0.7154 - val_loss: 0.6938\n",
      "\n",
      "Epoch 00008: val_loss did not improve from 0.69284\n",
      "Epoch 9/10\n",
      "1189/1189 [==============================] - 5s 4ms/step - loss: 0.7151 - val_loss: 0.6924\n",
      "\n",
      "Epoch 00009: val_loss improved from 0.69284 to 0.69244, saving model to ../weights\\NoobHeart.h5\n",
      "Epoch 10/10\n",
      "1189/1189 [==============================] - 5s 4ms/step - loss: 0.7148 - val_loss: 0.6908\n",
      "\n",
      "Epoch 00010: val_loss improved from 0.69244 to 0.69079, saving model to ../weights\\NoobHeart.h5\n"
     ]
    }
   ],
   "source": [
    "model.fit(train.shuffle(2000).batch(128), validation_data=valid.batch(32), epochs=10, callbacks=[keras.callbacks.ModelCheckpoint('../weights/NoobHeart.h5', monitor='val_loss', verbose=1, save_best_only=True, mode='min', save_weights_only=True)])\n",
    "model.load_weights('../weights/NoobHeart.h5')"
   ]
  },
  {
   "cell_type": "code",
   "execution_count": 26,
   "metadata": {},
   "outputs": [],
   "source": [
    "model.load_weights('../weights/NoobHeart.h5')"
   ]
  },
  {
   "cell_type": "code",
   "execution_count": 76,
   "metadata": {},
   "outputs": [
    {
     "name": "stderr",
     "output_type": "stream",
     "text": [
      "100%|██████████| 179/179 [00:14<00:00, 12.40it/s]\n"
     ]
    },
    {
     "data": {
      "text/plain": [
       "{'Sliding window': {'MAE': 1.784, 'RMSE': 5.851, 'R': 0.8307},\n",
       " 'Whole video': {'MAE': 0.961, 'RMSE': 2.933, 'R': 0.95338}}"
      ]
     },
     "execution_count": 76,
     "metadata": {},
     "output_type": "execute_result"
    }
   ],
   "source": [
    "eval_on_dataset(test_set_CCNU, model, 32, (8, 8), step=1, batch=32, save='../results/NoobHeart_CCNU_CCNU.h5')\n",
    "get_metrics('../results/NoobHeart_CCNU_CCNU.h5',)"
   ]
  },
  {
   "cell_type": "code",
   "execution_count": 75,
   "metadata": {},
   "outputs": [
    {
     "name": "stderr",
     "output_type": "stream",
     "text": [
      "100%|██████████| 54/54 [00:03<00:00, 16.06it/s]\n"
     ]
    },
    {
     "data": {
      "text/plain": [
       "{'Sliding window': {'MAE': 1.459, 'RMSE': 4.303, 'R': 0.90202},\n",
       " 'Whole video': {'MAE': 0.825, 'RMSE': 1.471, 'R': 0.98854}}"
      ]
     },
     "execution_count": 75,
     "metadata": {},
     "output_type": "execute_result"
    }
   ],
   "source": [
    "eval_on_dataset(test_set_CCNU_rPPG, model, 32, (8, 8), step=1, batch=32, save='../results/NoobHeart_CCNU_CCNU_rPPG.h5')\n",
    "get_metrics('../results/NoobHeart_CCNU_CCNU_rPPG.h5',)"
   ]
  },
  {
   "cell_type": "code",
   "execution_count": 74,
   "metadata": {},
   "outputs": [
    {
     "name": "stderr",
     "output_type": "stream",
     "text": [
      "100%|██████████| 59/59 [00:02<00:00, 20.82it/s]\n"
     ]
    },
    {
     "data": {
      "text/plain": [
       "{'Sliding window': {'MAE': 0.95, 'RMSE': 4.404, 'R': 0.98178},\n",
       " 'Whole video': {'MAE': 0.475, 'RMSE': 0.794, 'R': 0.99952}}"
      ]
     },
     "execution_count": 74,
     "metadata": {},
     "output_type": "execute_result"
    }
   ],
   "source": [
    "eval_on_dataset(test_set_PURE, model, 32, (8, 8), step=1, batch=32, save='../results/NoobHeart_CCNU_PURE.h5')\n",
    "get_metrics('../results/NoobHeart_CCNU_PURE.h5',)"
   ]
  },
  {
   "cell_type": "code",
   "execution_count": 73,
   "metadata": {},
   "outputs": [
    {
     "name": "stderr",
     "output_type": "stream",
     "text": [
      "100%|██████████| 42/42 [00:01<00:00, 22.36it/s]\n"
     ]
    },
    {
     "data": {
      "text/plain": [
       "{'Sliding window': {'MAE': 1.873, 'RMSE': 4.465, 'R': 0.96794},\n",
       " 'Whole video': {'MAE': 1.268, 'RMSE': 1.846, 'R': 0.99561}}"
      ]
     },
     "execution_count": 73,
     "metadata": {},
     "output_type": "execute_result"
    }
   ],
   "source": [
    "eval_on_dataset(test_set_UBFC_rPPG2, model, 32, (8, 8), step=1, batch=32, save='../results/NoobHeart_CCNU_UBFC.h5')\n",
    "get_metrics('../results/NoobHeart_CCNU_UBFC.h5',)"
   ]
  }
 ],
 "metadata": {
  "kernelspec": {
   "display_name": "dl",
   "language": "python",
   "name": "python3"
  },
  "language_info": {
   "codemirror_mode": {
    "name": "ipython",
    "version": 3
   },
   "file_extension": ".py",
   "mimetype": "text/x-python",
   "name": "python",
   "nbconvert_exporter": "python",
   "pygments_lexer": "ipython3",
   "version": "3.9.16"
  },
  "orig_nbformat": 4
 },
 "nbformat": 4,
 "nbformat_minor": 2
}
