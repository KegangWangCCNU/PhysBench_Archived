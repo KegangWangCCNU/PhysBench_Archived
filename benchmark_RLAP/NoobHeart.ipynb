{
 "cells": [
  {
   "cell_type": "code",
   "execution_count": 1,
   "metadata": {},
   "outputs": [],
   "source": [
    "%load_ext autoreload\n",
    "%autoreload 2\n",
    "import sys\n",
    "sys.path.append(\"..\")\n",
    "from utils import *\n",
    "from models import *"
   ]
  },
  {
   "cell_type": "code",
   "execution_count": 2,
   "metadata": {},
   "outputs": [],
   "source": [
    "train_tape = \"Z:/rppg/ccnu_datatape_32x8x8_train.h5\"\n",
    "valid_tape = \"Z:/rppg/ccnu_datatape_32x8x8_valid.h5\"\n",
    "\n",
    "train =  load_datatape(train_tape, use_normalized_bvp=True)\n",
    "valid = load_datatape(valid_tape, use_normalized_bvp=False)\n",
    "train, valid = to_tf(train).cache(), to_tf(valid).cache()"
   ]
  },
  {
   "cell_type": "code",
   "execution_count": 2,
   "metadata": {},
   "outputs": [
    {
     "name": "stdout",
     "output_type": "stream",
     "text": [
      "WARNING:tensorflow:From x:\\Users\\wkg\\anaconda3\\envs\\dl\\lib\\site-packages\\tensorflow\\python\\profiler\\internal\\flops_registry.py:243: tensor_shape_from_node_def_name (from tensorflow.python.framework.graph_util_impl) is deprecated and will be removed in a future version.\n",
      "Instructions for updating:\n",
      "Use `tf.compat.v1.graph_util.tensor_shape_from_node_def_name`\n",
      "Flops per frame:5790\n",
      "Model: \"NoobHeart\"\n",
      "_________________________________________________________________\n",
      "Layer (type)                 Output Shape              Param #   \n",
      "=================================================================\n",
      "layer_normalization (LayerNo (None, 32, 8, 8, 3)       64        \n",
      "_________________________________________________________________\n",
      "conv3d (Conv3D)              (None, 32, 4, 4, 4)       100       \n",
      "_________________________________________________________________\n",
      "layer_normalization_1 (Layer (None, 32, 4, 4, 4)       64        \n",
      "_________________________________________________________________\n",
      "conv3d_1 (Conv3D)            (None, 32, 2, 2, 2)       66        \n",
      "_________________________________________________________________\n",
      "layer_normalization_2 (Layer (None, 32, 2, 2, 2)       64        \n",
      "_________________________________________________________________\n",
      "average_pooling3d (AveragePo (None, 32, 1, 1, 2)       0         \n",
      "_________________________________________________________________\n",
      "conv3d_2 (Conv3D)            (None, 32, 1, 1, 1)       3         \n",
      "_________________________________________________________________\n",
      "flatten (Flatten)            (None, 32)                0         \n",
      "=================================================================\n",
      "Total params: 361\n",
      "Trainable params: 361\n",
      "Non-trainable params: 0\n",
      "_________________________________________________________________\n"
     ]
    }
   ],
   "source": [
    "model = keras.Sequential([\n",
    "    layers.Input(shape=(32, 8, 8, 3)),\n",
    "    layers.LayerNormalization(axis=(1,)),\n",
    "    layers.Conv3D(4, (2, 2, 2), (1, 2, 2), padding='same', activation='tanh'),\n",
    "    layers.LayerNormalization(axis=(1,)),\n",
    "    layers.Conv3D(2, (2, 2, 2), (1, 2, 2), padding='same', activation='tanh'),\n",
    "    layers.LayerNormalization(axis=(1,)),\n",
    "    layers.AvgPool3D((1, 2, 2)),\n",
    "    layers.Conv3D(1, 1, 1),\n",
    "    layers.Flatten(),\n",
    "], name='NoobHeart')\n",
    "model.compile(optimizer='adam', loss='mae')\n",
    "print(f'Flops per frame:{get_flops(model, input_sig=[tf.TensorSpec([1, 32, 8, 8, 3])])/32:.0f}')\n",
    "model.summary()"
   ]
  },
  {
   "cell_type": "code",
   "execution_count": 4,
   "metadata": {},
   "outputs": [
    {
     "name": "stdout",
     "output_type": "stream",
     "text": [
      "Epoch 1/10\n",
      "1189/1189 [==============================] - 44s 36ms/step - loss: 0.7653 - val_loss: 0.7378\n",
      "\n",
      "Epoch 00001: val_loss improved from inf to 0.73776, saving model to ../weights\\NoobHeart_CCNU.h5\n",
      "Epoch 2/10\n",
      "1189/1189 [==============================] - 6s 5ms/step - loss: 0.7349 - val_loss: 0.7304\n",
      "\n",
      "Epoch 00002: val_loss improved from 0.73776 to 0.73039, saving model to ../weights\\NoobHeart_CCNU.h5\n",
      "Epoch 3/10\n",
      "1189/1189 [==============================] - 6s 5ms/step - loss: 0.7268 - val_loss: 0.7081\n",
      "\n",
      "Epoch 00003: val_loss improved from 0.73039 to 0.70806, saving model to ../weights\\NoobHeart_CCNU.h5\n",
      "Epoch 4/10\n",
      "1189/1189 [==============================] - 6s 5ms/step - loss: 0.7194 - val_loss: 0.6997\n",
      "\n",
      "Epoch 00004: val_loss improved from 0.70806 to 0.69967, saving model to ../weights\\NoobHeart_CCNU.h5\n",
      "Epoch 5/10\n",
      "1189/1189 [==============================] - 6s 5ms/step - loss: 0.7181 - val_loss: 0.6994\n",
      "\n",
      "Epoch 00005: val_loss improved from 0.69967 to 0.69941, saving model to ../weights\\NoobHeart_CCNU.h5\n",
      "Epoch 6/10\n",
      "1189/1189 [==============================] - 6s 5ms/step - loss: 0.7176 - val_loss: 0.6980\n",
      "\n",
      "Epoch 00006: val_loss improved from 0.69941 to 0.69799, saving model to ../weights\\NoobHeart_CCNU.h5\n",
      "Epoch 7/10\n",
      "1189/1189 [==============================] - 6s 5ms/step - loss: 0.7173 - val_loss: 0.6974\n",
      "\n",
      "Epoch 00007: val_loss improved from 0.69799 to 0.69744, saving model to ../weights\\NoobHeart_CCNU.h5\n",
      "Epoch 8/10\n",
      "1189/1189 [==============================] - 6s 5ms/step - loss: 0.7171 - val_loss: 0.6983\n",
      "\n",
      "Epoch 00008: val_loss did not improve from 0.69744\n",
      "Epoch 9/10\n",
      "1189/1189 [==============================] - 6s 5ms/step - loss: 0.7169 - val_loss: 0.6963\n",
      "\n",
      "Epoch 00009: val_loss improved from 0.69744 to 0.69632, saving model to ../weights\\NoobHeart_CCNU.h5\n",
      "Epoch 10/10\n",
      "1189/1189 [==============================] - 6s 5ms/step - loss: 0.7167 - val_loss: 0.6972\n",
      "\n",
      "Epoch 00010: val_loss did not improve from 0.69632\n"
     ]
    }
   ],
   "source": [
    "model.fit(train.shuffle(2000).batch(128), validation_data=valid.batch(32), epochs=10, callbacks=[keras.callbacks.ModelCheckpoint('../weights/NoobHeart_CCNU.h5', monitor='val_loss', verbose=1, save_best_only=True, mode='min', save_weights_only=True)])\n",
    "model.load_weights('../weights/NoobHeart_CCNU.h5')"
   ]
  },
  {
   "cell_type": "code",
   "execution_count": 3,
   "metadata": {},
   "outputs": [],
   "source": [
    "model.load_weights('../weights/NoobHeart.h5')"
   ]
  },
  {
   "cell_type": "code",
   "execution_count": 5,
   "metadata": {},
   "outputs": [
    {
     "name": "stderr",
     "output_type": "stream",
     "text": [
      "100%|██████████| 179/179 [00:16<00:00, 10.59it/s]\n"
     ]
    },
    {
     "data": {
      "text/plain": [
       "{'Sliding window': {'MAE': 1.688, 'RMSE': 5.53, 'R': 0.84964},\n",
       " 'Whole video': {'MAE': 0.838, 'RMSE': 2.76, 'R': 0.9577}}"
      ]
     },
     "execution_count": 5,
     "metadata": {},
     "output_type": "execute_result"
    }
   ],
   "source": [
    "eval_on_dataset(test_set_CCNU, model, 32, (8, 8), step=1, batch=32, save='../results/NoobHeart_CCNU_CCNU.h5')\n",
    "get_metrics('../results/NoobHeart_CCNU_CCNU.h5',)\n",
    "#get_metrics_HRV('../results/NoobHeart_CCNU_CCNU.h5',)"
   ]
  },
  {
   "cell_type": "code",
   "execution_count": 6,
   "metadata": {},
   "outputs": [
    {
     "name": "stderr",
     "output_type": "stream",
     "text": [
      "100%|██████████| 54/54 [00:03<00:00, 16.43it/s]\n"
     ]
    },
    {
     "data": {
      "text/plain": [
       "{'Sliding window': {'MAE': 1.511, 'RMSE': 4.403, 'R': 0.89753},\n",
       " 'Whole video': {'MAE': 0.784, 'RMSE': 1.463, 'R': 0.9881}}"
      ]
     },
     "execution_count": 6,
     "metadata": {},
     "output_type": "execute_result"
    }
   ],
   "source": [
    "eval_on_dataset(test_set_CCNU_rPPG, model, 32, (8, 8), step=1, batch=32, save='../results/NoobHeart_CCNU_CCNU_rPPG.h5')\n",
    "get_metrics('../results/NoobHeart_CCNU_CCNU_rPPG.h5',)\n",
    "#get_metrics_HRV('../results/NoobHeart_CCNU_CCNU_rPPG.h5',)"
   ]
  },
  {
   "cell_type": "code",
   "execution_count": 7,
   "metadata": {},
   "outputs": [
    {
     "name": "stderr",
     "output_type": "stream",
     "text": [
      "100%|██████████| 59/59 [00:02<00:00, 22.77it/s]\n"
     ]
    },
    {
     "data": {
      "text/plain": [
       "{'Sliding window': {'MAE': 1.121, 'RMSE': 6.905, 'R': 0.95399},\n",
       " 'Whole video': {'MAE': 0.438, 'RMSE': 0.701, 'R': 0.99968}}"
      ]
     },
     "execution_count": 7,
     "metadata": {},
     "output_type": "execute_result"
    }
   ],
   "source": [
    "eval_on_dataset(test_set_PURE, model, 32, (8, 8), step=1, batch=32, save='../results/NoobHeart_CCNU_PURE.h5')\n",
    "get_metrics('../results/NoobHeart_CCNU_PURE.h5',)\n",
    "#get_metrics_HRV('../results/NoobHeart_CCNU_PURE.h5',)"
   ]
  },
  {
   "cell_type": "code",
   "execution_count": 8,
   "metadata": {},
   "outputs": [
    {
     "name": "stderr",
     "output_type": "stream",
     "text": [
      "100%|██████████| 42/42 [00:01<00:00, 26.05it/s]\n"
     ]
    },
    {
     "data": {
      "text/plain": [
       "{'Sliding window': {'MAE': 1.762, 'RMSE': 4.327, 'R': 0.96993},\n",
       " 'Whole video': {'MAE': 1.155, 'RMSE': 1.695, 'R': 0.99633}}"
      ]
     },
     "execution_count": 8,
     "metadata": {},
     "output_type": "execute_result"
    }
   ],
   "source": [
    "eval_on_dataset(test_set_UBFC_rPPG2, model, 32, (8, 8), step=1, batch=32, save='../results/NoobHeart_CCNU_UBFC.h5')\n",
    "get_metrics('../results/NoobHeart_CCNU_UBFC.h5',)\n",
    "#get_metrics_HRV('../results/NoobHeart_CCNU_UBFC.h5',)"
   ]
  },
  {
   "cell_type": "code",
   "execution_count": 11,
   "metadata": {},
   "outputs": [
    {
     "name": "stderr",
     "output_type": "stream",
     "text": [
      "100%|██████████| 660/660 [00:35<00:00, 18.64it/s]\n"
     ]
    },
    {
     "data": {
      "text/plain": [
       "{'Sliding window': {'MAE': 4.962, 'RMSE': 9.607, 'R': 0.52993},\n",
       " 'Whole video': {'MAE': 2.776, 'RMSE': 6.311, 'R': 0.76314}}"
      ]
     },
     "execution_count": 11,
     "metadata": {},
     "output_type": "execute_result"
    }
   ],
   "source": [
    "eval_on_dataset(test_set_MMPD, model, 32, (8, 8), step=0.5, batch=32, save='../results/NoobHeart_CCNU_MMPD.h5')\n",
    "get_metrics('../results/NoobHeart_CCNU_MMPD.h5', motion='Stationary', skin_color='3', light=['LED-high', 'Incandescent', 'LED-low'])"
   ]
  }
 ],
 "metadata": {
  "kernelspec": {
   "display_name": "dl",
   "language": "python",
   "name": "python3"
  },
  "language_info": {
   "codemirror_mode": {
    "name": "ipython",
    "version": 3
   },
   "file_extension": ".py",
   "mimetype": "text/x-python",
   "name": "python",
   "nbconvert_exporter": "python",
   "pygments_lexer": "ipython3",
   "version": "3.9.16"
  },
  "orig_nbformat": 4
 },
 "nbformat": 4,
 "nbformat_minor": 2
}
