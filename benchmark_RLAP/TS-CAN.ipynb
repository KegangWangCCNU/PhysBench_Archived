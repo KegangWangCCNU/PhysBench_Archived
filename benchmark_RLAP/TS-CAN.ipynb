{
 "cells": [
  {
   "cell_type": "code",
   "execution_count": 1,
   "metadata": {},
   "outputs": [],
   "source": [
    "%load_ext autoreload\n",
    "%autoreload 2\n",
    "import sys\n",
    "sys.path.append(\"..\")\n",
    "from utils import *\n",
    "from models import *"
   ]
  },
  {
   "cell_type": "code",
   "execution_count": 2,
   "metadata": {},
   "outputs": [
    {
     "name": "stdout",
     "output_type": "stream",
     "text": [
      "(160, 36, 36, 3)\n"
     ]
    }
   ],
   "source": [
    "train_tape = \"Z:/rppg/ccnu_datatape_160x36x36_train.h5\"\n",
    "valid_tape = \"Z:/rppg/ccnu_datatape_160x36x36_valid.h5\"\n",
    "\n",
    "train =  load_datatape(train_tape, use_normalized_bvp=True)\n",
    "valid = load_datatape(valid_tape, use_normalized_bvp=False)\n",
    "\n",
    "def to_tf_tscan(datatape, dtype=tf.float16):\n",
    "    def _():\n",
    "        for i, j in datatape:\n",
    "            j = tf.concat([j[1:]-j[:-1], [0]], axis=0)\n",
    "            yield i, j\n",
    "    return tf.data.Dataset.from_generator(lambda :_(), output_types=(dtype, dtype), output_shapes=(datatape.shape, datatape.shape[:1]))\n",
    "\n",
    "#train, valid = to_tf_tscan(train).cache(f'{tmp}/tscan'), to_tf_tscan(valid).cache(f'{tmp}/tscan')\n",
    "train, valid = to_tf_tscan(train), to_tf_tscan(valid)"
   ]
  },
  {
   "cell_type": "code",
   "execution_count": 16,
   "metadata": {},
   "outputs": [
    {
     "name": "stdout",
     "output_type": "stream",
     "text": [
      "Flops per frame:52158718\n",
      "Model: \"ts_can_end_to_end_5\"\n",
      "_________________________________________________________________\n",
      "Layer (type)                 Output Shape              Param #   \n",
      "=================================================================\n",
      "model_5 (Functional)         (None, 1)                 532899    \n",
      "=================================================================\n",
      "Total params: 532,899\n",
      "Trainable params: 532,899\n",
      "Non-trainable params: 0\n",
      "_________________________________________________________________\n"
     ]
    }
   ],
   "source": [
    "ts_can_e2e = TS_CAN_end_to_end(n=20)\n",
    "ts_can_e2e.compile(optimizer='Nadam', loss='mse')\n",
    "ts_can_e2e.build(input_shape=(None, 36, 36, 3))\n",
    "print(f'Flops per frame:{get_flops(ts_can_e2e, input_sig=[tf.TensorSpec([160, 36, 36, 3])])/160:.0f}')\n",
    "ts_can_e2e.summary()"
   ]
  },
  {
   "cell_type": "code",
   "execution_count": null,
   "metadata": {},
   "outputs": [],
   "source": [
    "ts_can_e2e.fit(train.shuffle(2000), validation_data=valid, epochs=10, callbacks=[keras.callbacks.ModelCheckpoint('../weights/TS-CAN_CCNU.h5', monitor='val_loss', verbose=1, save_best_only=True, mode='min', save_weights_only=True)])\n",
    "ts_can_e2e.load_weights('../weights/TS-CAN_CCNU.h5')"
   ]
  },
  {
   "cell_type": "code",
   "execution_count": 17,
   "metadata": {},
   "outputs": [],
   "source": [
    "ts_can_e2e.load_weights('../weights/TS-CAN_CCNU.h5')"
   ]
  },
  {
   "cell_type": "code",
   "execution_count": 4,
   "metadata": {},
   "outputs": [],
   "source": [
    "def cumsum(result, overwrite=True):\n",
    "    with h5py.File(result, 'a') as f:\n",
    "        for i, j in f.items():\n",
    "            if 'diff' not in j.keys():\n",
    "                j.create_dataset('diff', data=j['predict'])\n",
    "                j['predict'][...] = detrend(np.cumsum(j['diff']))\n",
    "            elif overwrite:\n",
    "                j['predict'][...] = detrend(np.cumsum(j['diff']))"
   ]
  },
  {
   "cell_type": "code",
   "execution_count": 11,
   "metadata": {},
   "outputs": [
    {
     "name": "stderr",
     "output_type": "stream",
     "text": [
      "100%|██████████| 179/179 [09:46<00:00,  3.28s/it]\n"
     ]
    },
    {
     "data": {
      "text/plain": [
       "{'Sliding window': {'MAE': 1.223, 'RMSE': 3.526, 'R': 0.93915},\n",
       " 'Whole video': {'MAE': 0.929, 'RMSE': 2.898, 'R': 0.95286}}"
      ]
     },
     "execution_count": 11,
     "metadata": {},
     "output_type": "execute_result"
    }
   ],
   "source": [
    "eval_on_dataset(test_set_CCNU, ts_can_e2e, 160, (36, 36), step=1, batch=0, save='../results/TS-CAN_CCNU_CCNU.h5', sample=cv2.INTER_CUBIC)\n",
    "cumsum('../results/TS-CAN_CCNU_CCNU.h5')\n",
    "get_metrics('../results/TS-CAN_CCNU_CCNU.h5')"
   ]
  },
  {
   "cell_type": "code",
   "execution_count": 4,
   "metadata": {},
   "outputs": [
    {
     "data": {
      "text/plain": [
       "{'SDNN': {'MAE': 50.056, 'RMSE': 59.304, 'R': 0.39467}}"
      ]
     },
     "execution_count": 4,
     "metadata": {},
     "output_type": "execute_result"
    }
   ],
   "source": [
    "#eval_on_dataset(test_set_CCNU_rPPG, ts_can_e2e, 160, (36, 36), step=1, batch=0, save='../results/TS-CAN_CCNU_CCNU_rPPG.h5', sample=cv2.INTER_CUBIC)\n",
    "#cumsum('../results/TS-CAN_CCNU_CCNU_rPPG.h5')\n",
    "#get_metrics('../results/TS-CAN_CCNU_CCNU_rPPG.h5')\n",
    "get_metrics_HRV('../results/TS-CAN_CCNU_CCNU_rPPG.h5')"
   ]
  },
  {
   "cell_type": "code",
   "execution_count": 3,
   "metadata": {},
   "outputs": [
    {
     "name": "stderr",
     "output_type": "stream",
     "text": [
      "x:\\Users\\wkg\\anaconda3\\envs\\dl\\lib\\site-packages\\numpy\\ma\\core.py:5288: RuntimeWarning: Mean of empty slice.\n",
      "  result = super().mean(axis=axis, dtype=dtype, **kwargs)[()]\n",
      "x:\\Users\\wkg\\anaconda3\\envs\\dl\\lib\\site-packages\\numpy\\core\\fromnumeric.py:3715: RuntimeWarning: Degrees of freedom <= 0 for slice\n",
      "  return _methods._var(a, axis=axis, dtype=dtype, out=out, ddof=ddof,\n",
      "x:\\Users\\wkg\\anaconda3\\envs\\dl\\lib\\site-packages\\numpy\\core\\fromnumeric.py:3432: RuntimeWarning: Mean of empty slice.\n",
      "  return _methods._mean(a, axis=axis, dtype=dtype,\n",
      "x:\\Users\\wkg\\anaconda3\\envs\\dl\\lib\\site-packages\\numpy\\core\\_methods.py:265: RuntimeWarning: Degrees of freedom <= 0 for slice\n",
      "  ret = _var(a, axis=axis, dtype=dtype, out=out, ddof=ddof,\n"
     ]
    },
    {
     "data": {
      "text/plain": [
       "{'SDNN': {'MAE': 61.401, 'RMSE': 74.103, 'R': 0.29331}}"
      ]
     },
     "execution_count": 3,
     "metadata": {},
     "output_type": "execute_result"
    }
   ],
   "source": [
    "#eval_on_dataset(test_set_PURE, ts_can_e2e, 160, (36, 36), step=1, batch=0, save='../results/TS-CAN_CCNU_PURE.h5', sample=cv2.INTER_CUBIC)\n",
    "#cumsum('../results/TS-CAN_CCNU_PURE.h5')\n",
    "#get_metrics('../results/TS-CAN_CCNU_PURE.h5')\n",
    "get_metrics_HRV('../results/TS-CAN_CCNU_PURE.h5')"
   ]
  },
  {
   "cell_type": "code",
   "execution_count": 2,
   "metadata": {},
   "outputs": [
    {
     "name": "stderr",
     "output_type": "stream",
     "text": [
      "x:\\Users\\wkg\\anaconda3\\envs\\dl\\lib\\site-packages\\scipy\\interpolate\\_fitpack2.py:298: UserWarning: \n",
      "The maximal number of iterations maxit (set to 20 by the program)\n",
      "allowed for finding a smoothing spline with fp=s has been reached: s\n",
      "too small.\n",
      "There is an approximation returned but the corresponding weighted sum\n",
      "of squared residuals does not satisfy the condition abs(fp-s)/s < tol.\n",
      "  warnings.warn(message)\n"
     ]
    },
    {
     "data": {
      "text/plain": [
       "{'SDNN': {'MAE': 25.607, 'RMSE': 31.848, 'R': 0.5878}}"
      ]
     },
     "execution_count": 2,
     "metadata": {},
     "output_type": "execute_result"
    }
   ],
   "source": [
    "#eval_on_dataset(test_set_UBFC_rPPG2, ts_can_e2e, 160, (36, 36), step=1, batch=0, save='../results/TS-CAN_CCNU_UBFC.h5', sample=cv2.INTER_CUBIC)\n",
    "#cumsum('../results/TS-CAN_CCNU_UBFC.h5')\n",
    "#get_metrics('../results/TS-CAN_CCNU_UBFC.h5')\n",
    "get_metrics_HRV('../results/TS-CAN_CCNU_UBFC.h5')"
   ]
  },
  {
   "cell_type": "code",
   "execution_count": 26,
   "metadata": {},
   "outputs": [
    {
     "data": {
      "text/plain": [
       "{'Sliding window': {'MAE': 1.715, 'RMSE': 4.864, 'R': 0.85781},\n",
       " 'Whole video': {'MAE': 0.95, 'RMSE': 1.396, 'R': 0.98897}}"
      ]
     },
     "execution_count": 26,
     "metadata": {},
     "output_type": "execute_result"
    }
   ],
   "source": [
    "#eval_on_dataset(test_set_MMPD, ts_can_e2e, 160, (36, 36), step=1, batch=0, save='../results/TS-CAN_CCNU_MMPD.h5', sample=cv2.INTER_CUBIC, cumsum=True)\n",
    "get_metrics('../results/TS-CAN_CCNU_MMPD.h5', motion='Stationary', skin_color='3', light=['LED-high', 'LED-low', 'Incandescent'])"
   ]
  }
 ],
 "metadata": {
  "kernelspec": {
   "display_name": "dl",
   "language": "python",
   "name": "python3"
  },
  "language_info": {
   "codemirror_mode": {
    "name": "ipython",
    "version": 3
   },
   "file_extension": ".py",
   "mimetype": "text/x-python",
   "name": "python",
   "nbconvert_exporter": "python",
   "pygments_lexer": "ipython3",
   "version": "3.9.16"
  },
  "orig_nbformat": 4,
  "vscode": {
   "interpreter": {
    "hash": "ef3e367c2466be0f305882ce2bcd0e67eb2cbba315c01407a1a54a3d07e5496a"
   }
  }
 },
 "nbformat": 4,
 "nbformat_minor": 2
}
