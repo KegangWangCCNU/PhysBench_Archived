{
 "cells": [
  {
   "cell_type": "code",
   "execution_count": 2,
   "metadata": {},
   "outputs": [],
   "source": [
    "import sys\n",
    "sys.path.append(\"..\")\n",
    "from utils import *\n",
    "from unsupervised_methods import *"
   ]
  },
  {
   "cell_type": "code",
   "execution_count": 3,
   "metadata": {},
   "outputs": [],
   "source": [
    "def to_model(method):\n",
    "    def model(x):\n",
    "        x = np.mean(x, axis=(-3, -2))\n",
    "        x = method(x)\n",
    "        x = (x-np.expand_dims(np.mean(x, axis=-1), -1))/(np.expand_dims(np.std(x, axis=-1), -1)+1e-6)\n",
    "        #print(x)\n",
    "        return x\n",
    "    return model"
   ]
  },
  {
   "cell_type": "code",
   "execution_count": 6,
   "metadata": {},
   "outputs": [
    {
     "name": "stderr",
     "output_type": "stream",
     "text": [
      "100%|██████████| 179/179 [07:25<00:00,  2.49s/it]\n",
      "100%|██████████| 165/165 [01:25<00:00,  1.92it/s]\n"
     ]
    },
    {
     "data": {
      "text/plain": [
       "{'Sliding window': {'MAE': 6.859, 'RMSE': 15.566, 'R': 0.35696},\n",
       " 'Whole video': {'MAE': 5.086, 'RMSE': 13.511, 'R': 0.40434}}"
      ]
     },
     "execution_count": 6,
     "metadata": {},
     "output_type": "execute_result"
    }
   ],
   "source": [
    "eval_on_dataset(test_set_CCNU, to_model(CHROM), 900, (1, 1), step=1, batch=0, save='../results/CHROM_CCNU.h5')\n",
    "get_metrics('../results/CHROM_CCNU.h5')"
   ]
  },
  {
   "cell_type": "code",
   "execution_count": 5,
   "metadata": {},
   "outputs": [
    {
     "name": "stderr",
     "output_type": "stream",
     "text": [
      "100%|██████████| 54/54 [01:41<00:00,  1.87s/it]\n",
      "100%|██████████| 54/54 [00:18<00:00,  2.91it/s]\n"
     ]
    },
    {
     "data": {
      "text/plain": [
       "{'Sliding window': {'MAE': 6.302, 'RMSE': 14.515, 'R': 0.4412},\n",
       " 'Whole video': {'MAE': 3.537, 'RMSE': 9.869, 'R': 0.65948}}"
      ]
     },
     "execution_count": 5,
     "metadata": {},
     "output_type": "execute_result"
    }
   ],
   "source": [
    "eval_on_dataset(test_set_CCNU_rPPG, to_model(CHROM), 900, (1, 1), step=1, batch=0, save='../results/CHROM_CCNU_rPPG.h5')\n",
    "get_metrics('../results/CHROM_CCNU_rPPG.h5')"
   ]
  },
  {
   "cell_type": "code",
   "execution_count": 5,
   "metadata": {},
   "outputs": [
    {
     "name": "stderr",
     "output_type": "stream",
     "text": [
      "100%|██████████| 179/179 [49:23<00:00, 16.55s/it] \n"
     ]
    },
    {
     "data": {
      "text/plain": [
       "{'Sliding window': {'MAE': 6.05, 'RMSE': 13.33, 'R': 0.38032},\n",
       " 'Whole video': {'MAE': 4.461, 'RMSE': 11.134, 'R': 0.47463}}"
      ]
     },
     "execution_count": 5,
     "metadata": {},
     "output_type": "execute_result"
    }
   ],
   "source": [
    "eval_on_dataset(test_set_CCNU, to_model(ICA), 900, (1, 1), step=1, batch=0, save='../results/ICA_CCNU.h5')\n",
    "get_metrics('../results/ICA_CCNU.h5')"
   ]
  },
  {
   "cell_type": "code",
   "execution_count": null,
   "metadata": {},
   "outputs": [
    {
     "name": "stderr",
     "output_type": "stream",
     "text": [
      "100%|██████████| 54/54 [09:48<00:00, 10.89s/it]\n",
      "100%|██████████| 54/54 [00:17<00:00,  3.01it/s]\n"
     ]
    },
    {
     "data": {
      "text/plain": [
       "{'Sliding window': {'MAE': 6.446, 'RMSE': 12.995, 'R': 0.47014},\n",
       " 'Whole video': {'MAE': 4.729, 'RMSE': 9.914, 'R': 0.6542}}"
      ]
     },
     "execution_count": 9,
     "metadata": {},
     "output_type": "execute_result"
    }
   ],
   "source": [
    "eval_on_dataset(test_set_CCNU_rPPG, to_model(ICA), 900, (1, 1), step=1, batch=0, save='../results/ICA_CCNU_rPPG.h5')\n",
    "get_metrics('../results/ICA_CCNU_rPPG.h5')"
   ]
  },
  {
   "cell_type": "code",
   "execution_count": 6,
   "metadata": {},
   "outputs": [
    {
     "name": "stderr",
     "output_type": "stream",
     "text": [
      "100%|██████████| 179/179 [40:45<00:00, 13.66s/it] \n"
     ]
    },
    {
     "data": {
      "text/plain": [
       "{'Sliding window': {'MAE': 4.248, 'RMSE': 12.055, 'R': 0.50096},\n",
       " 'Whole video': {'MAE': 1.706, 'RMSE': 6.455, 'R': 0.78939}}"
      ]
     },
     "execution_count": 6,
     "metadata": {},
     "output_type": "execute_result"
    }
   ],
   "source": [
    "eval_on_dataset(test_set_CCNU, to_model(POS), 900, (1, 1), step=1, batch=0, save='../results/POS_CCNU.h5')\n",
    "get_metrics('../results/POS_CCNU.h5')"
   ]
  },
  {
   "cell_type": "code",
   "execution_count": 12,
   "metadata": {},
   "outputs": [
    {
     "name": "stderr",
     "output_type": "stream",
     "text": [
      "100%|██████████| 54/54 [09:55<00:00, 11.02s/it]\n",
      "100%|██████████| 54/54 [00:17<00:00,  3.01it/s]\n"
     ]
    },
    {
     "data": {
      "text/plain": [
       "{'Sliding window': {'MAE': 3.595, 'RMSE': 10.14, 'R': 0.63438},\n",
       " 'Whole video': {'MAE': 1.872, 'RMSE': 6.08, 'R': 0.84456}}"
      ]
     },
     "execution_count": 12,
     "metadata": {},
     "output_type": "execute_result"
    }
   ],
   "source": [
    "eval_on_dataset(test_set_CCNU_rPPG, to_model(POS), 900, (1, 1), step=1, batch=0, save='../results/POS_CCNU_rPPG.h5')\n",
    "get_metrics('../results/POS_CCNU_rPPG.h5')"
   ]
  }
 ],
 "metadata": {
  "kernelspec": {
   "display_name": "dl",
   "language": "python",
   "name": "python3"
  },
  "language_info": {
   "codemirror_mode": {
    "name": "ipython",
    "version": 3
   },
   "file_extension": ".py",
   "mimetype": "text/x-python",
   "name": "python",
   "nbconvert_exporter": "python",
   "pygments_lexer": "ipython3",
   "version": "3.9.16"
  },
  "orig_nbformat": 4
 },
 "nbformat": 4,
 "nbformat_minor": 2
}
