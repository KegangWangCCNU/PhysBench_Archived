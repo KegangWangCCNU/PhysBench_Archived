{
 "cells": [
  {
   "cell_type": "code",
   "execution_count": 1,
   "metadata": {},
   "outputs": [],
   "source": [
    "import sys\n",
    "sys.path.append(\"..\")\n",
    "from models import *\n",
    "from utils import *\n",
    "from unsupervised_methods import *"
   ]
  },
  {
   "cell_type": "code",
   "execution_count": 2,
   "metadata": {},
   "outputs": [],
   "source": [
    "def to_model(method):\n",
    "    def model(x):\n",
    "        global x_\n",
    "        x = np.mean(x, axis=(-3, -2))\n",
    "        x_ = x\n",
    "        x = method(x)\n",
    "        x = (x-np.expand_dims(np.mean(x, axis=-1), -1))/(np.expand_dims(np.std(x, axis=-1), -1)+1e-6)\n",
    "        return x\n",
    "    return model"
   ]
  },
  {
   "cell_type": "code",
   "execution_count": 10,
   "metadata": {},
   "outputs": [
    {
     "data": {
      "text/plain": [
       "{'Sliding window': {'MAE': 6.902, 'RMSE': 15.954, 'R': 0.34053},\n",
       " 'Whole video': {'MAE': 4.289, 'RMSE': 12.331, 'R': 0.48668}}"
      ]
     },
     "execution_count": 10,
     "metadata": {},
     "output_type": "execute_result"
    }
   ],
   "source": [
    "#eval_on_dataset(test_set_CCNU, to_model(CHROM), 900, (1, 1), step=1, batch=0, save='../results/CHROM_CCNU.h5')\n",
    "get_metrics('../results/CHROM_CCNU.h5')"
   ]
  },
  {
   "cell_type": "code",
   "execution_count": 11,
   "metadata": {},
   "outputs": [
    {
     "data": {
      "text/plain": [
       "{'SDNN': {'MAE': 63.747, 'RMSE': 69.804, 'R': 0.26749}}"
      ]
     },
     "execution_count": 11,
     "metadata": {},
     "output_type": "execute_result"
    }
   ],
   "source": [
    "#eval_on_dataset(test_set_CCNU_rPPG, to_model(CHROM), 900, (1, 1), step=1, batch=0, save='../results/CHROM_CCNU_rPPG.h5')\n",
    "#get_metrics('../results/CHROM_CCNU_rPPG.h5')\n",
    "get_metrics_HRV('../results/CHROM_CCNU_rPPG.h5')"
   ]
  },
  {
   "cell_type": "code",
   "execution_count": 5,
   "metadata": {},
   "outputs": [
    {
     "name": "stderr",
     "output_type": "stream",
     "text": [
      "100%|██████████| 179/179 [49:23<00:00, 16.55s/it] \n"
     ]
    },
    {
     "data": {
      "text/plain": [
       "{'Sliding window': {'MAE': 6.05, 'RMSE': 13.33, 'R': 0.38032},\n",
       " 'Whole video': {'MAE': 4.461, 'RMSE': 11.134, 'R': 0.47463}}"
      ]
     },
     "execution_count": 5,
     "metadata": {},
     "output_type": "execute_result"
    }
   ],
   "source": [
    "eval_on_dataset(test_set_CCNU, to_model(ICA), 900, (1, 1), step=1, batch=0, save='../results/ICA_CCNU.h5')\n",
    "get_metrics('../results/ICA_CCNU.h5')"
   ]
  },
  {
   "cell_type": "code",
   "execution_count": 14,
   "metadata": {},
   "outputs": [
    {
     "data": {
      "text/plain": [
       "{'SDNN': {'MAE': 74.66, 'RMSE': 77.746, 'R': 0.4075}}"
      ]
     },
     "execution_count": 14,
     "metadata": {},
     "output_type": "execute_result"
    }
   ],
   "source": [
    "#eval_on_dataset(test_set_CCNU_rPPG, to_model(ICA), 900, (1, 1), step=1, batch=0, save='../results/ICA_CCNU_rPPG.h5')\n",
    "#get_metrics('../results/ICA_CCNU_rPPG.h5')\n",
    "get_metrics_HRV('../results/ICA_CCNU_rPPG.h5')"
   ]
  },
  {
   "cell_type": "code",
   "execution_count": 6,
   "metadata": {},
   "outputs": [
    {
     "name": "stderr",
     "output_type": "stream",
     "text": [
      "100%|██████████| 179/179 [40:45<00:00, 13.66s/it] \n"
     ]
    },
    {
     "data": {
      "text/plain": [
       "{'Sliding window': {'MAE': 4.248, 'RMSE': 12.055, 'R': 0.50096},\n",
       " 'Whole video': {'MAE': 1.706, 'RMSE': 6.455, 'R': 0.78939}}"
      ]
     },
     "execution_count": 6,
     "metadata": {},
     "output_type": "execute_result"
    }
   ],
   "source": [
    "eval_on_dataset(test_set_CCNU, to_model(POS), 900, (1, 1), step=1, batch=0, save='../results/POS_CCNU.h5')\n",
    "get_metrics('../results/POS_CCNU.h5')"
   ]
  },
  {
   "cell_type": "code",
   "execution_count": 15,
   "metadata": {},
   "outputs": [
    {
     "data": {
      "text/plain": [
       "{'SDNN': {'MAE': 70.599, 'RMSE': 75.778, 'R': 0.26652}}"
      ]
     },
     "execution_count": 15,
     "metadata": {},
     "output_type": "execute_result"
    }
   ],
   "source": [
    "#eval_on_dataset(test_set_CCNU_rPPG, to_model(POS), 900, (1, 1), step=1, batch=0, save='../results/POS_CCNU_rPPG.h5')\n",
    "#get_metrics('../results/POS_CCNU_rPPG.h5')\n",
    "get_metrics_HRV('../results/POS_CCNU_rPPG.h5')"
   ]
  },
  {
   "cell_type": "code",
   "execution_count": 18,
   "metadata": {},
   "outputs": [
    {
     "name": "stderr",
     "output_type": "stream",
     "text": [
      "x:\\Users\\wkg\\anaconda3\\envs\\dl\\lib\\site-packages\\numpy\\core\\fromnumeric.py:3432: RuntimeWarning: Mean of empty slice.\n",
      "  return _methods._mean(a, axis=axis, dtype=dtype,\n",
      "x:\\Users\\wkg\\anaconda3\\envs\\dl\\lib\\site-packages\\numpy\\core\\_methods.py:265: RuntimeWarning: Degrees of freedom <= 0 for slice\n",
      "  ret = _var(a, axis=axis, dtype=dtype, out=out, ddof=ddof,\n",
      "x:\\Users\\wkg\\anaconda3\\envs\\dl\\lib\\site-packages\\numpy\\ma\\core.py:5288: RuntimeWarning: Mean of empty slice.\n",
      "  result = super().mean(axis=axis, dtype=dtype, **kwargs)[()]\n",
      "x:\\Users\\wkg\\anaconda3\\envs\\dl\\lib\\site-packages\\numpy\\core\\fromnumeric.py:3715: RuntimeWarning: Degrees of freedom <= 0 for slice\n",
      "  return _methods._var(a, axis=axis, dtype=dtype, out=out, ddof=ddof,\n"
     ]
    },
    {
     "data": {
      "text/plain": [
       "{'SDNN': {'MAE': 40.423, 'RMSE': 56.233, 'R': 0.41754}}"
      ]
     },
     "execution_count": 18,
     "metadata": {},
     "output_type": "execute_result"
    }
   ],
   "source": [
    "#eval_on_dataset(test_set_PURE, to_model(CHROM), 900, (1, 1), step=25, batch=0, save='../results/CHROM_PURE.h5')\n",
    "#get_metrics('../results/CHROM_PURE.h5')\n",
    "get_metrics_HRV('../results/CHROM_PURE.h5')"
   ]
  },
  {
   "cell_type": "code",
   "execution_count": 4,
   "metadata": {},
   "outputs": [
    {
     "name": "stderr",
     "output_type": "stream",
     "text": [
      "x:\\Users\\wkg\\anaconda3\\envs\\dl\\lib\\site-packages\\numpy\\core\\fromnumeric.py:3432: RuntimeWarning: Mean of empty slice.\n",
      "  return _methods._mean(a, axis=axis, dtype=dtype,\n",
      "x:\\Users\\wkg\\anaconda3\\envs\\dl\\lib\\site-packages\\numpy\\core\\_methods.py:265: RuntimeWarning: Degrees of freedom <= 0 for slice\n",
      "  ret = _var(a, axis=axis, dtype=dtype, out=out, ddof=ddof,\n",
      "x:\\Users\\wkg\\anaconda3\\envs\\dl\\lib\\site-packages\\numpy\\ma\\core.py:5288: RuntimeWarning: Mean of empty slice.\n",
      "  result = super().mean(axis=axis, dtype=dtype, **kwargs)[()]\n",
      "x:\\Users\\wkg\\anaconda3\\envs\\dl\\lib\\site-packages\\numpy\\core\\fromnumeric.py:3715: RuntimeWarning: Degrees of freedom <= 0 for slice\n",
      "  return _methods._var(a, axis=axis, dtype=dtype, out=out, ddof=ddof,\n"
     ]
    },
    {
     "data": {
      "text/plain": [
       "{'SDNN': {'MAE': 67.49, 'RMSE': 76.535, 'R': 0.37635}}"
      ]
     },
     "execution_count": 4,
     "metadata": {},
     "output_type": "execute_result"
    }
   ],
   "source": [
    "#eval_on_dataset(test_set_PURE, to_model(ICA), 900, (1, 1), step=25, batch=0, save='../results/ICA_PURE.h5')\n",
    "#get_metrics('../results/ICA_PURE.h5')\n",
    "get_metrics_HRV('../results/ICA_PURE.h5')"
   ]
  },
  {
   "cell_type": "code",
   "execution_count": 4,
   "metadata": {},
   "outputs": [
    {
     "name": "stderr",
     "output_type": "stream",
     "text": [
      "100%|██████████| 59/59 [00:18<00:00,  3.12it/s]\n"
     ]
    },
    {
     "data": {
      "text/plain": [
       "{'Sliding window': {'MAE': 0.494, 'RMSE': 1.304, 'R': 0.99843},\n",
       " 'Whole video': {'MAE': 0.393, 'RMSE': 0.662, 'R': 0.99966}}"
      ]
     },
     "execution_count": 4,
     "metadata": {},
     "output_type": "execute_result"
    }
   ],
   "source": [
    "eval_on_dataset(test_set_PURE, to_model(POS), 900, (1, 1), step=25, batch=0, save='../results/POS_PURE.h5')\n",
    "get_metrics('../results/POS_PURE.h5')\n",
    "#get_metrics_HRV('../results/POS_PURE.h5')"
   ]
  },
  {
   "cell_type": "code",
   "execution_count": 36,
   "metadata": {},
   "outputs": [
    {
     "data": {
      "text/plain": [
       "{'SDNN': {'MAE': 23.692, 'RMSE': 28.641, 'R': 0.67257}}"
      ]
     },
     "execution_count": 36,
     "metadata": {},
     "output_type": "execute_result"
    }
   ],
   "source": [
    "#eval_on_dataset(test_set_UBFC_rPPG2, to_model(CHROM), 900, (1, 1), step=25, batch=0, save='../results/CHROM_UBFC.h5')\n",
    "#get_metrics('../results/CHROM_UBFC.h5')\n",
    "get_metrics_HRV('../results/CHROM_UBFC.h5')"
   ]
  },
  {
   "cell_type": "code",
   "execution_count": 6,
   "metadata": {},
   "outputs": [
    {
     "name": "stderr",
     "output_type": "stream",
     "text": [
      "100%|██████████| 660/660 [06:48<00:00,  1.62it/s]\n"
     ]
    },
    {
     "data": {
      "text/plain": [
       "{'Sliding window': {'MAE': 13.104, 'RMSE': 19.417, 'R': 0.14679},\n",
       " 'Whole video': {'MAE': 12.205, 'RMSE': 19.183, 'R': 0.15116}}"
      ]
     },
     "execution_count": 6,
     "metadata": {},
     "output_type": "execute_result"
    }
   ],
   "source": [
    "#eval_on_dataset(test_set_MMPD, to_model(CHROM), 900, (1, 1), step=25, batch=0, save='../results/CHROM_MMPD.h5')\n",
    "get_metrics('../results/CHROM_MMPD.h5', motion='Stationary', skin_color='3', light=['LED-high', 'LED-low', 'Incandescent',])"
   ]
  },
  {
   "cell_type": "code",
   "execution_count": 37,
   "metadata": {},
   "outputs": [
    {
     "data": {
      "text/plain": [
       "{'SDNN': {'MAE': 33.28, 'RMSE': 42.009, 'R': 0.60379}}"
      ]
     },
     "execution_count": 37,
     "metadata": {},
     "output_type": "execute_result"
    }
   ],
   "source": [
    "#eval_on_dataset(test_set_UBFC_rPPG2, to_model(ICA), 900, (1, 1), step=25, batch=0, save='../results/ICA_UBFC.h5')\n",
    "#get_metrics('../results/ICA_UBFC.h5')\n",
    "get_metrics_HRV('../results/ICA_UBFC.h5')"
   ]
  },
  {
   "cell_type": "code",
   "execution_count": 7,
   "metadata": {},
   "outputs": [
    {
     "name": "stderr",
     "output_type": "stream",
     "text": [
      "100%|██████████| 660/660 [03:43<00:00,  2.96it/s]\n"
     ]
    },
    {
     "data": {
      "text/plain": [
       "{'Sliding window': {'MAE': 5.489, 'RMSE': 12.297, 'R': 0.44022},\n",
       " 'Whole video': {'MAE': 4.083, 'RMSE': 9.448, 'R': 0.64161}}"
      ]
     },
     "execution_count": 7,
     "metadata": {},
     "output_type": "execute_result"
    }
   ],
   "source": [
    "eval_on_dataset(test_set_MMPD, to_model(ICA), 900, (1, 1), step=25, batch=0, save='../results/ICA_MMPD.h5')\n",
    "get_metrics('../results/ICA_MMPD.h5', motion='Stationary', skin_color='3', light=['LED-high', 'LED-low', 'Incandescent',])"
   ]
  },
  {
   "cell_type": "code",
   "execution_count": 40,
   "metadata": {},
   "outputs": [
    {
     "data": {
      "text/plain": [
       "{'SDNN': {'MAE': 30.541, 'RMSE': 37.564, 'R': 0.51312}}"
      ]
     },
     "execution_count": 40,
     "metadata": {},
     "output_type": "execute_result"
    }
   ],
   "source": [
    "#eval_on_dataset(test_set_UBFC_rPPG2, to_model(POS), 900, (1, 1), step=25, batch=0, save='../results/POS_UBFC.h5')\n",
    "#get_metrics('../results/POS_UBFC.h5')\n",
    "get_metrics_HRV('../results/POS_UBFC.h5')"
   ]
  },
  {
   "cell_type": "code",
   "execution_count": 8,
   "metadata": {},
   "outputs": [
    {
     "name": "stderr",
     "output_type": "stream",
     "text": [
      "100%|██████████| 660/660 [03:27<00:00,  3.19it/s]\n"
     ]
    },
    {
     "data": {
      "text/plain": [
       "{'Sliding window': {'MAE': 6.487, 'RMSE': 13.627, 'R': 0.26173},\n",
       " 'Whole video': {'MAE': 4.299, 'RMSE': 10.799, 'R': 0.42605}}"
      ]
     },
     "execution_count": 8,
     "metadata": {},
     "output_type": "execute_result"
    }
   ],
   "source": [
    "eval_on_dataset(test_set_MMPD, to_model(POS), 900, (1, 1), step=25, batch=0, save='../results/POS_MMPD.h5')\n",
    "get_metrics('../results/POS_MMPD.h5', motion='Stationary', skin_color='3', light=['LED-high', 'LED-low', 'Incandescent',])"
   ]
  },
  {
   "cell_type": "code",
   "execution_count": 3,
   "metadata": {},
   "outputs": [
    {
     "name": "stderr",
     "output_type": "stream",
     "text": [
      "100%|██████████| 164/164 [01:59<00:00,  1.37it/s]\n"
     ]
    },
    {
     "data": {
      "text/plain": [
       "{'Sliding window': {'MAE': 20.803, 'RMSE': 27.999, 'R': -0.15013},\n",
       " 'Whole video': {'MAE': 22.313, 'RMSE': 29.911, 'R': -0.32224}}"
      ]
     },
     "execution_count": 3,
     "metadata": {},
     "output_type": "execute_result"
    }
   ],
   "source": [
    "eval_on_dataset(test_set_COHFACE, to_model(POS), 900, (1, 1), step=25, batch=0, save='../results/POS_COHFACE.h5')\n",
    "get_metrics('../results/POS_COHFACE.h5',)"
   ]
  },
  {
   "cell_type": "code",
   "execution_count": 4,
   "metadata": {},
   "outputs": [
    {
     "name": "stderr",
     "output_type": "stream",
     "text": [
      "100%|██████████| 164/164 [00:01<00:00, 98.93it/s] \n"
     ]
    },
    {
     "data": {
      "text/plain": [
       "{'Sliding window': {'MAE': 25.426, 'RMSE': 30.871, 'R': -0.20367},\n",
       " 'Whole video': {'MAE': 27.402, 'RMSE': 32.387, 'R': -0.32084}}"
      ]
     },
     "execution_count": 4,
     "metadata": {},
     "output_type": "execute_result"
    }
   ],
   "source": [
    "eval_on_dataset(test_set_COHFACE, to_model(CHROM), 900, (1, 1), step=25, batch=0, save='../results/CHROM_COHFACE.h5')\n",
    "get_metrics('../results/CHROM_COHFACE.h5',)"
   ]
  },
  {
   "cell_type": "code",
   "execution_count": 5,
   "metadata": {},
   "outputs": [
    {
     "name": "stderr",
     "output_type": "stream",
     "text": [
      "100%|██████████| 164/164 [00:47<00:00,  3.42it/s]\n"
     ]
    },
    {
     "data": {
      "text/plain": [
       "{'Sliding window': {'MAE': 8.636, 'RMSE': 16.821, 'R': 0.22724},\n",
       " 'Whole video': {'MAE': 7.905, 'RMSE': 16.067, 'R': 0.28228}}"
      ]
     },
     "execution_count": 5,
     "metadata": {},
     "output_type": "execute_result"
    }
   ],
   "source": [
    "eval_on_dataset(test_set_COHFACE, to_model(ICA), 900, (1, 1), step=25, batch=0, save='../results/ICA_COHFACE.h5')\n",
    "get_metrics('../results/ICA_COHFACE.h5',)"
   ]
  }
 ],
 "metadata": {
  "kernelspec": {
   "display_name": "dl",
   "language": "python",
   "name": "python3"
  },
  "language_info": {
   "codemirror_mode": {
    "name": "ipython",
    "version": 3
   },
   "file_extension": ".py",
   "mimetype": "text/x-python",
   "name": "python",
   "nbconvert_exporter": "python",
   "pygments_lexer": "ipython3",
   "version": "3.9.16"
  },
  "orig_nbformat": 4
 },
 "nbformat": 4,
 "nbformat_minor": 2
}
