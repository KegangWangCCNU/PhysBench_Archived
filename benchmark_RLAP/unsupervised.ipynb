{
 "cells": [
  {
   "cell_type": "code",
   "execution_count": 3,
   "metadata": {},
   "outputs": [],
   "source": [
    "import sys\n",
    "sys.path.append(\"..\")\n",
    "from models import *\n",
    "from utils import *\n",
    "from unsupervised_methods import *"
   ]
  },
  {
   "cell_type": "code",
   "execution_count": 19,
   "metadata": {},
   "outputs": [],
   "source": [
    "def to_model(method):\n",
    "    ln = layers.LayerNormalization(axis=0)\n",
    "    def model(x):\n",
    "        x = np.mean(x, axis=(-3, -2))\n",
    "        x = method(ln(x).numpy()+x.mean(axis=0))\n",
    "        x = (x-np.expand_dims(np.mean(x, axis=-1), -1))/(np.expand_dims(np.std(x, axis=-1), -1)+1e-6)\n",
    "        #print(x)\n",
    "        return x\n",
    "    return model"
   ]
  },
  {
   "cell_type": "code",
   "execution_count": 15,
   "metadata": {},
   "outputs": [
    {
     "name": "stderr",
     "output_type": "stream",
     "text": [
      "100%|██████████| 179/179 [00:33<00:00,  5.30it/s]\n"
     ]
    },
    {
     "data": {
      "text/plain": [
       "{'Sliding window': {'MAE': 6.901, 'RMSE': 15.957, 'R': 0.34075},\n",
       " 'Whole video': {'MAE': 4.28, 'RMSE': 12.315, 'R': 0.48781}}"
      ]
     },
     "execution_count": 15,
     "metadata": {},
     "output_type": "execute_result"
    }
   ],
   "source": [
    "eval_on_dataset(test_set_CCNU, to_model(CHROM), 900, (1, 1), step=1, batch=0, save='../results/CHROM_CCNU.h5')\n",
    "get_metrics('../results/CHROM_CCNU.h5')"
   ]
  },
  {
   "cell_type": "code",
   "execution_count": 20,
   "metadata": {},
   "outputs": [
    {
     "name": "stderr",
     "output_type": "stream",
     "text": [
      "100%|██████████| 54/54 [00:06<00:00,  7.89it/s]\n"
     ]
    },
    {
     "data": {
      "text/plain": [
       "{'Sliding window': {'MAE': 5.874, 'RMSE': 14.16, 'R': 0.44993},\n",
       " 'Whole video': {'MAE': 2.649, 'RMSE': 8.2, 'R': 0.74057}}"
      ]
     },
     "execution_count": 20,
     "metadata": {},
     "output_type": "execute_result"
    }
   ],
   "source": [
    "eval_on_dataset(test_set_CCNU_rPPG, to_model(CHROM), 900, (1, 1), step=1, batch=0, save='../results/CHROM_CCNU_rPPG.h5')\n",
    "get_metrics('../results/CHROM_CCNU_rPPG.h5')"
   ]
  },
  {
   "cell_type": "code",
   "execution_count": 5,
   "metadata": {},
   "outputs": [
    {
     "name": "stderr",
     "output_type": "stream",
     "text": [
      "100%|██████████| 179/179 [49:23<00:00, 16.55s/it] \n"
     ]
    },
    {
     "data": {
      "text/plain": [
       "{'Sliding window': {'MAE': 6.05, 'RMSE': 13.33, 'R': 0.38032},\n",
       " 'Whole video': {'MAE': 4.461, 'RMSE': 11.134, 'R': 0.47463}}"
      ]
     },
     "execution_count": 5,
     "metadata": {},
     "output_type": "execute_result"
    }
   ],
   "source": [
    "eval_on_dataset(test_set_CCNU, to_model(ICA), 900, (1, 1), step=1, batch=0, save='../results/ICA_CCNU.h5')\n",
    "get_metrics('../results/ICA_CCNU.h5')"
   ]
  },
  {
   "cell_type": "code",
   "execution_count": 16,
   "metadata": {},
   "outputs": [
    {
     "name": "stderr",
     "output_type": "stream",
     "text": [
      "100%|██████████| 54/54 [09:58<00:00, 11.08s/it]\n"
     ]
    },
    {
     "data": {
      "text/plain": [
       "{'Sliding window': {'MAE': 4.558, 'RMSE': 9.911, 'R': 0.5697},\n",
       " 'Whole video': {'MAE': 2.564, 'RMSE': 6.213, 'R': 0.82151}}"
      ]
     },
     "execution_count": 16,
     "metadata": {},
     "output_type": "execute_result"
    }
   ],
   "source": [
    "eval_on_dataset(test_set_CCNU_rPPG, to_model(ICA), 900, (1, 1), step=1, batch=0, save='../results/ICA_CCNU_rPPG.h5')\n",
    "get_metrics('../results/ICA_CCNU_rPPG.h5')"
   ]
  },
  {
   "cell_type": "code",
   "execution_count": 6,
   "metadata": {},
   "outputs": [
    {
     "name": "stderr",
     "output_type": "stream",
     "text": [
      "100%|██████████| 179/179 [40:45<00:00, 13.66s/it] \n"
     ]
    },
    {
     "data": {
      "text/plain": [
       "{'Sliding window': {'MAE': 4.248, 'RMSE': 12.055, 'R': 0.50096},\n",
       " 'Whole video': {'MAE': 1.706, 'RMSE': 6.455, 'R': 0.78939}}"
      ]
     },
     "execution_count": 6,
     "metadata": {},
     "output_type": "execute_result"
    }
   ],
   "source": [
    "eval_on_dataset(test_set_CCNU, to_model(POS), 900, (1, 1), step=1, batch=0, save='../results/POS_CCNU.h5')\n",
    "get_metrics('../results/POS_CCNU.h5')"
   ]
  },
  {
   "cell_type": "code",
   "execution_count": 12,
   "metadata": {},
   "outputs": [
    {
     "name": "stderr",
     "output_type": "stream",
     "text": [
      "100%|██████████| 54/54 [09:55<00:00, 11.02s/it]\n",
      "100%|██████████| 54/54 [00:17<00:00,  3.01it/s]\n"
     ]
    },
    {
     "data": {
      "text/plain": [
       "{'Sliding window': {'MAE': 3.595, 'RMSE': 10.14, 'R': 0.63438},\n",
       " 'Whole video': {'MAE': 1.872, 'RMSE': 6.08, 'R': 0.84456}}"
      ]
     },
     "execution_count": 12,
     "metadata": {},
     "output_type": "execute_result"
    }
   ],
   "source": [
    "eval_on_dataset(test_set_CCNU_rPPG, to_model(POS), 900, (1, 1), step=1, batch=0, save='../results/POS_CCNU_rPPG.h5')\n",
    "get_metrics('../results/POS_CCNU_rPPG.h5')"
   ]
  }
 ],
 "metadata": {
  "kernelspec": {
   "display_name": "dl",
   "language": "python",
   "name": "python3"
  },
  "language_info": {
   "codemirror_mode": {
    "name": "ipython",
    "version": 3
   },
   "file_extension": ".py",
   "mimetype": "text/x-python",
   "name": "python",
   "nbconvert_exporter": "python",
   "pygments_lexer": "ipython3",
   "version": "3.9.16"
  },
  "orig_nbformat": 4
 },
 "nbformat": 4,
 "nbformat_minor": 2
}
