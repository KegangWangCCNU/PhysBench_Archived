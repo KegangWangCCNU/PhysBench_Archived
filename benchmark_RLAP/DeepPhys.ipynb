{
 "cells": [
  {
   "cell_type": "code",
   "execution_count": 10,
   "metadata": {},
   "outputs": [
    {
     "name": "stdout",
     "output_type": "stream",
     "text": [
      "The autoreload extension is already loaded. To reload it, use:\n",
      "  %reload_ext autoreload\n"
     ]
    }
   ],
   "source": [
    "%load_ext autoreload\n",
    "%autoreload 2\n",
    "import sys\n",
    "sys.path.append(\"..\")\n",
    "from utils import *\n",
    "from models import *"
   ]
  },
  {
   "cell_type": "code",
   "execution_count": 11,
   "metadata": {},
   "outputs": [],
   "source": [
    "train_tape = \"Z:/rppg/ccnu_datatape_160x36x36_train.h5\"\n",
    "valid_tape = \"Z:/rppg/ccnu_datatape_160x36x36_valid.h5\"\n",
    "\n",
    "train =  load_datatape(train_tape, use_normalized_bvp=True)\n",
    "valid = load_datatape(valid_tape, use_normalized_bvp=False)\n",
    "\n",
    "def to_tf_deep_phys(datatape, dtype=tf.float16):\n",
    "    def _():\n",
    "        for i, j in datatape:\n",
    "            j = tf.concat([j[1:]-j[:-1], [0]], axis=0)\n",
    "            #yield i, (j-tf.reduce_mean(j, axis=0))/(tf.math.reduce_std(j, axis=0)+1e-6)\n",
    "            yield i, j\n",
    "    return tf.data.Dataset.from_generator(lambda :_(), output_types=(dtype, dtype), output_shapes=(datatape.shape, datatape.shape[:1]))\n",
    "\n",
    "#train, valid = to_tf_deep_phys(train).cache(f'{tmp}/deepphys'), to_tf_deep_phys(valid).cache(f'{tmp}/deepphys')\n",
    "train, valid = to_tf_deep_phys(train), to_tf_deep_phys(valid)"
   ]
  },
  {
   "cell_type": "code",
   "execution_count": 12,
   "metadata": {},
   "outputs": [
    {
     "name": "stdout",
     "output_type": "stream",
     "text": [
      "Flops per frame:52158718\n",
      "Model: \"deep_phys_end_to_end_1\"\n",
      "_________________________________________________________________\n",
      "Layer (type)                 Output Shape              Param #   \n",
      "=================================================================\n",
      "model_1 (Functional)         (None, 1)                 532899    \n",
      "=================================================================\n",
      "Total params: 532,899\n",
      "Trainable params: 532,899\n",
      "Non-trainable params: 0\n",
      "_________________________________________________________________\n"
     ]
    }
   ],
   "source": [
    "deepphys = DeepPhys_end_to_end()\n",
    "deepphys.compile(optimizer='Nadam', loss='mse')\n",
    "deepphys.build(input_shape=(None, 36, 36, 3))\n",
    "print(f'Flops per frame:{get_flops(deepphys, input_sig=[tf.TensorSpec([160, 36, 36, 3])])/160:.0f}')\n",
    "deepphys.summary()"
   ]
  },
  {
   "cell_type": "code",
   "execution_count": null,
   "metadata": {},
   "outputs": [],
   "source": [
    "deepphys.fit(train.shuffle(2000), validation_data=valid, epochs=10, callbacks=[keras.callbacks.ModelCheckpoint('../weights/DeepPhys_CCNU.h5', monitor='val_loss', verbose=1, save_best_only=True, mode='min', save_weights_only=True)])\n",
    "deepphys.load_weights('../weights/DeepPhys_CCNU.h5')"
   ]
  },
  {
   "cell_type": "code",
   "execution_count": 13,
   "metadata": {},
   "outputs": [],
   "source": [
    "deepphys.load_weights('../weights/DeepPhys_CCNU.h5')"
   ]
  },
  {
   "cell_type": "code",
   "execution_count": 14,
   "metadata": {},
   "outputs": [],
   "source": [
    "def cumsum(result, overwrite=True):\n",
    "    with h5py.File(result, 'a') as f:\n",
    "        for i, j in f.items():\n",
    "            if 'diff' not in j.keys():\n",
    "                j.create_dataset('diff', data=j['predict'])\n",
    "                j['predict'][...] = detrend(np.cumsum(j['diff']))\n",
    "            elif overwrite:\n",
    "                j['predict'][...] = detrend(np.cumsum(j['diff']))"
   ]
  },
  {
   "cell_type": "code",
   "execution_count": 15,
   "metadata": {},
   "outputs": [
    {
     "data": {
      "text/plain": [
       "{'Sliding window': {'MAE': 1.521, 'RMSE': 4.401, 'R': 0.9062},\n",
       " 'Whole video': {'MAE': 0.951, 'RMSE': 2.926, 'R': 0.95207}}"
      ]
     },
     "execution_count": 15,
     "metadata": {},
     "output_type": "execute_result"
    }
   ],
   "source": [
    "eval_on_dataset(test_set_CCNU, deepphys, 160, (36, 36), step=1, batch=0, save='../results/DeepPhys_CCNU_CCNU.h5', sample=cv2.INTER_CUBIC)\n",
    "cumsum('../results/DeepPhys_CCNU_CCNU.h5')\n",
    "get_metrics('../results/DeepPhys_CCNU_CCNU.h5')"
   ]
  },
  {
   "cell_type": "code",
   "execution_count": 16,
   "metadata": {},
   "outputs": [
    {
     "data": {
      "text/plain": [
       "{'Sliding window': {'MAE': 1.757, 'RMSE': 4.873, 'R': 0.8768},\n",
       " 'Whole video': {'MAE': 0.845, 'RMSE': 1.672, 'R': 0.98382}}"
      ]
     },
     "execution_count": 16,
     "metadata": {},
     "output_type": "execute_result"
    }
   ],
   "source": [
    "eval_on_dataset(test_set_CCNU_rPPG, deepphys, 160, (36, 36), step=1, batch=0, save='../results/DeepPhys_CCNU_CCNU_rPPG.h5', sample=cv2.INTER_CUBIC)\n",
    "cumsum('../results/DeepPhys_CCNU_CCNU_rPPG.h5')\n",
    "get_metrics('../results/DeepPhys_CCNU_CCNU_rPPG.h5')"
   ]
  },
  {
   "cell_type": "code",
   "execution_count": 17,
   "metadata": {},
   "outputs": [
    {
     "data": {
      "text/plain": [
       "{'Sliding window': {'MAE': 5.711, 'RMSE': 14.079, 'R': 0.81443},\n",
       " 'Whole video': {'MAE': 2.799, 'RMSE': 8.312, 'R': 0.93726}}"
      ]
     },
     "execution_count": 17,
     "metadata": {},
     "output_type": "execute_result"
    }
   ],
   "source": [
    "eval_on_dataset(test_set_PURE, deepphys, 160, (36, 36), step=1, batch=0, save='../results/DeepPhys_CCNU_PURE.h5', sample=cv2.INTER_CUBIC)\n",
    "cumsum('../results/DeepPhys_CCNU_PURE.h5')\n",
    "get_metrics('../results/DeepPhys_CCNU_PURE.h5')"
   ]
  },
  {
   "cell_type": "code",
   "execution_count": 18,
   "metadata": {},
   "outputs": [
    {
     "data": {
      "text/plain": [
       "{'Sliding window': {'MAE': 1.792, 'RMSE': 4.212, 'R': 0.97035},\n",
       " 'Whole video': {'MAE': 1.06, 'RMSE': 1.505, 'R': 0.99666}}"
      ]
     },
     "execution_count": 18,
     "metadata": {},
     "output_type": "execute_result"
    }
   ],
   "source": [
    "eval_on_dataset(test_set_UBFC_rPPG2, deepphys, 160, (36, 36), step=1, batch=0, save='../results/DeepPhys_CCNU_UBFC.h5', sample=cv2.INTER_CUBIC)\n",
    "cumsum('../results/DeepPhys_CCNU_UBFC.h5')\n",
    "get_metrics('../results/DeepPhys_CCNU_UBFC.h5')"
   ]
  }
 ],
 "metadata": {
  "kernelspec": {
   "display_name": "dl",
   "language": "python",
   "name": "python3"
  },
  "language_info": {
   "codemirror_mode": {
    "name": "ipython",
    "version": 3
   },
   "file_extension": ".py",
   "mimetype": "text/x-python",
   "name": "python",
   "nbconvert_exporter": "python",
   "pygments_lexer": "ipython3",
   "version": "3.9.16"
  },
  "orig_nbformat": 4
 },
 "nbformat": 4,
 "nbformat_minor": 2
}
