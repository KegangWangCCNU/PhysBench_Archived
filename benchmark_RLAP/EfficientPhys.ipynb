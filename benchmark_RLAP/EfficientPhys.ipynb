{
 "cells": [
  {
   "cell_type": "code",
   "execution_count": 56,
   "metadata": {},
   "outputs": [
    {
     "name": "stdout",
     "output_type": "stream",
     "text": [
      "The autoreload extension is already loaded. To reload it, use:\n",
      "  %reload_ext autoreload\n"
     ]
    }
   ],
   "source": [
    "%load_ext autoreload\n",
    "%autoreload 2\n",
    "import sys\n",
    "sys.path.append(\"..\")\n",
    "from utils import *\n",
    "from models import *"
   ]
  },
  {
   "cell_type": "code",
   "execution_count": 40,
   "metadata": {},
   "outputs": [],
   "source": [
    "train_tape = \"Z:/rppg/ccnu_datatape_32x72x72_train.h5\"\n",
    "valid_tape = \"Z:/rppg/ccnu_datatape_32x72x72_valid.h5\"\n",
    "\n",
    "train =  load_datatape(train_tape, use_normalized_bvp=True)\n",
    "valid = load_datatape(valid_tape, use_normalized_bvp=False)\n",
    "\n",
    "def to_tf_ep(datatape, dtype=tf.float16):\n",
    "    def _():\n",
    "        for i, j in datatape:\n",
    "            j = tf.concat([j[1:]-j[:-1], [0]], axis=0)\n",
    "            yield i, j\n",
    "    return tf.data.Dataset.from_generator(lambda :_(), output_types=(dtype, dtype), output_shapes=(datatape.shape, datatape.shape[:1]))\n",
    "\n",
    "#train, valid = to_tf_ep(train).cache(f'{tmp}/ep'), to_tf_ep(valid).cache(f'{tmp}/ep')\n",
    "train, valid = to_tf_ep(train), to_tf_ep(valid)"
   ]
  },
  {
   "cell_type": "code",
   "execution_count": 39,
   "metadata": {},
   "outputs": [
    {
     "name": "stdout",
     "output_type": "stream",
     "text": [
      "Flops per frame:230341239\n",
      "Model: \"ep_31\"\n",
      "_________________________________________________________________\n",
      "Layer (type)                 Output Shape              Param #   \n",
      "=================================================================\n",
      "tsm_31 (TSM)                 multiple                  0         \n",
      "_________________________________________________________________\n",
      "conv2d_186 (Conv2D)          multiple                  896       \n",
      "_________________________________________________________________\n",
      "conv2d_187 (Conv2D)          multiple                  9248      \n",
      "_________________________________________________________________\n",
      "conv2d_188 (Conv2D)          multiple                  18496     \n",
      "_________________________________________________________________\n",
      "conv2d_189 (Conv2D)          multiple                  36928     \n",
      "_________________________________________________________________\n",
      "conv2d_190 (Conv2D)          multiple                  33        \n",
      "_________________________________________________________________\n",
      "attention_mask_31 (Attention multiple                  0         \n",
      "_________________________________________________________________\n",
      "conv2d_191 (Conv2D)          multiple                  65        \n",
      "_________________________________________________________________\n",
      "average_pooling2d_31 (Averag multiple                  0         \n",
      "_________________________________________________________________\n",
      "dropout_62 (Dropout)         multiple                  0         \n",
      "_________________________________________________________________\n",
      "dropout_63 (Dropout)         multiple                  0         \n",
      "_________________________________________________________________\n",
      "dense_62 (Dense)             multiple                  2097280   \n",
      "_________________________________________________________________\n",
      "dense_63 (Dense)             multiple                  129       \n",
      "_________________________________________________________________\n",
      "batch_normalization_31 (Batc multiple                  12        \n",
      "_________________________________________________________________\n",
      "flatten_3 (Flatten)          multiple                  0         \n",
      "=================================================================\n",
      "Total params: 2,163,087\n",
      "Trainable params: 2,163,081\n",
      "Non-trainable params: 6\n",
      "_________________________________________________________________\n"
     ]
    }
   ],
   "source": [
    "ep = EP(n=32)\n",
    "ep.compile(optimizer='Nadam', loss='mse')\n",
    "ep.build(input_shape=(None, 72, 72, 3))\n",
    "print(f'Flops per frame:{get_flops(ep, input_sig=[tf.TensorSpec([32, 72, 72, 3])])/32:.0f}')\n",
    "ep.summary()"
   ]
  },
  {
   "cell_type": "code",
   "execution_count": null,
   "metadata": {},
   "outputs": [],
   "source": [
    "ep.fit(train.shuffle(2000), validation_data=valid, epochs=10, callbacks=[keras.callbacks.ModelCheckpoint('../weights/EfficientPhys_CCNU.h5', monitor='val_loss', verbose=1, save_best_only=True, mode='min', save_weights_only=True)])\n",
    "ep.load_weights('../weights/EfficientPhys_CCNU.h5')"
   ]
  },
  {
   "cell_type": "code",
   "execution_count": 42,
   "metadata": {},
   "outputs": [],
   "source": [
    "ep.load_weights('../weights/EfficientPhys_CCNU.h5')"
   ]
  },
  {
   "cell_type": "code",
   "execution_count": 47,
   "metadata": {},
   "outputs": [
    {
     "name": "stderr",
     "output_type": "stream",
     "text": [
      "100%|██████████| 179/179 [11:50<00:00,  3.97s/it]\n"
     ]
    },
    {
     "data": {
      "text/plain": [
       "{'Sliding window': {'MAE': 1.097, 'RMSE': 3.963, 'R': 0.92474},\n",
       " 'Whole video': {'MAE': 0.479, 'RMSE': 0.796, 'R': 0.99644}}"
      ]
     },
     "execution_count": 47,
     "metadata": {},
     "output_type": "execute_result"
    }
   ],
   "source": [
    "eval_on_dataset(test_set_CCNU, ep, 32, (72, 72), step=1, batch=0, save='../results/EfficientPhys_CCNU_CCNU.h5', sample=cv2.INTER_CUBIC, cumsum=True)\n",
    "get_metrics('../results/EfficientPhys_CCNU_CCNU.h5')"
   ]
  },
  {
   "cell_type": "code",
   "execution_count": 48,
   "metadata": {},
   "outputs": [
    {
     "data": {
      "text/plain": [
       "{'SDNN': {'MAE': 37.548, 'RMSE': 48.659, 'R': 0.45769}}"
      ]
     },
     "execution_count": 48,
     "metadata": {},
     "output_type": "execute_result"
    }
   ],
   "source": [
    "get_metrics_HRV('../results/EfficientPhys_CCNU_CCNU.h5')"
   ]
  },
  {
   "cell_type": "code",
   "execution_count": 49,
   "metadata": {},
   "outputs": [
    {
     "name": "stderr",
     "output_type": "stream",
     "text": [
      "100%|██████████| 54/54 [01:08<00:00,  1.27s/it]\n"
     ]
    },
    {
     "data": {
      "text/plain": [
       "{'Sliding window': {'MAE': 1.164, 'RMSE': 4.489, 'R': 0.89927},\n",
       " 'Whole video': {'MAE': 0.473, 'RMSE': 0.786, 'R': 0.99639}}"
      ]
     },
     "execution_count": 49,
     "metadata": {},
     "output_type": "execute_result"
    }
   ],
   "source": [
    "eval_on_dataset(test_set_CCNU_rPPG, ep, 32, (72, 72), step=1, batch=0, save='../results/EfficientPhys_CCNU_CCNU_rPPG.h5', sample=cv2.INTER_CUBIC, cumsum=True)\n",
    "get_metrics('../results/EfficientPhys_CCNU_CCNU_rPPG.h5')"
   ]
  },
  {
   "cell_type": "code",
   "execution_count": 50,
   "metadata": {},
   "outputs": [
    {
     "data": {
      "text/plain": [
       "{'SDNN': {'MAE': 47.662, 'RMSE': 56.921, 'R': 0.33198}}"
      ]
     },
     "execution_count": 50,
     "metadata": {},
     "output_type": "execute_result"
    }
   ],
   "source": [
    "get_metrics_HRV('../results/EfficientPhys_CCNU_CCNU_rPPG.h5')"
   ]
  },
  {
   "cell_type": "code",
   "execution_count": 57,
   "metadata": {},
   "outputs": [
    {
     "name": "stderr",
     "output_type": "stream",
     "text": [
      "100%|██████████| 59/59 [00:43<00:00,  1.34it/s]\n"
     ]
    },
    {
     "data": {
      "text/plain": [
       "{'Sliding window': {'MAE': 3.155, 'RMSE': 10.898, 'R': 0.89357},\n",
       " 'Whole video': {'MAE': 1.39, 'RMSE': 5.98, 'R': 0.96767}}"
      ]
     },
     "execution_count": 57,
     "metadata": {},
     "output_type": "execute_result"
    }
   ],
   "source": [
    "eval_on_dataset(test_set_PURE, ep, 32, (72, 72), step=1, batch=0, save='../results/EfficientPhys_CCNU_PURE.h5', sample=cv2.INTER_CUBIC, cumsum=True)\n",
    "get_metrics('../results/EfficientPhys_CCNU_PURE.h5')"
   ]
  },
  {
   "cell_type": "code",
   "execution_count": 52,
   "metadata": {},
   "outputs": [
    {
     "name": "stderr",
     "output_type": "stream",
     "text": [
      "x:\\Users\\wkg\\anaconda3\\envs\\dl\\lib\\site-packages\\numpy\\ma\\core.py:5288: RuntimeWarning: Mean of empty slice.\n",
      "  result = super().mean(axis=axis, dtype=dtype, **kwargs)[()]\n",
      "x:\\Users\\wkg\\anaconda3\\envs\\dl\\lib\\site-packages\\numpy\\core\\fromnumeric.py:3715: RuntimeWarning: Degrees of freedom <= 0 for slice\n",
      "  return _methods._var(a, axis=axis, dtype=dtype, out=out, ddof=ddof,\n",
      "x:\\Users\\wkg\\anaconda3\\envs\\dl\\lib\\site-packages\\numpy\\core\\fromnumeric.py:3432: RuntimeWarning: Mean of empty slice.\n",
      "  return _methods._mean(a, axis=axis, dtype=dtype,\n",
      "x:\\Users\\wkg\\anaconda3\\envs\\dl\\lib\\site-packages\\numpy\\core\\_methods.py:265: RuntimeWarning: Degrees of freedom <= 0 for slice\n",
      "  ret = _var(a, axis=axis, dtype=dtype, out=out, ddof=ddof,\n"
     ]
    },
    {
     "data": {
      "text/plain": [
       "{'SDNN': {'MAE': 31.862, 'RMSE': 49.01, 'R': 0.38763}}"
      ]
     },
     "execution_count": 52,
     "metadata": {},
     "output_type": "execute_result"
    }
   ],
   "source": [
    "get_metrics_HRV('../results/EfficientPhys_CCNU_PURE.h5')"
   ]
  },
  {
   "cell_type": "code",
   "execution_count": 53,
   "metadata": {},
   "outputs": [
    {
     "name": "stderr",
     "output_type": "stream",
     "text": [
      "100%|██████████| 42/42 [00:29<00:00,  1.40it/s]\n"
     ]
    },
    {
     "data": {
      "text/plain": [
       "{'Sliding window': {'MAE': 1.466, 'RMSE': 3.84, 'R': 0.97522},\n",
       " 'Whole video': {'MAE': 1.077, 'RMSE': 1.465, 'R': 0.99677}}"
      ]
     },
     "execution_count": 53,
     "metadata": {},
     "output_type": "execute_result"
    }
   ],
   "source": [
    "eval_on_dataset(test_set_UBFC_rPPG2, ep, 32, (72, 72), step=1, batch=0, save='../results/EfficientPhys_CCNU_UBFC.h5', sample=cv2.INTER_CUBIC, cumsum=True)\n",
    "get_metrics('../results/EfficientPhys_CCNU_UBFC.h5')"
   ]
  },
  {
   "cell_type": "code",
   "execution_count": 54,
   "metadata": {},
   "outputs": [
    {
     "data": {
      "text/plain": [
       "{'SDNN': {'MAE': 9.762, 'RMSE': 15.048, 'R': 0.82734}}"
      ]
     },
     "execution_count": 54,
     "metadata": {},
     "output_type": "execute_result"
    }
   ],
   "source": [
    "get_metrics_HRV('../results/EfficientPhys_CCNU_UBFC.h5')"
   ]
  }
 ],
 "metadata": {
  "kernelspec": {
   "display_name": "dl",
   "language": "python",
   "name": "python3"
  },
  "language_info": {
   "codemirror_mode": {
    "name": "ipython",
    "version": 3
   },
   "file_extension": ".py",
   "mimetype": "text/x-python",
   "name": "python",
   "nbconvert_exporter": "python",
   "pygments_lexer": "ipython3",
   "version": "3.9.16"
  },
  "orig_nbformat": 4
 },
 "nbformat": 4,
 "nbformat_minor": 2
}
