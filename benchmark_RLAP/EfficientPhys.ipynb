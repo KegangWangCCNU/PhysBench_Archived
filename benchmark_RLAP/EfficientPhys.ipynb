{
 "cells": [
  {
   "cell_type": "code",
   "execution_count": 1,
   "metadata": {},
   "outputs": [],
   "source": [
    "%load_ext autoreload\n",
    "%autoreload 2\n",
    "import sys\n",
    "sys.path.append(\"..\")\n",
    "from utils import *\n",
    "from models import *"
   ]
  },
  {
   "cell_type": "code",
   "execution_count": 2,
   "metadata": {},
   "outputs": [],
   "source": [
    "train_tape = \"Z:/rppg/ccnu_datatape_32x72x72_train.h5\"\n",
    "valid_tape = \"Z:/rppg/ccnu_datatape_32x72x72_valid.h5\"\n",
    "\n",
    "train =  load_datatape(train_tape, use_normalized_bvp=True)\n",
    "valid = load_datatape(valid_tape, use_normalized_bvp=False)\n",
    "\n",
    "def to_tf_ep(datatape, dtype=tf.float16):\n",
    "    def _():\n",
    "        for i, j in datatape:\n",
    "            j = tf.concat([j[1:]-j[:-1], [0]], axis=0)\n",
    "            yield i, j\n",
    "    return tf.data.Dataset.from_generator(lambda :_(), output_types=(dtype, dtype), output_shapes=(datatape.shape, datatape.shape[:1]))\n",
    "\n",
    "#train, valid = to_tf_ep(train).cache(f'{tmp}/ep'), to_tf_ep(valid).cache(f'{tmp}/ep')\n",
    "train, valid = to_tf_ep(train), to_tf_ep(valid)"
   ]
  },
  {
   "cell_type": "code",
   "execution_count": 12,
   "metadata": {},
   "outputs": [
    {
     "name": "stdout",
     "output_type": "stream",
     "text": [
      "Flops per frame:230341628\n",
      "Model: \"ep_4\"\n",
      "_________________________________________________________________\n",
      "Layer (type)                 Output Shape              Param #   \n",
      "=================================================================\n",
      "tsm_4 (TSM)                  multiple                  0         \n",
      "_________________________________________________________________\n",
      "conv2d_24 (Conv2D)           multiple                  896       \n",
      "_________________________________________________________________\n",
      "conv2d_25 (Conv2D)           multiple                  9248      \n",
      "_________________________________________________________________\n",
      "conv2d_26 (Conv2D)           multiple                  18496     \n",
      "_________________________________________________________________\n",
      "conv2d_27 (Conv2D)           multiple                  36928     \n",
      "_________________________________________________________________\n",
      "conv2d_28 (Conv2D)           multiple                  33        \n",
      "_________________________________________________________________\n",
      "attention_mask_4 (Attention_ multiple                  0         \n",
      "_________________________________________________________________\n",
      "conv2d_29 (Conv2D)           multiple                  65        \n",
      "_________________________________________________________________\n",
      "average_pooling2d_4 (Average multiple                  0         \n",
      "_________________________________________________________________\n",
      "dropout_8 (Dropout)          multiple                  0         \n",
      "_________________________________________________________________\n",
      "dropout_9 (Dropout)          multiple                  0         \n",
      "_________________________________________________________________\n",
      "dense_8 (Dense)              multiple                  2097280   \n",
      "_________________________________________________________________\n",
      "dense_9 (Dense)              multiple                  129       \n",
      "_________________________________________________________________\n",
      "batch_normalization_4 (Batch multiple                  12        \n",
      "_________________________________________________________________\n",
      "flatten_4 (Flatten)          multiple                  0         \n",
      "=================================================================\n",
      "Total params: 2,163,087\n",
      "Trainable params: 2,163,081\n",
      "Non-trainable params: 6\n",
      "_________________________________________________________________\n"
     ]
    }
   ],
   "source": [
    "ep = EP(n=32)\n",
    "ep.compile(optimizer='Nadam', loss='mse')\n",
    "ep.build(input_shape=(None, 72, 72, 3))\n",
    "print(f'Flops per frame:{get_flops(ep, input_sig=[tf.TensorSpec([160, 72, 72, 3])])/160:.0f}')\n",
    "ep.summary()"
   ]
  },
  {
   "cell_type": "code",
   "execution_count": null,
   "metadata": {},
   "outputs": [],
   "source": [
    "ep.fit(train.shuffle(2000), validation_data=valid, epochs=10, callbacks=[keras.callbacks.ModelCheckpoint('../weights/EfficientPhys_CCNU.h5', monitor='val_loss', verbose=1, save_best_only=True, mode='min', save_weights_only=True)])\n",
    "ep.load_weights('../weights/EfficientPhys_CCNU.h5')"
   ]
  },
  {
   "cell_type": "code",
   "execution_count": 13,
   "metadata": {},
   "outputs": [],
   "source": [
    "ep.load_weights('../weights/EfficientPhys_CCNU.h5')"
   ]
  },
  {
   "cell_type": "code",
   "execution_count": 11,
   "metadata": {},
   "outputs": [
    {
     "name": "stderr",
     "output_type": "stream",
     "text": [
      "100%|██████████| 179/179 [05:23<00:00,  1.81s/it]\n"
     ]
    },
    {
     "data": {
      "text/plain": [
       "{'Sliding window': {'MAE': 1.046, 'RMSE': 3.407, 'R': 0.94347},\n",
       " 'Whole video': {'MAE': 0.533, 'RMSE': 1.237, 'R': 0.99135}}"
      ]
     },
     "execution_count": 11,
     "metadata": {},
     "output_type": "execute_result"
    }
   ],
   "source": [
    "eval_on_dataset(test_set_CCNU, ep, 32, (72, 72), step=1, batch=0, save='../results/EfficientPhys_CCNU_CCNU.h5', sample=cv2.INTER_CUBIC, cumsum=True)\n",
    "get_metrics('../results/EfficientPhys_CCNU_CCNU.h5')"
   ]
  },
  {
   "cell_type": "code",
   "execution_count": 12,
   "metadata": {},
   "outputs": [
    {
     "data": {
      "text/plain": [
       "{'SDNN': {'MAE': 32.437, 'RMSE': 42.745, 'R': 0.52057}}"
      ]
     },
     "execution_count": 12,
     "metadata": {},
     "output_type": "execute_result"
    }
   ],
   "source": [
    "get_metrics_HRV('../results/EfficientPhys_CCNU_CCNU.h5')"
   ]
  },
  {
   "cell_type": "code",
   "execution_count": 7,
   "metadata": {},
   "outputs": [
    {
     "name": "stderr",
     "output_type": "stream",
     "text": [
      "100%|██████████| 54/54 [01:14<00:00,  1.38s/it]\n"
     ]
    },
    {
     "data": {
      "text/plain": [
       "{'Sliding window': {'MAE': 1.003, 'RMSE': 3.392, 'R': 0.93875},\n",
       " 'Whole video': {'MAE': 0.442, 'RMSE': 0.775, 'R': 0.9965}}"
      ]
     },
     "execution_count": 7,
     "metadata": {},
     "output_type": "execute_result"
    }
   ],
   "source": [
    "eval_on_dataset(test_set_CCNU_rPPG, ep, 32, (72, 72), step=1, batch=0, save='../results/EfficientPhys_CCNU_CCNU_rPPG.h5', sample=cv2.INTER_CUBIC, cumsum=True)\n",
    "get_metrics('../results/EfficientPhys_CCNU_CCNU_rPPG.h5')"
   ]
  },
  {
   "cell_type": "code",
   "execution_count": 8,
   "metadata": {},
   "outputs": [
    {
     "data": {
      "text/plain": [
       "{'SDNN': {'MAE': 43.742, 'RMSE': 53.725, 'R': 0.35571}}"
      ]
     },
     "execution_count": 8,
     "metadata": {},
     "output_type": "execute_result"
    }
   ],
   "source": [
    "get_metrics_HRV('../results/EfficientPhys_CCNU_CCNU_rPPG.h5')"
   ]
  },
  {
   "cell_type": "code",
   "execution_count": 5,
   "metadata": {},
   "outputs": [
    {
     "name": "stderr",
     "output_type": "stream",
     "text": [
      "100%|██████████| 59/59 [00:51<00:00,  1.15it/s]\n"
     ]
    },
    {
     "data": {
      "text/plain": [
       "{'Sliding window': {'MAE': 2.848, 'RMSE': 10.329, 'R': 0.90378},\n",
       " 'Whole video': {'MAE': 1.335, 'RMSE': 5.967, 'R': 0.96764}}"
      ]
     },
     "execution_count": 5,
     "metadata": {},
     "output_type": "execute_result"
    }
   ],
   "source": [
    "eval_on_dataset(test_set_PURE, ep, 32, (72, 72), step=1, batch=0, save='../results/EfficientPhys_CCNU_PURE.h5', sample=cv2.INTER_CUBIC, cumsum=True)\n",
    "get_metrics('../results/EfficientPhys_CCNU_PURE.h5')"
   ]
  },
  {
   "cell_type": "code",
   "execution_count": 9,
   "metadata": {},
   "outputs": [
    {
     "name": "stderr",
     "output_type": "stream",
     "text": [
      "x:\\Users\\wkg\\anaconda3\\envs\\dl\\lib\\site-packages\\numpy\\ma\\core.py:5288: RuntimeWarning: Mean of empty slice.\n",
      "  result = super().mean(axis=axis, dtype=dtype, **kwargs)[()]\n",
      "x:\\Users\\wkg\\anaconda3\\envs\\dl\\lib\\site-packages\\numpy\\core\\fromnumeric.py:3715: RuntimeWarning: Degrees of freedom <= 0 for slice\n",
      "  return _methods._var(a, axis=axis, dtype=dtype, out=out, ddof=ddof,\n",
      "x:\\Users\\wkg\\anaconda3\\envs\\dl\\lib\\site-packages\\numpy\\core\\fromnumeric.py:3432: RuntimeWarning: Mean of empty slice.\n",
      "  return _methods._mean(a, axis=axis, dtype=dtype,\n",
      "x:\\Users\\wkg\\anaconda3\\envs\\dl\\lib\\site-packages\\numpy\\core\\_methods.py:265: RuntimeWarning: Degrees of freedom <= 0 for slice\n",
      "  ret = _var(a, axis=axis, dtype=dtype, out=out, ddof=ddof,\n"
     ]
    },
    {
     "data": {
      "text/plain": [
       "{'SDNN': {'MAE': 27.982, 'RMSE': 44.007, 'R': 0.4679}}"
      ]
     },
     "execution_count": 9,
     "metadata": {},
     "output_type": "execute_result"
    }
   ],
   "source": [
    "get_metrics_HRV('../results/EfficientPhys_CCNU_PURE.h5')"
   ]
  },
  {
   "cell_type": "code",
   "execution_count": 14,
   "metadata": {},
   "outputs": [
    {
     "name": "stderr",
     "output_type": "stream",
     "text": [
      "100%|██████████| 42/42 [00:42<00:00,  1.01s/it]\n"
     ]
    },
    {
     "data": {
      "text/plain": [
       "{'Sliding window': {'MAE': 1.479, 'RMSE': 3.884, 'R': 0.97467},\n",
       " 'Whole video': {'MAE': 1.027, 'RMSE': 1.448, 'R': 0.99689}}"
      ]
     },
     "execution_count": 14,
     "metadata": {},
     "output_type": "execute_result"
    }
   ],
   "source": [
    "eval_on_dataset(test_set_UBFC_rPPG2, ep, 32, (72, 72), step=1, batch=0, save='../results/EfficientPhys_CCNU_UBFC.h5', sample=cv2.INTER_CUBIC, cumsum=True)\n",
    "get_metrics('../results/EfficientPhys_CCNU_UBFC.h5')"
   ]
  },
  {
   "cell_type": "code",
   "execution_count": 10,
   "metadata": {},
   "outputs": [
    {
     "data": {
      "text/plain": [
       "{'SDNN': {'MAE': 10.06, 'RMSE': 15.37, 'R': 0.827}}"
      ]
     },
     "execution_count": 10,
     "metadata": {},
     "output_type": "execute_result"
    }
   ],
   "source": [
    "get_metrics_HRV('../results/EfficientPhys_CCNU_UBFC.h5')"
   ]
  },
  {
   "cell_type": "code",
   "execution_count": 16,
   "metadata": {},
   "outputs": [
    {
     "name": "stderr",
     "output_type": "stream",
     "text": [
      "100%|██████████| 660/660 [08:56<00:00,  1.23it/s]\n"
     ]
    },
    {
     "data": {
      "text/plain": [
       "{'Sliding window': {'MAE': 1.508, 'RMSE': 5.313, 'R': 0.83583},\n",
       " 'Whole video': {'MAE': 1.577, 'RMSE': 5.404, 'R': 0.82064}}"
      ]
     },
     "execution_count": 16,
     "metadata": {},
     "output_type": "execute_result"
    }
   ],
   "source": [
    "eval_on_dataset(test_set_MMPD, ep, 32, (72, 72), step=1, batch=0, save='../results/EfficientPhys_CCNU_MMPD.h5', sample=cv2.INTER_CUBIC, cumsum=True)\n",
    "get_metrics('../results/EfficientPhys_CCNU_MMPD.h5', motion='Stationary', skin_color='3', light=['LED-high', 'LED-low', 'Incandescent'])"
   ]
  }
 ],
 "metadata": {
  "kernelspec": {
   "display_name": "dl",
   "language": "python",
   "name": "python3"
  },
  "language_info": {
   "codemirror_mode": {
    "name": "ipython",
    "version": 3
   },
   "file_extension": ".py",
   "mimetype": "text/x-python",
   "name": "python",
   "nbconvert_exporter": "python",
   "pygments_lexer": "ipython3",
   "version": "3.9.16"
  },
  "orig_nbformat": 4
 },
 "nbformat": 4,
 "nbformat_minor": 2
}
